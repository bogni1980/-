{
 "cells": [
  {
   "cell_type": "markdown",
   "metadata": {},
   "source": [
    "# Определение стоимости автомобилей"
   ]
  },
  {
   "cell_type": "markdown",
   "metadata": {},
   "source": [
    "Сервис по продаже автомобилей с пробегом «Не бит, не крашен» разрабатывает приложение для привлечения новых клиентов. В нём можно быстро узнать рыночную стоимость своего автомобиля. В вашем распоряжении исторические данные: технические характеристики, комплектации и цены автомобилей. Вам нужно построить модель для определения стоимости. \n",
    "\n",
    "Заказчику важны:\n",
    "\n",
    "- качество предсказания;\n",
    "- скорость предсказания;\n",
    "- время обучения."
   ]
  },
  {
   "cell_type": "markdown",
   "metadata": {},
   "source": [
    "## Подготовка данных"
   ]
  },
  {
   "cell_type": "code",
   "execution_count": 1,
   "metadata": {},
   "outputs": [],
   "source": [
    "import sklearn\n",
    "import numpy as np\n",
    "import pandas as pd\n",
    "import seaborn as sns\n",
    "import matplotlib.pyplot as plt\n",
    "import math\n",
    "import lightgbm as lgb\n",
    "import catboost\n",
    "from tqdm.notebook import tqdm\n",
    "\n",
    "\n",
    "from sklearn.ensemble import RandomForestRegressor, GradientBoostingRegressor\n",
    "from sklearn.model_selection import train_test_split, cross_val_score, RandomizedSearchCV, GridSearchCV\n",
    "from sklearn.tree import DecisionTreeClassifier\n",
    "from sklearn.pipeline import Pipeline\n",
    "from sklearn.preprocessing import (\n",
    "    OneHotEncoder,\n",
    "    OrdinalEncoder,\n",
    "    StandardScaler,\n",
    "    MinMaxScaler,\n",
    "    RobustScaler,\n",
    "    LabelEncoder\n",
    ")\n",
    "from sklearn.compose import ColumnTransformer\n",
    "from sklearn.impute import SimpleImputer\n",
    "from sklearn.linear_model import LogisticRegression, LinearRegression\n",
    "from lightgbm import LGBMRegressor\n",
    "from catboost import CatBoostRegressor\n",
    "from sklearn.metrics import make_scorer, mean_squared_error,mean_absolute_error\n",
    "from time import time\n",
    "\n",
    "import warnings\n",
    "warnings.filterwarnings(\"ignore\")\n",
    "\n",
    "\n",
    "try:\n",
    "    import phik\n",
    "except:\n",
    "    !pip install phik -q\n",
    "\n",
    "    \n",
    "import phik \n",
    "from phik import phik_matrix\n",
    "from phik.report import plot_correlation_matrix"
   ]
  },
  {
   "cell_type": "code",
   "execution_count": 2,
   "metadata": {},
   "outputs": [],
   "source": [
    "RANDOM_STATE = 42\n",
    "TEST_SIZE = 0.25"
   ]
  },
  {
   "cell_type": "code",
   "execution_count": 3,
   "metadata": {},
   "outputs": [],
   "source": [
    "try:\n",
    "    auto = pd.read_csv('/datasets/autos.csv')\n",
    "except:\n",
    "    auto = pd.read_csv('https://code.s3.yandex.net/datasets/autos.csv')"
   ]
  },
  {
   "cell_type": "code",
   "execution_count": 4,
   "metadata": {},
   "outputs": [
    {
     "data": {
      "text/html": [
       "<div>\n",
       "<style scoped>\n",
       "    .dataframe tbody tr th:only-of-type {\n",
       "        vertical-align: middle;\n",
       "    }\n",
       "\n",
       "    .dataframe tbody tr th {\n",
       "        vertical-align: top;\n",
       "    }\n",
       "\n",
       "    .dataframe thead th {\n",
       "        text-align: right;\n",
       "    }\n",
       "</style>\n",
       "<table border=\"1\" class=\"dataframe\">\n",
       "  <thead>\n",
       "    <tr style=\"text-align: right;\">\n",
       "      <th></th>\n",
       "      <th>DateCrawled</th>\n",
       "      <th>Price</th>\n",
       "      <th>VehicleType</th>\n",
       "      <th>RegistrationYear</th>\n",
       "      <th>Gearbox</th>\n",
       "      <th>Power</th>\n",
       "      <th>Model</th>\n",
       "      <th>Kilometer</th>\n",
       "      <th>RegistrationMonth</th>\n",
       "      <th>FuelType</th>\n",
       "      <th>Brand</th>\n",
       "      <th>Repaired</th>\n",
       "      <th>DateCreated</th>\n",
       "      <th>NumberOfPictures</th>\n",
       "      <th>PostalCode</th>\n",
       "      <th>LastSeen</th>\n",
       "    </tr>\n",
       "  </thead>\n",
       "  <tbody>\n",
       "    <tr>\n",
       "      <th>0</th>\n",
       "      <td>2016-03-24 11:52:17</td>\n",
       "      <td>480</td>\n",
       "      <td>NaN</td>\n",
       "      <td>1993</td>\n",
       "      <td>manual</td>\n",
       "      <td>0</td>\n",
       "      <td>golf</td>\n",
       "      <td>150000</td>\n",
       "      <td>0</td>\n",
       "      <td>petrol</td>\n",
       "      <td>volkswagen</td>\n",
       "      <td>NaN</td>\n",
       "      <td>2016-03-24 00:00:00</td>\n",
       "      <td>0</td>\n",
       "      <td>70435</td>\n",
       "      <td>2016-04-07 03:16:57</td>\n",
       "    </tr>\n",
       "    <tr>\n",
       "      <th>1</th>\n",
       "      <td>2016-03-24 10:58:45</td>\n",
       "      <td>18300</td>\n",
       "      <td>coupe</td>\n",
       "      <td>2011</td>\n",
       "      <td>manual</td>\n",
       "      <td>190</td>\n",
       "      <td>NaN</td>\n",
       "      <td>125000</td>\n",
       "      <td>5</td>\n",
       "      <td>gasoline</td>\n",
       "      <td>audi</td>\n",
       "      <td>yes</td>\n",
       "      <td>2016-03-24 00:00:00</td>\n",
       "      <td>0</td>\n",
       "      <td>66954</td>\n",
       "      <td>2016-04-07 01:46:50</td>\n",
       "    </tr>\n",
       "    <tr>\n",
       "      <th>2</th>\n",
       "      <td>2016-03-14 12:52:21</td>\n",
       "      <td>9800</td>\n",
       "      <td>suv</td>\n",
       "      <td>2004</td>\n",
       "      <td>auto</td>\n",
       "      <td>163</td>\n",
       "      <td>grand</td>\n",
       "      <td>125000</td>\n",
       "      <td>8</td>\n",
       "      <td>gasoline</td>\n",
       "      <td>jeep</td>\n",
       "      <td>NaN</td>\n",
       "      <td>2016-03-14 00:00:00</td>\n",
       "      <td>0</td>\n",
       "      <td>90480</td>\n",
       "      <td>2016-04-05 12:47:46</td>\n",
       "    </tr>\n",
       "    <tr>\n",
       "      <th>3</th>\n",
       "      <td>2016-03-17 16:54:04</td>\n",
       "      <td>1500</td>\n",
       "      <td>small</td>\n",
       "      <td>2001</td>\n",
       "      <td>manual</td>\n",
       "      <td>75</td>\n",
       "      <td>golf</td>\n",
       "      <td>150000</td>\n",
       "      <td>6</td>\n",
       "      <td>petrol</td>\n",
       "      <td>volkswagen</td>\n",
       "      <td>no</td>\n",
       "      <td>2016-03-17 00:00:00</td>\n",
       "      <td>0</td>\n",
       "      <td>91074</td>\n",
       "      <td>2016-03-17 17:40:17</td>\n",
       "    </tr>\n",
       "    <tr>\n",
       "      <th>4</th>\n",
       "      <td>2016-03-31 17:25:20</td>\n",
       "      <td>3600</td>\n",
       "      <td>small</td>\n",
       "      <td>2008</td>\n",
       "      <td>manual</td>\n",
       "      <td>69</td>\n",
       "      <td>fabia</td>\n",
       "      <td>90000</td>\n",
       "      <td>7</td>\n",
       "      <td>gasoline</td>\n",
       "      <td>skoda</td>\n",
       "      <td>no</td>\n",
       "      <td>2016-03-31 00:00:00</td>\n",
       "      <td>0</td>\n",
       "      <td>60437</td>\n",
       "      <td>2016-04-06 10:17:21</td>\n",
       "    </tr>\n",
       "  </tbody>\n",
       "</table>\n",
       "</div>"
      ],
      "text/plain": [
       "           DateCrawled  Price VehicleType  RegistrationYear Gearbox  Power  \\\n",
       "0  2016-03-24 11:52:17    480         NaN              1993  manual      0   \n",
       "1  2016-03-24 10:58:45  18300       coupe              2011  manual    190   \n",
       "2  2016-03-14 12:52:21   9800         suv              2004    auto    163   \n",
       "3  2016-03-17 16:54:04   1500       small              2001  manual     75   \n",
       "4  2016-03-31 17:25:20   3600       small              2008  manual     69   \n",
       "\n",
       "   Model  Kilometer  RegistrationMonth  FuelType       Brand Repaired  \\\n",
       "0   golf     150000                  0    petrol  volkswagen      NaN   \n",
       "1    NaN     125000                  5  gasoline        audi      yes   \n",
       "2  grand     125000                  8  gasoline        jeep      NaN   \n",
       "3   golf     150000                  6    petrol  volkswagen       no   \n",
       "4  fabia      90000                  7  gasoline       skoda       no   \n",
       "\n",
       "           DateCreated  NumberOfPictures  PostalCode             LastSeen  \n",
       "0  2016-03-24 00:00:00                 0       70435  2016-04-07 03:16:57  \n",
       "1  2016-03-24 00:00:00                 0       66954  2016-04-07 01:46:50  \n",
       "2  2016-03-14 00:00:00                 0       90480  2016-04-05 12:47:46  \n",
       "3  2016-03-17 00:00:00                 0       91074  2016-03-17 17:40:17  \n",
       "4  2016-03-31 00:00:00                 0       60437  2016-04-06 10:17:21  "
      ]
     },
     "metadata": {},
     "output_type": "display_data"
    },
    {
     "data": {
      "text/plain": [
       "'2016-04-07 00:00:00'"
      ]
     },
     "execution_count": 4,
     "metadata": {},
     "output_type": "execute_result"
    }
   ],
   "source": [
    "display(auto.head())\n",
    "auto['DateCreated'].max()"
   ]
  },
  {
   "cell_type": "markdown",
   "metadata": {},
   "source": [
    "Мы видим, что не все признаки важны для нашего исследования, определим какие влияют на цену и оставим их:\n",
    "\n",
    "1. Признаки\n",
    "- DateCrawled — дата скачивания анкеты из базы\n",
    "- VehicleType — тип автомобильного кузова - ВАЖЕН\n",
    "- RegistrationYear — год регистрации автомобиля - ВАЖЕН\n",
    "- Gearbox — тип коробки передач - ВАЖЕН\n",
    "- Power — мощность (л. с.) - ВАЖЕН\n",
    "- Model — модель автомобиля - ВАЖЕН\n",
    "- Kilometer — пробег (км) - ВАЖЕН\n",
    "- RegistrationMonth — месяц регистрации автомобиля\n",
    "- FuelType — тип топлива - ВАЖЕН\n",
    "- Brand — марка автомобиля - ВАЖЕН\n",
    "- Repaired — была машина в ремонте или нет -ВАЖЕН\n",
    "- DateCreated — дата создания анкеты\n",
    "- NumberOfPictures — количество фотографий автомобиля\n",
    "- PostalCode — почтовый индекс владельца анкеты (пользователя)\n",
    "- LastSeen — дата последней активности пользователя\n",
    "\n",
    "Целевой признак\n",
    "- Price — цена (евро)\n",
    "\n",
    "Оставим необходимые признаки:"
   ]
  },
  {
   "cell_type": "code",
   "execution_count": 5,
   "metadata": {},
   "outputs": [],
   "source": [
    "auto_df = auto[['VehicleType', 'RegistrationYear','Gearbox', 'Power','Model', 'Kilometer','FuelType','Brand','Repaired','Price']]"
   ]
  },
  {
   "cell_type": "markdown",
   "metadata": {},
   "source": [
    "Переведем все в змеинный стиль:"
   ]
  },
  {
   "cell_type": "code",
   "execution_count": 6,
   "metadata": {},
   "outputs": [
    {
     "data": {
      "text/plain": [
       "Index(['vehicle_type', 'registration_year', 'gearbox', 'power', 'model',\n",
       "       'kilometer', 'fuel_type', 'brand', 'repaired', 'price'],\n",
       "      dtype='object')"
      ]
     },
     "execution_count": 6,
     "metadata": {},
     "output_type": "execute_result"
    }
   ],
   "source": [
    "auto_df.columns = auto_df.columns.str.replace(r\"([A-Z])\", r\" \\1\").str.lower().str.replace(' ', '_').str[1:]\n",
    "auto_df.columns"
   ]
  },
  {
   "cell_type": "code",
   "execution_count": 7,
   "metadata": {},
   "outputs": [],
   "source": [
    "def descr (df):\n",
    "    display(df.head(5))\n",
    "    print('---------------------------------------------------------------------------------------------------------')\n",
    "    display(df.info()) \n",
    "    print('---------------------------------------------------------------------------------------------------------')\n",
    "    print(f'Количество дубликатов: {df.duplicated().sum()}')\n",
    "    print('---------------------------------------------------------------------------------------------------------')\n",
    "    print(f'Количество пропусков:  {df.isna().sum()}')\n",
    "    print('---------------------------------------------------------------------------------------------------------')\n",
    "    print(f'Размер: {df.shape}')\n",
    "    print('---------------------------------------------------------------------------------------------------------')\n",
    "    print(df.describe())"
   ]
  },
  {
   "cell_type": "code",
   "execution_count": 8,
   "metadata": {},
   "outputs": [
    {
     "data": {
      "text/html": [
       "<div>\n",
       "<style scoped>\n",
       "    .dataframe tbody tr th:only-of-type {\n",
       "        vertical-align: middle;\n",
       "    }\n",
       "\n",
       "    .dataframe tbody tr th {\n",
       "        vertical-align: top;\n",
       "    }\n",
       "\n",
       "    .dataframe thead th {\n",
       "        text-align: right;\n",
       "    }\n",
       "</style>\n",
       "<table border=\"1\" class=\"dataframe\">\n",
       "  <thead>\n",
       "    <tr style=\"text-align: right;\">\n",
       "      <th></th>\n",
       "      <th>vehicle_type</th>\n",
       "      <th>registration_year</th>\n",
       "      <th>gearbox</th>\n",
       "      <th>power</th>\n",
       "      <th>model</th>\n",
       "      <th>kilometer</th>\n",
       "      <th>fuel_type</th>\n",
       "      <th>brand</th>\n",
       "      <th>repaired</th>\n",
       "      <th>price</th>\n",
       "    </tr>\n",
       "  </thead>\n",
       "  <tbody>\n",
       "    <tr>\n",
       "      <th>0</th>\n",
       "      <td>NaN</td>\n",
       "      <td>1993</td>\n",
       "      <td>manual</td>\n",
       "      <td>0</td>\n",
       "      <td>golf</td>\n",
       "      <td>150000</td>\n",
       "      <td>petrol</td>\n",
       "      <td>volkswagen</td>\n",
       "      <td>NaN</td>\n",
       "      <td>480</td>\n",
       "    </tr>\n",
       "    <tr>\n",
       "      <th>1</th>\n",
       "      <td>coupe</td>\n",
       "      <td>2011</td>\n",
       "      <td>manual</td>\n",
       "      <td>190</td>\n",
       "      <td>NaN</td>\n",
       "      <td>125000</td>\n",
       "      <td>gasoline</td>\n",
       "      <td>audi</td>\n",
       "      <td>yes</td>\n",
       "      <td>18300</td>\n",
       "    </tr>\n",
       "    <tr>\n",
       "      <th>2</th>\n",
       "      <td>suv</td>\n",
       "      <td>2004</td>\n",
       "      <td>auto</td>\n",
       "      <td>163</td>\n",
       "      <td>grand</td>\n",
       "      <td>125000</td>\n",
       "      <td>gasoline</td>\n",
       "      <td>jeep</td>\n",
       "      <td>NaN</td>\n",
       "      <td>9800</td>\n",
       "    </tr>\n",
       "    <tr>\n",
       "      <th>3</th>\n",
       "      <td>small</td>\n",
       "      <td>2001</td>\n",
       "      <td>manual</td>\n",
       "      <td>75</td>\n",
       "      <td>golf</td>\n",
       "      <td>150000</td>\n",
       "      <td>petrol</td>\n",
       "      <td>volkswagen</td>\n",
       "      <td>no</td>\n",
       "      <td>1500</td>\n",
       "    </tr>\n",
       "    <tr>\n",
       "      <th>4</th>\n",
       "      <td>small</td>\n",
       "      <td>2008</td>\n",
       "      <td>manual</td>\n",
       "      <td>69</td>\n",
       "      <td>fabia</td>\n",
       "      <td>90000</td>\n",
       "      <td>gasoline</td>\n",
       "      <td>skoda</td>\n",
       "      <td>no</td>\n",
       "      <td>3600</td>\n",
       "    </tr>\n",
       "  </tbody>\n",
       "</table>\n",
       "</div>"
      ],
      "text/plain": [
       "  vehicle_type  registration_year gearbox  power  model  kilometer fuel_type  \\\n",
       "0          NaN               1993  manual      0   golf     150000    petrol   \n",
       "1        coupe               2011  manual    190    NaN     125000  gasoline   \n",
       "2          suv               2004    auto    163  grand     125000  gasoline   \n",
       "3        small               2001  manual     75   golf     150000    petrol   \n",
       "4        small               2008  manual     69  fabia      90000  gasoline   \n",
       "\n",
       "        brand repaired  price  \n",
       "0  volkswagen      NaN    480  \n",
       "1        audi      yes  18300  \n",
       "2        jeep      NaN   9800  \n",
       "3  volkswagen       no   1500  \n",
       "4       skoda       no   3600  "
      ]
     },
     "metadata": {},
     "output_type": "display_data"
    },
    {
     "name": "stdout",
     "output_type": "stream",
     "text": [
      "---------------------------------------------------------------------------------------------------------\n",
      "<class 'pandas.core.frame.DataFrame'>\n",
      "RangeIndex: 354369 entries, 0 to 354368\n",
      "Data columns (total 10 columns):\n",
      " #   Column             Non-Null Count   Dtype \n",
      "---  ------             --------------   ----- \n",
      " 0   vehicle_type       316879 non-null  object\n",
      " 1   registration_year  354369 non-null  int64 \n",
      " 2   gearbox            334536 non-null  object\n",
      " 3   power              354369 non-null  int64 \n",
      " 4   model              334664 non-null  object\n",
      " 5   kilometer          354369 non-null  int64 \n",
      " 6   fuel_type          321474 non-null  object\n",
      " 7   brand              354369 non-null  object\n",
      " 8   repaired           283215 non-null  object\n",
      " 9   price              354369 non-null  int64 \n",
      "dtypes: int64(4), object(6)\n",
      "memory usage: 27.0+ MB\n"
     ]
    },
    {
     "data": {
      "text/plain": [
       "None"
      ]
     },
     "metadata": {},
     "output_type": "display_data"
    },
    {
     "name": "stdout",
     "output_type": "stream",
     "text": [
      "---------------------------------------------------------------------------------------------------------\n",
      "Количество дубликатов: 45040\n",
      "---------------------------------------------------------------------------------------------------------\n",
      "Количество пропусков:  vehicle_type         37490\n",
      "registration_year        0\n",
      "gearbox              19833\n",
      "power                    0\n",
      "model                19705\n",
      "kilometer                0\n",
      "fuel_type            32895\n",
      "brand                    0\n",
      "repaired             71154\n",
      "price                    0\n",
      "dtype: int64\n",
      "---------------------------------------------------------------------------------------------------------\n",
      "Размер: (354369, 10)\n",
      "---------------------------------------------------------------------------------------------------------\n",
      "       registration_year          power      kilometer          price\n",
      "count      354369.000000  354369.000000  354369.000000  354369.000000\n",
      "mean         2004.234448     110.094337  128211.172535    4416.656776\n",
      "std            90.227958     189.850405   37905.341530    4514.158514\n",
      "min          1000.000000       0.000000    5000.000000       0.000000\n",
      "25%          1999.000000      69.000000  125000.000000    1050.000000\n",
      "50%          2003.000000     105.000000  150000.000000    2700.000000\n",
      "75%          2008.000000     143.000000  150000.000000    6400.000000\n",
      "max          9999.000000   20000.000000  150000.000000   20000.000000\n"
     ]
    }
   ],
   "source": [
    "descr(auto_df)"
   ]
  },
  {
   "cell_type": "markdown",
   "metadata": {},
   "source": [
    "После загрузки данных, оставили только признаки которые влияют на цену. Видим что в колонках Gearbox, Model, FuelType, Repaired \n",
    "есть пропущенные значение, а также большое количество дубликатов. Также строки с ценной ноль, можно удалить и те где год выпуска стоит 1000.\n",
    "\n",
    "Удалим дубликаты"
   ]
  },
  {
   "cell_type": "code",
   "execution_count": 9,
   "metadata": {
    "scrolled": true
   },
   "outputs": [],
   "source": [
    "#auto_df = auto_df.drop_duplicates()\n",
    "#auto_df.duplicated().sum()"
   ]
  },
  {
   "cell_type": "markdown",
   "metadata": {},
   "source": [
    "Рассмотрим данные на пропущенные значения"
   ]
  },
  {
   "cell_type": "code",
   "execution_count": 10,
   "metadata": {
    "scrolled": true
   },
   "outputs": [
    {
     "name": "stdout",
     "output_type": "stream",
     "text": [
      "vehicle_type         37490\n",
      "registration_year        0\n",
      "gearbox              19833\n",
      "power                    0\n",
      "model                19705\n",
      "kilometer                0\n",
      "fuel_type            32895\n",
      "brand                    0\n",
      "repaired             71154\n",
      "price                    0\n",
      "dtype: int64\n"
     ]
    },
    {
     "data": {
      "text/html": [
       "<style  type=\"text/css\" >\n",
       "#T_33d94_row0_col0{\n",
       "            background-color:  #e4d9d2;\n",
       "            color:  #000000;\n",
       "        }#T_33d94_row1_col0,#T_33d94_row3_col0,#T_33d94_row5_col0,#T_33d94_row7_col0,#T_33d94_row9_col0{\n",
       "            background-color:  #3b4cc0;\n",
       "            color:  #f1f1f1;\n",
       "        }#T_33d94_row2_col0,#T_33d94_row4_col0{\n",
       "            background-color:  #97b8ff;\n",
       "            color:  #000000;\n",
       "        }#T_33d94_row6_col0{\n",
       "            background-color:  #d3dbe7;\n",
       "            color:  #000000;\n",
       "        }#T_33d94_row8_col0{\n",
       "            background-color:  #b40426;\n",
       "            color:  #f1f1f1;\n",
       "        }</style><table id=\"T_33d94_\" ><thead>    <tr>        <th class=\"blank level0\" ></th>        <th class=\"col_heading level0 col0\" >0</th>    </tr></thead><tbody>\n",
       "                <tr>\n",
       "                        <th id=\"T_33d94_level0_row0\" class=\"row_heading level0 row0\" >vehicle_type</th>\n",
       "                        <td id=\"T_33d94_row0_col0\" class=\"data row0 col0\" >10.600000</td>\n",
       "            </tr>\n",
       "            <tr>\n",
       "                        <th id=\"T_33d94_level0_row1\" class=\"row_heading level0 row1\" >registration_year</th>\n",
       "                        <td id=\"T_33d94_row1_col0\" class=\"data row1 col0\" >0.000000</td>\n",
       "            </tr>\n",
       "            <tr>\n",
       "                        <th id=\"T_33d94_level0_row2\" class=\"row_heading level0 row2\" >gearbox</th>\n",
       "                        <td id=\"T_33d94_row2_col0\" class=\"data row2 col0\" >5.600000</td>\n",
       "            </tr>\n",
       "            <tr>\n",
       "                        <th id=\"T_33d94_level0_row3\" class=\"row_heading level0 row3\" >power</th>\n",
       "                        <td id=\"T_33d94_row3_col0\" class=\"data row3 col0\" >0.000000</td>\n",
       "            </tr>\n",
       "            <tr>\n",
       "                        <th id=\"T_33d94_level0_row4\" class=\"row_heading level0 row4\" >model</th>\n",
       "                        <td id=\"T_33d94_row4_col0\" class=\"data row4 col0\" >5.600000</td>\n",
       "            </tr>\n",
       "            <tr>\n",
       "                        <th id=\"T_33d94_level0_row5\" class=\"row_heading level0 row5\" >kilometer</th>\n",
       "                        <td id=\"T_33d94_row5_col0\" class=\"data row5 col0\" >0.000000</td>\n",
       "            </tr>\n",
       "            <tr>\n",
       "                        <th id=\"T_33d94_level0_row6\" class=\"row_heading level0 row6\" >fuel_type</th>\n",
       "                        <td id=\"T_33d94_row6_col0\" class=\"data row6 col0\" >9.300000</td>\n",
       "            </tr>\n",
       "            <tr>\n",
       "                        <th id=\"T_33d94_level0_row7\" class=\"row_heading level0 row7\" >brand</th>\n",
       "                        <td id=\"T_33d94_row7_col0\" class=\"data row7 col0\" >0.000000</td>\n",
       "            </tr>\n",
       "            <tr>\n",
       "                        <th id=\"T_33d94_level0_row8\" class=\"row_heading level0 row8\" >repaired</th>\n",
       "                        <td id=\"T_33d94_row8_col0\" class=\"data row8 col0\" >20.100000</td>\n",
       "            </tr>\n",
       "            <tr>\n",
       "                        <th id=\"T_33d94_level0_row9\" class=\"row_heading level0 row9\" >price</th>\n",
       "                        <td id=\"T_33d94_row9_col0\" class=\"data row9 col0\" >0.000000</td>\n",
       "            </tr>\n",
       "    </tbody></table>"
      ],
      "text/plain": [
       "<pandas.io.formats.style.Styler at 0x7f6e380d15b0>"
      ]
     },
     "execution_count": 10,
     "metadata": {},
     "output_type": "execute_result"
    }
   ],
   "source": [
    "print(auto_df.isna().sum())\n",
    "pd.DataFrame(round(auto_df.isna().mean()*100,1)).style.background_gradient('coolwarm')"
   ]
  },
  {
   "cell_type": "markdown",
   "metadata": {},
   "source": [
    "Мы видим , что цифры выглядившими большими в количественном отношении в процентном выглядят не так страшно.\n",
    "Изучим колонки где есть пропущенные значения чтобы решить что с ними делать."
   ]
  },
  {
   "cell_type": "code",
   "execution_count": 11,
   "metadata": {},
   "outputs": [
    {
     "data": {
      "text/html": [
       "<div>\n",
       "<style scoped>\n",
       "    .dataframe tbody tr th:only-of-type {\n",
       "        vertical-align: middle;\n",
       "    }\n",
       "\n",
       "    .dataframe tbody tr th {\n",
       "        vertical-align: top;\n",
       "    }\n",
       "\n",
       "    .dataframe thead th {\n",
       "        text-align: right;\n",
       "    }\n",
       "</style>\n",
       "<table border=\"1\" class=\"dataframe\">\n",
       "  <thead>\n",
       "    <tr style=\"text-align: right;\">\n",
       "      <th></th>\n",
       "      <th>vehicle_type</th>\n",
       "      <th>count</th>\n",
       "    </tr>\n",
       "  </thead>\n",
       "  <tbody>\n",
       "    <tr>\n",
       "      <th>0</th>\n",
       "      <td>sedan</td>\n",
       "      <td>91457</td>\n",
       "    </tr>\n",
       "    <tr>\n",
       "      <th>1</th>\n",
       "      <td>small</td>\n",
       "      <td>79831</td>\n",
       "    </tr>\n",
       "    <tr>\n",
       "      <th>2</th>\n",
       "      <td>wagon</td>\n",
       "      <td>65166</td>\n",
       "    </tr>\n",
       "    <tr>\n",
       "      <th>3</th>\n",
       "      <td>NaN</td>\n",
       "      <td>37490</td>\n",
       "    </tr>\n",
       "    <tr>\n",
       "      <th>4</th>\n",
       "      <td>bus</td>\n",
       "      <td>28775</td>\n",
       "    </tr>\n",
       "    <tr>\n",
       "      <th>5</th>\n",
       "      <td>convertible</td>\n",
       "      <td>20203</td>\n",
       "    </tr>\n",
       "    <tr>\n",
       "      <th>6</th>\n",
       "      <td>coupe</td>\n",
       "      <td>16163</td>\n",
       "    </tr>\n",
       "    <tr>\n",
       "      <th>7</th>\n",
       "      <td>suv</td>\n",
       "      <td>11996</td>\n",
       "    </tr>\n",
       "    <tr>\n",
       "      <th>8</th>\n",
       "      <td>other</td>\n",
       "      <td>3288</td>\n",
       "    </tr>\n",
       "  </tbody>\n",
       "</table>\n",
       "</div>"
      ],
      "text/plain": [
       "  vehicle_type  count\n",
       "0        sedan  91457\n",
       "1        small  79831\n",
       "2        wagon  65166\n",
       "3          NaN  37490\n",
       "4          bus  28775\n",
       "5  convertible  20203\n",
       "6        coupe  16163\n",
       "7          suv  11996\n",
       "8        other   3288"
      ]
     },
     "metadata": {},
     "output_type": "display_data"
    }
   ],
   "source": [
    "display(auto_df['vehicle_type']\n",
    "        .value_counts(dropna=False)\n",
    "        .to_frame()\n",
    "        .reset_index()\n",
    "        .rename(columns = {'vehicle_type':'count', 'index':'vehicle_type'}))"
   ]
  },
  {
   "cell_type": "markdown",
   "metadata": {},
   "source": [
    "В данном случае заменим Nan на unknown"
   ]
  },
  {
   "cell_type": "code",
   "execution_count": 12,
   "metadata": {},
   "outputs": [],
   "source": [
    "auto_df.fillna({'vehicle_type':'no_info'}, inplace=True)"
   ]
  },
  {
   "cell_type": "code",
   "execution_count": 13,
   "metadata": {},
   "outputs": [
    {
     "data": {
      "text/html": [
       "<div>\n",
       "<style scoped>\n",
       "    .dataframe tbody tr th:only-of-type {\n",
       "        vertical-align: middle;\n",
       "    }\n",
       "\n",
       "    .dataframe tbody tr th {\n",
       "        vertical-align: top;\n",
       "    }\n",
       "\n",
       "    .dataframe thead th {\n",
       "        text-align: right;\n",
       "    }\n",
       "</style>\n",
       "<table border=\"1\" class=\"dataframe\">\n",
       "  <thead>\n",
       "    <tr style=\"text-align: right;\">\n",
       "      <th></th>\n",
       "      <th>gearbox</th>\n",
       "      <th>count</th>\n",
       "    </tr>\n",
       "  </thead>\n",
       "  <tbody>\n",
       "    <tr>\n",
       "      <th>0</th>\n",
       "      <td>manual</td>\n",
       "      <td>268251</td>\n",
       "    </tr>\n",
       "    <tr>\n",
       "      <th>1</th>\n",
       "      <td>auto</td>\n",
       "      <td>66285</td>\n",
       "    </tr>\n",
       "    <tr>\n",
       "      <th>2</th>\n",
       "      <td>NaN</td>\n",
       "      <td>19833</td>\n",
       "    </tr>\n",
       "  </tbody>\n",
       "</table>\n",
       "</div>"
      ],
      "text/plain": [
       "  gearbox   count\n",
       "0  manual  268251\n",
       "1    auto   66285\n",
       "2     NaN   19833"
      ]
     },
     "metadata": {},
     "output_type": "display_data"
    }
   ],
   "source": [
    "display(auto_df['gearbox']\n",
    "        .value_counts(dropna=False)\n",
    "        .to_frame()\n",
    "        .reset_index()\n",
    "        .rename(columns = {'gearbox':'count', 'index':'gearbox'}))"
   ]
  },
  {
   "cell_type": "code",
   "execution_count": 14,
   "metadata": {},
   "outputs": [],
   "source": [
    "auto_df.fillna({'gearbox':'no_info'}, inplace=True)"
   ]
  },
  {
   "cell_type": "code",
   "execution_count": 15,
   "metadata": {},
   "outputs": [
    {
     "data": {
      "text/html": [
       "<div>\n",
       "<style scoped>\n",
       "    .dataframe tbody tr th:only-of-type {\n",
       "        vertical-align: middle;\n",
       "    }\n",
       "\n",
       "    .dataframe tbody tr th {\n",
       "        vertical-align: top;\n",
       "    }\n",
       "\n",
       "    .dataframe thead th {\n",
       "        text-align: right;\n",
       "    }\n",
       "</style>\n",
       "<table border=\"1\" class=\"dataframe\">\n",
       "  <thead>\n",
       "    <tr style=\"text-align: right;\">\n",
       "      <th></th>\n",
       "      <th>model</th>\n",
       "      <th>count</th>\n",
       "    </tr>\n",
       "  </thead>\n",
       "  <tbody>\n",
       "    <tr>\n",
       "      <th>0</th>\n",
       "      <td>golf</td>\n",
       "      <td>29232</td>\n",
       "    </tr>\n",
       "    <tr>\n",
       "      <th>1</th>\n",
       "      <td>other</td>\n",
       "      <td>24421</td>\n",
       "    </tr>\n",
       "    <tr>\n",
       "      <th>2</th>\n",
       "      <td>3er</td>\n",
       "      <td>19761</td>\n",
       "    </tr>\n",
       "    <tr>\n",
       "      <th>3</th>\n",
       "      <td>NaN</td>\n",
       "      <td>19705</td>\n",
       "    </tr>\n",
       "    <tr>\n",
       "      <th>4</th>\n",
       "      <td>polo</td>\n",
       "      <td>13066</td>\n",
       "    </tr>\n",
       "    <tr>\n",
       "      <th>...</th>\n",
       "      <td>...</td>\n",
       "      <td>...</td>\n",
       "    </tr>\n",
       "    <tr>\n",
       "      <th>246</th>\n",
       "      <td>i3</td>\n",
       "      <td>8</td>\n",
       "    </tr>\n",
       "    <tr>\n",
       "      <th>247</th>\n",
       "      <td>serie_3</td>\n",
       "      <td>4</td>\n",
       "    </tr>\n",
       "    <tr>\n",
       "      <th>248</th>\n",
       "      <td>rangerover</td>\n",
       "      <td>4</td>\n",
       "    </tr>\n",
       "    <tr>\n",
       "      <th>249</th>\n",
       "      <td>range_rover_evoque</td>\n",
       "      <td>2</td>\n",
       "    </tr>\n",
       "    <tr>\n",
       "      <th>250</th>\n",
       "      <td>serie_1</td>\n",
       "      <td>2</td>\n",
       "    </tr>\n",
       "  </tbody>\n",
       "</table>\n",
       "<p>251 rows × 2 columns</p>\n",
       "</div>"
      ],
      "text/plain": [
       "                  model  count\n",
       "0                  golf  29232\n",
       "1                 other  24421\n",
       "2                   3er  19761\n",
       "3                   NaN  19705\n",
       "4                  polo  13066\n",
       "..                  ...    ...\n",
       "246                  i3      8\n",
       "247             serie_3      4\n",
       "248          rangerover      4\n",
       "249  range_rover_evoque      2\n",
       "250             serie_1      2\n",
       "\n",
       "[251 rows x 2 columns]"
      ]
     },
     "metadata": {},
     "output_type": "display_data"
    }
   ],
   "source": [
    "display(auto_df['model']\n",
    "        .value_counts(dropna=False)\n",
    "        .to_frame()\n",
    "        .reset_index()\n",
    "        .rename(columns = {'model':'count', 'index':'model'}))"
   ]
  },
  {
   "cell_type": "code",
   "execution_count": 16,
   "metadata": {},
   "outputs": [],
   "source": [
    "auto_df.fillna({'model':'no_info'}, inplace=True)"
   ]
  },
  {
   "cell_type": "code",
   "execution_count": 17,
   "metadata": {},
   "outputs": [
    {
     "data": {
      "text/html": [
       "<div>\n",
       "<style scoped>\n",
       "    .dataframe tbody tr th:only-of-type {\n",
       "        vertical-align: middle;\n",
       "    }\n",
       "\n",
       "    .dataframe tbody tr th {\n",
       "        vertical-align: top;\n",
       "    }\n",
       "\n",
       "    .dataframe thead th {\n",
       "        text-align: right;\n",
       "    }\n",
       "</style>\n",
       "<table border=\"1\" class=\"dataframe\">\n",
       "  <thead>\n",
       "    <tr style=\"text-align: right;\">\n",
       "      <th></th>\n",
       "      <th>fuel_type</th>\n",
       "      <th>count</th>\n",
       "    </tr>\n",
       "  </thead>\n",
       "  <tbody>\n",
       "    <tr>\n",
       "      <th>0</th>\n",
       "      <td>petrol</td>\n",
       "      <td>216352</td>\n",
       "    </tr>\n",
       "    <tr>\n",
       "      <th>1</th>\n",
       "      <td>gasoline</td>\n",
       "      <td>98720</td>\n",
       "    </tr>\n",
       "    <tr>\n",
       "      <th>2</th>\n",
       "      <td>NaN</td>\n",
       "      <td>32895</td>\n",
       "    </tr>\n",
       "    <tr>\n",
       "      <th>3</th>\n",
       "      <td>lpg</td>\n",
       "      <td>5310</td>\n",
       "    </tr>\n",
       "    <tr>\n",
       "      <th>4</th>\n",
       "      <td>cng</td>\n",
       "      <td>565</td>\n",
       "    </tr>\n",
       "    <tr>\n",
       "      <th>5</th>\n",
       "      <td>hybrid</td>\n",
       "      <td>233</td>\n",
       "    </tr>\n",
       "    <tr>\n",
       "      <th>6</th>\n",
       "      <td>other</td>\n",
       "      <td>204</td>\n",
       "    </tr>\n",
       "    <tr>\n",
       "      <th>7</th>\n",
       "      <td>electric</td>\n",
       "      <td>90</td>\n",
       "    </tr>\n",
       "  </tbody>\n",
       "</table>\n",
       "</div>"
      ],
      "text/plain": [
       "  fuel_type   count\n",
       "0    petrol  216352\n",
       "1  gasoline   98720\n",
       "2       NaN   32895\n",
       "3       lpg    5310\n",
       "4       cng     565\n",
       "5    hybrid     233\n",
       "6     other     204\n",
       "7  electric      90"
      ]
     },
     "metadata": {},
     "output_type": "display_data"
    }
   ],
   "source": [
    "display(auto_df['fuel_type']\n",
    "        .value_counts(dropna=False)\n",
    "        .to_frame()\n",
    "        .reset_index()\n",
    "        .rename(columns = {'fuel_type':'count', 'index':'fuel_type'}))"
   ]
  },
  {
   "cell_type": "code",
   "execution_count": 18,
   "metadata": {},
   "outputs": [],
   "source": [
    "auto_df.fillna({'fuel_type':'no_info'}, inplace=True)"
   ]
  },
  {
   "cell_type": "code",
   "execution_count": 19,
   "metadata": {},
   "outputs": [
    {
     "data": {
      "text/html": [
       "<div>\n",
       "<style scoped>\n",
       "    .dataframe tbody tr th:only-of-type {\n",
       "        vertical-align: middle;\n",
       "    }\n",
       "\n",
       "    .dataframe tbody tr th {\n",
       "        vertical-align: top;\n",
       "    }\n",
       "\n",
       "    .dataframe thead th {\n",
       "        text-align: right;\n",
       "    }\n",
       "</style>\n",
       "<table border=\"1\" class=\"dataframe\">\n",
       "  <thead>\n",
       "    <tr style=\"text-align: right;\">\n",
       "      <th></th>\n",
       "      <th>repaired</th>\n",
       "      <th>count</th>\n",
       "    </tr>\n",
       "  </thead>\n",
       "  <tbody>\n",
       "    <tr>\n",
       "      <th>0</th>\n",
       "      <td>no</td>\n",
       "      <td>247161</td>\n",
       "    </tr>\n",
       "    <tr>\n",
       "      <th>1</th>\n",
       "      <td>NaN</td>\n",
       "      <td>71154</td>\n",
       "    </tr>\n",
       "    <tr>\n",
       "      <th>2</th>\n",
       "      <td>yes</td>\n",
       "      <td>36054</td>\n",
       "    </tr>\n",
       "  </tbody>\n",
       "</table>\n",
       "</div>"
      ],
      "text/plain": [
       "  repaired   count\n",
       "0       no  247161\n",
       "1      NaN   71154\n",
       "2      yes   36054"
      ]
     },
     "metadata": {},
     "output_type": "display_data"
    }
   ],
   "source": [
    "display(auto_df['repaired']\n",
    "        .value_counts(dropna=False)\n",
    "        .to_frame()\n",
    "        .reset_index()\n",
    "        .rename(columns = {'repaired':'count', 'index':'repaired'}))"
   ]
  },
  {
   "cell_type": "markdown",
   "metadata": {},
   "source": [
    "Учитывая что большинство поддержаных авто не было в авариях здесь пропуски решили присоединить к категории \"no\""
   ]
  },
  {
   "cell_type": "code",
   "execution_count": 20,
   "metadata": {},
   "outputs": [],
   "source": [
    "auto_df.fillna({'repaired':'no'}, inplace=True)"
   ]
  },
  {
   "cell_type": "markdown",
   "metadata": {},
   "source": [
    "Изучим целевой признак 'price'"
   ]
  },
  {
   "cell_type": "code",
   "execution_count": 21,
   "metadata": {},
   "outputs": [],
   "source": [
    "def hist_box(df,col):\n",
    "    fig, axs = plt.subplots(ncols=2,figsize=(16,8))\n",
    "    sns.set(font_scale=1.10)\n",
    "    distplot = sns.distplot(df[col],ax=axs[0], color='green').set_title(f'Распределение {col}',fontsize=20);\n",
    "    sns.boxplot(df[col], ax=axs[1]).set_title(f'Ящик с усами {col}',fontsize=20); \n",
    "    \n",
    "    print(df[col].describe()) "
   ]
  },
  {
   "cell_type": "markdown",
   "metadata": {},
   "source": [
    "Оставим данные где цена выше ноля:"
   ]
  },
  {
   "cell_type": "code",
   "execution_count": 22,
   "metadata": {},
   "outputs": [
    {
     "name": "stdout",
     "output_type": "stream",
     "text": [
      "Колличество объявлений с нулевой ценой: 10772\n"
     ]
    }
   ],
   "source": [
    "print(\"Колличество объявлений с нулевой ценой:\",len(auto_df.loc[auto_df['price'] == 0]))"
   ]
  },
  {
   "cell_type": "code",
   "execution_count": 23,
   "metadata": {},
   "outputs": [
    {
     "data": {
      "text/plain": [
       "0.05      200.0\n",
       "1.00    20000.0\n",
       "Name: price, dtype: float64"
      ]
     },
     "execution_count": 23,
     "metadata": {},
     "output_type": "execute_result"
    }
   ],
   "source": [
    "auto_df.price.quantile([0.05, 1])"
   ]
  },
  {
   "cell_type": "code",
   "execution_count": 24,
   "metadata": {},
   "outputs": [],
   "source": [
    "auto_df = auto_df.query('price > 1000')"
   ]
  },
  {
   "cell_type": "code",
   "execution_count": 25,
   "metadata": {
    "scrolled": false
   },
   "outputs": [
    {
     "name": "stdout",
     "output_type": "stream",
     "text": [
      "count    266394.000000\n",
      "mean       5699.998416\n",
      "std        4520.785920\n",
      "min        1001.000000\n",
      "25%        2200.000000\n",
      "50%        4000.000000\n",
      "75%        7950.000000\n",
      "max       20000.000000\n",
      "Name: price, dtype: float64\n"
     ]
    },
    {
     "data": {
      "image/png": "[encoded data removed]",
      "text/plain": [
       "<Figure size 1152x576 with 2 Axes>"
      ]
     },
     "metadata": {
      "needs_background": "light"
     },
     "output_type": "display_data"
    }
   ],
   "source": [
    "hist_box(auto_df, 'price')"
   ]
  },
  {
   "cell_type": "markdown",
   "metadata": {
    "scrolled": false
   },
   "source": [
    "Изучив признак 'price' мы видим, что количество объявлений с нулевой ценой: 8904, мы их удалили так как это явная ошибка к тому же в общем количестве их число незначительно. Также рассчитали 0,05 квантиль.\n",
    "\n",
    "Теперь исследуем признак registration_year.\n",
    "\n",
    "Мы видим что минимальные значения это 1000 год а максимальные 9999 год. Логично будет начать с 1910 года(год появления авто) и до 2024 года. "
   ]
  },
  {
   "cell_type": "code",
   "execution_count": 26,
   "metadata": {},
   "outputs": [],
   "source": [
    "auto_df = auto_df.query('registration_year >= 1910 and registration_year <= 2024')"
   ]
  },
  {
   "cell_type": "code",
   "execution_count": 27,
   "metadata": {
    "scrolled": true
   },
   "outputs": [
    {
     "name": "stdout",
     "output_type": "stream",
     "text": [
      "count    266337.000000\n",
      "mean       2004.220277\n",
      "std           7.050024\n",
      "min        1910.000000\n",
      "25%        2001.000000\n",
      "50%        2005.000000\n",
      "75%        2008.000000\n",
      "max        2019.000000\n",
      "Name: registration_year, dtype: float64\n"
     ]
    },
    {
     "data": {
      "image/png": "[encoded data removed]",
      "text/plain": [
       "<Figure size 1152x576 with 2 Axes>"
      ]
     },
     "metadata": {},
     "output_type": "display_data"
    }
   ],
   "source": [
    "hist_box(auto_df, 'registration_year')"
   ]
  },
  {
   "cell_type": "markdown",
   "metadata": {},
   "source": [
    "После изучения графиков, видим что максимальный год 2016 c корректировкой на последний год публикации а минимальный год, целесобразно для нашего исследования взять 1980 год. Во-первых все что старше единичные выбросы, во-вторых старше 1980 уже антиквариат.   "
   ]
  },
  {
   "cell_type": "code",
   "execution_count": 28,
   "metadata": {},
   "outputs": [],
   "source": [
    "auto_df = auto_df.query('registration_year >= 1980 and registration_year <= 2016')"
   ]
  },
  {
   "cell_type": "markdown",
   "metadata": {},
   "source": [
    "Исследуем признак power.\n",
    "\n",
    "Из источников известно, что минимальная мощьность автомобиля 13 л/с, а максимальная 1600 л/с, при этом на российском рынке не было в продаже мощнее 650 л/с. Поэтому оставим от 13 до 650 л\\с."
   ]
  },
  {
   "cell_type": "code",
   "execution_count": 29,
   "metadata": {},
   "outputs": [],
   "source": [
    "auto_df = auto_df.query('power >= 13 and power <= 650')"
   ]
  },
  {
   "cell_type": "code",
   "execution_count": 30,
   "metadata": {
    "scrolled": true
   },
   "outputs": [
    {
     "name": "stdout",
     "output_type": "stream",
     "text": [
      "count    235677.000000\n",
      "mean        129.072230\n",
      "std          54.257379\n",
      "min          13.000000\n",
      "25%          90.000000\n",
      "50%         120.000000\n",
      "75%         155.000000\n",
      "max         650.000000\n",
      "Name: power, dtype: float64\n"
     ]
    },
    {
     "data": {
      "image/png": "[encoded data removed]",
      "text/plain": [
       "<Figure size 1152x576 with 2 Axes>"
      ]
     },
     "metadata": {},
     "output_type": "display_data"
    }
   ],
   "source": [
    "hist_box(auto_df, 'power')"
   ]
  },
  {
   "cell_type": "code",
   "execution_count": 31,
   "metadata": {},
   "outputs": [],
   "source": [
    "interval_cols = ['price', 'power']"
   ]
  },
  {
   "cell_type": "code",
   "execution_count": 32,
   "metadata": {},
   "outputs": [
    {
     "data": {
      "image/png": "[encoded data removed]",
      "text/plain": [
       "<Figure size 720x576 with 2 Axes>"
      ]
     },
     "metadata": {},
     "output_type": "display_data"
    }
   ],
   "source": [
    "fig, axes = plt.subplots(figsize=(10, 8))\n",
    "sns.heatmap(auto_df.phik_matrix(interval_cols = interval_cols),\n",
    "            annot = True,\n",
    "            fmt = '.2f',\n",
    "            cmap='Greens',\n",
    "            ax = axes)\n",
    "plt.title(r'correlation $\\phi_K$')\n",
    "plt.show()"
   ]
  },
  {
   "cell_type": "code",
   "execution_count": 33,
   "metadata": {},
   "outputs": [],
   "source": [
    "auto_df = auto_df.drop(['vehicle_type', 'brand'], axis=1)"
   ]
  },
  {
   "cell_type": "markdown",
   "metadata": {},
   "source": [
    "При предобработке данных мы выполнили следующие действия:\n",
    "1. Прежде всего выявили важные и необходимые признаки для нашего исследования:\n",
    "\n",
    " Признаки\n",
    "- DateCrawled — дата скачивания анкеты из базы\n",
    "- VehicleType — тип автомобильного кузова - ВАЖЕН\n",
    "- RegistrationYear — год регистрации автомобиля - ВАЖЕН\n",
    "- Gearbox — тип коробки передач - ВАЖЕН\n",
    "- Power — мощность (л. с.) - ВАЖЕН\n",
    "- Model — модель автомобиля - ВАЖЕН\n",
    "- Kilometer — пробег (км) - ВАЖЕН\n",
    "- RegistrationMonth — месяц регистрации автомобиля\n",
    "- FuelType — тип топлива - ВАЖЕН\n",
    "- Brand — марка автомобиля - ВАЖЕН\n",
    "- Repaired — была машина в ремонте или нет -ВАЖЕН\n",
    "- DateCreated — дата создания анкеты\n",
    "- NumberOfPictures — количество фотографий автомобиля\n",
    "- PostalCode — почтовый индекс владельца анкеты (пользователя)\n",
    "- LastSeen — дата последней активности пользователя\n",
    "\n",
    "Целевой признак\n",
    "- Price — цена (евро)\n",
    "\n",
    "2. Следующим шагом удалили дубликаты и заменили пропущенные значения на unknown , только в колонке 'repaired' пропуски решили присоединить к категории \"no\" .\n",
    "\n",
    "3. В  целевом признаке 'price' мы убрали нулевые значение, а также выявили 0,05 перцентиль, для дальнейшей работы. Изучив признак 'price' мы видим, что количество объявлений с нулевой ценой: 8904, мы их удалили так как это явная ошибка к тому же в общем количестве их число незначительно.\n",
    "\n",
    "4. В признаке registration_year, мы видим что минимальные значения это 1000 год а максимальные 9999 год. Логично будет начать с 1910 года(год появления авто) и до 2024 года.\n",
    "Но После изучения графиков, видим что максимальный год 2016 и минимальный, целесобразно для нашего исследования взять 1980 год. Во-первых все что старше единичные выбросы, во-вторых старше 1980 уже антиквариат. \n",
    "\n",
    "5. Признак power.\n",
    "\n",
    "Из источников известно, что минимальная мощность автомобиля 13 л/с, а максимальная 1600 л/с, при этом на российском рынке не было в продаже мощнее 650 л/с. Поэтому оставим от 13 до 650 л\\с. "
   ]
  },
  {
   "cell_type": "markdown",
   "metadata": {},
   "source": [
    "## Обучение моделей"
   ]
  },
  {
   "cell_type": "markdown",
   "metadata": {},
   "source": [
    "Выделим числовые и категориальные признаки:"
   ]
  },
  {
   "cell_type": "code",
   "execution_count": 34,
   "metadata": {},
   "outputs": [],
   "source": [
    "auto_df = auto_df.drop_duplicates()\n"
   ]
  },
  {
   "cell_type": "markdown",
   "metadata": {},
   "source": [
    "Делим на выборки:"
   ]
  },
  {
   "cell_type": "code",
   "execution_count": 35,
   "metadata": {},
   "outputs": [],
   "source": [
    "X = auto_df.drop('price', axis=1)\n",
    "y = auto_df['price']"
   ]
  },
  {
   "cell_type": "code",
   "execution_count": 36,
   "metadata": {},
   "outputs": [
    {
     "name": "stdout",
     "output_type": "stream",
     "text": [
      "['registration_year', 'power', 'kilometer']\n",
      "['gearbox', 'model', 'fuel_type', 'repaired']\n"
     ]
    }
   ],
   "source": [
    "num_col = X.select_dtypes(include='number').columns.tolist()\n",
    "cat_col = X.select_dtypes(exclude='number').columns.tolist()\n",
    "\n",
    "print(num_col)\n",
    "print(cat_col)"
   ]
  },
  {
   "cell_type": "code",
   "execution_count": 37,
   "metadata": {},
   "outputs": [],
   "source": [
    "X_train, X_test, y_train, y_test = train_test_split(\n",
    "    X,\n",
    "    y,\n",
    "    test_size = TEST_SIZE,\n",
    "    random_state = RANDOM_STATE\n",
    ")\n",
    "ohe_columns = ['model', 'gearbox', 'repaired','fuel_type']\n",
    "num_columns = num_col"
   ]
  },
  {
   "cell_type": "code",
   "execution_count": 60,
   "metadata": {},
   "outputs": [],
   "source": [
    "ohe_pipe = Pipeline(\n",
    "    [(\n",
    "        'simpleImputer_ohe',\n",
    "        SimpleImputer(\n",
    "            missing_values=np.nan,\n",
    "            strategy='most_frequent'\n",
    "        )\n",
    "    ),\n",
    "     (\n",
    "         'ohe',\n",
    "         OneHotEncoder(\n",
    "             drop='first',\n",
    "             handle_unknown='ignore',\n",
    "             sparse=False\n",
    "         )\n",
    "     )\n",
    "    ]\n",
    ")"
   ]
  },
  {
   "cell_type": "code",
   "execution_count": 39,
   "metadata": {},
   "outputs": [],
   "source": [
    "data_preprocessor = ColumnTransformer(\n",
    "    [\n",
    "        ('ohe', ohe_pipe, ohe_columns),\n",
    "        #('ord', ord_pipe, ord_columns),\n",
    "        ('num', StandardScaler(), num_columns)\n",
    "    ],\n",
    "    remainder='passthrough'\n",
    ")"
   ]
  },
  {
   "cell_type": "code",
   "execution_count": 40,
   "metadata": {},
   "outputs": [],
   "source": [
    "pipe_final = Pipeline([\n",
    "    ('preprocessor', data_preprocessor),\n",
    "    ('models', LinearRegression()\n",
    "    )\n",
    "])"
   ]
  },
  {
   "cell_type": "markdown",
   "metadata": {},
   "source": [
    "LinearRegression"
   ]
  },
  {
   "cell_type": "code",
   "execution_count": 41,
   "metadata": {},
   "outputs": [],
   "source": [
    "param_grid = [\n",
    "    \n",
    "    # словарь для модели LinearRegression()\n",
    "    {\n",
    "        'models': [LinearRegression()],  \n",
    "        \n",
    "        'preprocessor__num': [StandardScaler(), MinMaxScaler(), 'passthrough']  \n",
    "    }\n",
    "]"
   ]
  },
  {
   "cell_type": "code",
   "execution_count": 42,
   "metadata": {},
   "outputs": [],
   "source": [
    "randomized_search = RandomizedSearchCV(\n",
    "    pipe_final,\n",
    "    param_grid,\n",
    "    cv = 5,\n",
    "    n_iter=5,\n",
    "    scoring = 'neg_root_mean_squared_error',\n",
    "    random_state = RANDOM_STATE,\n",
    "    n_jobs = -1\n",
    ")"
   ]
  },
  {
   "cell_type": "code",
   "execution_count": 43,
   "metadata": {},
   "outputs": [
    {
     "data": {
      "text/plain": [
       "RandomizedSearchCV(cv=5,\n",
       "                   estimator=Pipeline(steps=[('preprocessor',\n",
       "                                              ColumnTransformer(remainder='passthrough',\n",
       "                                                                transformers=[('ohe',\n",
       "                                                                               Pipeline(steps=[('simpleImputer_ohe',\n",
       "                                                                                                SimpleImputer(strategy='most_frequent')),\n",
       "                                                                                               ('ohe',\n",
       "                                                                                                OneHotEncoder(drop='first',\n",
       "                                                                                                              sparse=False))]),\n",
       "                                                                               ['model',\n",
       "                                                                                'gearbox',\n",
       "                                                                                'repaired',\n",
       "                                                                                'fuel_type']),\n",
       "                                                                              ('num',\n",
       "                                                                               StandardScaler(),\n",
       "                                                                               ['registration_year',\n",
       "                                                                                'power',\n",
       "                                                                                'kilometer'])])),\n",
       "                                             ('models', LinearRegression())]),\n",
       "                   n_iter=5, n_jobs=-1,\n",
       "                   param_distributions=[{'models': [LinearRegression()],\n",
       "                                         'preprocessor__num': [StandardScaler(),\n",
       "                                                               MinMaxScaler(),\n",
       "                                                               'passthrough']}],\n",
       "                   random_state=42, scoring='neg_root_mean_squared_error')"
      ]
     },
     "execution_count": 43,
     "metadata": {},
     "output_type": "execute_result"
    }
   ],
   "source": [
    "randomized_search.fit(X_train, y_train)"
   ]
  },
  {
   "cell_type": "code",
   "execution_count": 45,
   "metadata": {},
   "outputs": [],
   "source": [
    "bm = []\n",
    "bm.append(randomized_search)"
   ]
  },
  {
   "cell_type": "markdown",
   "metadata": {},
   "source": [
    " LightGBM"
   ]
  },
  {
   "cell_type": "code",
   "execution_count": 46,
   "metadata": {},
   "outputs": [],
   "source": [
    "X_train[cat_col] = X_train[cat_col].astype('category')\n",
    "X_test[cat_col] = X_test[cat_col].astype('category')"
   ]
  },
  {
   "cell_type": "code",
   "execution_count": 47,
   "metadata": {},
   "outputs": [],
   "source": [
    "lgbm_model = LGBMRegressor(objective='root_mean_squared_error',\n",
    "                           random_state=RANDOM_STATE,\n",
    "                           verbose=-1)"
   ]
  },
  {
   "cell_type": "code",
   "execution_count": 48,
   "metadata": {},
   "outputs": [
    {
     "data": {
      "text/plain": [
       "RandomizedSearchCV(cv=5,\n",
       "                   estimator=LGBMRegressor(objective='root_mean_squared_error',\n",
       "                                           random_state=42, verbose=-1),\n",
       "                   n_iter=5,\n",
       "                   param_distributions={'learning_rate': [0.1, 0.3, 0.5, 1],\n",
       "                                        'max_depth': [1, 2, 6]},\n",
       "                   scoring='neg_root_mean_squared_error')"
      ]
     },
     "execution_count": 48,
     "metadata": {},
     "output_type": "execute_result"
    }
   ],
   "source": [
    "param_grid = {\n",
    "    'learning_rate': [0.1, 0.3, 0.5, 1],  \n",
    "    'max_depth': [1, 2, 6]\n",
    "}\n",
    "\n",
    "random_search_lgbm = RandomizedSearchCV(\n",
    "    estimator=lgbm_model, \n",
    "    param_distributions=param_grid, \n",
    "    scoring='neg_root_mean_squared_error', \n",
    "    cv=5,\n",
    "    n_iter=5\n",
    ")\n",
    "\n",
    "random_search_lgbm.fit(X_train, y_train)"
   ]
  },
  {
   "cell_type": "code",
   "execution_count": 49,
   "metadata": {},
   "outputs": [],
   "source": [
    "bm.append(random_search_lgbm)"
   ]
  },
  {
   "cell_type": "markdown",
   "metadata": {},
   "source": [
    "CatBoost"
   ]
  },
  {
   "cell_type": "code",
   "execution_count": 50,
   "metadata": {},
   "outputs": [],
   "source": [
    "catboost_model = CatBoostRegressor(verbose=100,\n",
    "                                   cat_features=cat_col,\n",
    "                                   random_state=RANDOM_STATE)"
   ]
  },
  {
   "cell_type": "code",
   "execution_count": 51,
   "metadata": {},
   "outputs": [
    {
     "name": "stdout",
     "output_type": "stream",
     "text": [
      "0:\tlearn: 3852.0695752\ttotal: 141ms\tremaining: 2m 21s\n",
      "100:\tlearn: 1855.7661661\ttotal: 6.36s\tremaining: 56.7s\n",
      "200:\tlearn: 1801.8015527\ttotal: 12.2s\tremaining: 48.5s\n",
      "300:\tlearn: 1772.8721766\ttotal: 18.4s\tremaining: 42.7s\n",
      "400:\tlearn: 1750.4628000\ttotal: 24.5s\tremaining: 36.6s\n",
      "500:\tlearn: 1731.9423025\ttotal: 30.4s\tremaining: 30.3s\n",
      "600:\tlearn: 1717.5003051\ttotal: 36.5s\tremaining: 24.2s\n",
      "700:\tlearn: 1705.1662878\ttotal: 42.6s\tremaining: 18.2s\n",
      "800:\tlearn: 1694.9687163\ttotal: 48.5s\tremaining: 12.1s\n",
      "900:\tlearn: 1683.8565921\ttotal: 54.5s\tremaining: 5.99s\n",
      "999:\tlearn: 1675.8106802\ttotal: 1m\tremaining: 0us\n",
      "0:\tlearn: 3861.3576147\ttotal: 84.5ms\tremaining: 1m 24s\n",
      "100:\tlearn: 1860.5348294\ttotal: 5.97s\tremaining: 53.2s\n",
      "200:\tlearn: 1804.4291823\ttotal: 11.8s\tremaining: 46.8s\n",
      "300:\tlearn: 1773.2303342\ttotal: 17.6s\tremaining: 40.9s\n",
      "400:\tlearn: 1751.9699690\ttotal: 23.5s\tremaining: 35s\n",
      "500:\tlearn: 1734.5366503\ttotal: 29.5s\tremaining: 29.4s\n",
      "600:\tlearn: 1720.0728588\ttotal: 35.6s\tremaining: 23.6s\n",
      "700:\tlearn: 1708.6736359\ttotal: 41.7s\tremaining: 17.8s\n",
      "800:\tlearn: 1698.4609991\ttotal: 47.4s\tremaining: 11.8s\n",
      "900:\tlearn: 1689.2703447\ttotal: 53.4s\tremaining: 5.86s\n",
      "999:\tlearn: 1681.2767163\ttotal: 59s\tremaining: 0us\n",
      "0:\tlearn: 3835.3481334\ttotal: 84.9ms\tremaining: 1m 24s\n",
      "100:\tlearn: 1861.9135891\ttotal: 6.03s\tremaining: 53.6s\n",
      "200:\tlearn: 1807.2485311\ttotal: 11.7s\tremaining: 46.6s\n",
      "300:\tlearn: 1774.7629969\ttotal: 17.8s\tremaining: 41.3s\n",
      "400:\tlearn: 1753.9772953\ttotal: 23.8s\tremaining: 35.5s\n",
      "500:\tlearn: 1734.8583201\ttotal: 30.1s\tremaining: 30s\n",
      "600:\tlearn: 1722.0618076\ttotal: 36.2s\tremaining: 24s\n",
      "700:\tlearn: 1708.1547973\ttotal: 42.5s\tremaining: 18.1s\n",
      "800:\tlearn: 1696.6395207\ttotal: 48.3s\tremaining: 12s\n",
      "900:\tlearn: 1686.2269483\ttotal: 54.7s\tremaining: 6.01s\n",
      "999:\tlearn: 1678.1565397\ttotal: 1m\tremaining: 0us\n",
      "0:\tlearn: 3862.4203490\ttotal: 81.4ms\tremaining: 1m 21s\n",
      "100:\tlearn: 1867.7684711\ttotal: 6.08s\tremaining: 54.1s\n",
      "200:\tlearn: 1811.2522282\ttotal: 12s\tremaining: 47.9s\n",
      "300:\tlearn: 1780.5262118\ttotal: 17.8s\tremaining: 41.2s\n",
      "400:\tlearn: 1757.6309107\ttotal: 23.8s\tremaining: 35.6s\n",
      "500:\tlearn: 1739.9600361\ttotal: 29.9s\tremaining: 29.8s\n",
      "600:\tlearn: 1725.1785246\ttotal: 36.1s\tremaining: 24s\n",
      "700:\tlearn: 1714.0943123\ttotal: 42s\tremaining: 17.9s\n",
      "800:\tlearn: 1703.2679877\ttotal: 48s\tremaining: 11.9s\n",
      "900:\tlearn: 1693.5476761\ttotal: 54.2s\tremaining: 5.95s\n",
      "999:\tlearn: 1684.0636231\ttotal: 1m\tremaining: 0us\n",
      "0:\tlearn: 3847.4981927\ttotal: 92.2ms\tremaining: 1m 32s\n",
      "100:\tlearn: 1859.4673273\ttotal: 6.29s\tremaining: 56s\n",
      "200:\tlearn: 1805.9755237\ttotal: 11.9s\tremaining: 47.2s\n",
      "300:\tlearn: 1777.2654825\ttotal: 17.9s\tremaining: 41.5s\n",
      "400:\tlearn: 1752.9223599\ttotal: 24.1s\tremaining: 36s\n",
      "500:\tlearn: 1738.4555588\ttotal: 30.3s\tremaining: 30.2s\n",
      "600:\tlearn: 1724.0086319\ttotal: 36.5s\tremaining: 24.2s\n",
      "700:\tlearn: 1711.9537874\ttotal: 42.2s\tremaining: 18s\n",
      "800:\tlearn: 1702.2744419\ttotal: 48.1s\tremaining: 12s\n",
      "900:\tlearn: 1690.8821871\ttotal: 54.4s\tremaining: 5.98s\n",
      "999:\tlearn: 1681.9296567\ttotal: 1m\tremaining: 0us\n",
      "0:\tlearn: 4359.8583838\ttotal: 83.5ms\tremaining: 1m 23s\n",
      "100:\tlearn: 1971.9964894\ttotal: 6.25s\tremaining: 55.6s\n",
      "200:\tlearn: 1884.3570286\ttotal: 12s\tremaining: 47.8s\n",
      "300:\tlearn: 1844.2122353\ttotal: 18s\tremaining: 41.8s\n",
      "400:\tlearn: 1821.5164730\ttotal: 24s\tremaining: 35.8s\n",
      "500:\tlearn: 1804.6509594\ttotal: 29.9s\tremaining: 29.7s\n",
      "600:\tlearn: 1790.4778949\ttotal: 35.7s\tremaining: 23.7s\n",
      "700:\tlearn: 1779.4971609\ttotal: 41.5s\tremaining: 17.7s\n",
      "800:\tlearn: 1770.2248641\ttotal: 47.5s\tremaining: 11.8s\n",
      "900:\tlearn: 1761.8237164\ttotal: 53.6s\tremaining: 5.89s\n",
      "999:\tlearn: 1753.9892874\ttotal: 59.7s\tremaining: 0us\n",
      "0:\tlearn: 4363.8593221\ttotal: 85ms\tremaining: 1m 24s\n",
      "100:\tlearn: 1969.9812267\ttotal: 6.23s\tremaining: 55.5s\n",
      "200:\tlearn: 1890.9631564\ttotal: 11.9s\tremaining: 47.2s\n",
      "300:\tlearn: 1851.2955043\ttotal: 17.7s\tremaining: 41s\n",
      "400:\tlearn: 1828.0364296\ttotal: 23.3s\tremaining: 34.8s\n",
      "500:\tlearn: 1807.9984029\ttotal: 29.3s\tremaining: 29.2s\n",
      "600:\tlearn: 1793.6028990\ttotal: 35.4s\tremaining: 23.5s\n",
      "700:\tlearn: 1783.9512021\ttotal: 41.2s\tremaining: 17.6s\n",
      "800:\tlearn: 1773.5041472\ttotal: 47.1s\tremaining: 11.7s\n",
      "900:\tlearn: 1765.3252932\ttotal: 53.1s\tremaining: 5.83s\n",
      "999:\tlearn: 1758.1353721\ttotal: 59.1s\tremaining: 0us\n",
      "0:\tlearn: 4356.0907186\ttotal: 84.4ms\tremaining: 1m 24s\n",
      "100:\tlearn: 1974.0705385\ttotal: 6.21s\tremaining: 55.3s\n",
      "200:\tlearn: 1887.5060789\ttotal: 11.9s\tremaining: 47.4s\n",
      "300:\tlearn: 1850.7149953\ttotal: 17.6s\tremaining: 40.9s\n",
      "400:\tlearn: 1828.0660900\ttotal: 23.7s\tremaining: 35.4s\n",
      "500:\tlearn: 1812.0258070\ttotal: 29.4s\tremaining: 29.2s\n",
      "600:\tlearn: 1799.3682345\ttotal: 35.2s\tremaining: 23.4s\n",
      "700:\tlearn: 1786.5345879\ttotal: 41.2s\tremaining: 17.6s\n",
      "800:\tlearn: 1776.3205432\ttotal: 47.1s\tremaining: 11.7s\n",
      "900:\tlearn: 1767.4863881\ttotal: 53s\tremaining: 5.82s\n",
      "999:\tlearn: 1759.5282420\ttotal: 59s\tremaining: 0us\n",
      "0:\tlearn: 4363.3324734\ttotal: 81.8ms\tremaining: 1m 21s\n",
      "100:\tlearn: 1973.8507328\ttotal: 6.29s\tremaining: 56s\n",
      "200:\tlearn: 1892.8498609\ttotal: 12s\tremaining: 47.8s\n",
      "300:\tlearn: 1853.6388113\ttotal: 17.6s\tremaining: 40.8s\n",
      "400:\tlearn: 1832.0261393\ttotal: 23.5s\tremaining: 35.1s\n",
      "500:\tlearn: 1814.3812018\ttotal: 29.5s\tremaining: 29.4s\n",
      "600:\tlearn: 1799.7456892\ttotal: 35.2s\tremaining: 23.4s\n",
      "700:\tlearn: 1788.5034325\ttotal: 41s\tremaining: 17.5s\n",
      "800:\tlearn: 1778.8912634\ttotal: 47.2s\tremaining: 11.7s\n",
      "900:\tlearn: 1770.4264234\ttotal: 53.2s\tremaining: 5.84s\n",
      "999:\tlearn: 1761.9317297\ttotal: 59.1s\tremaining: 0us\n",
      "0:\tlearn: 4355.8302505\ttotal: 97ms\tremaining: 1m 36s\n",
      "100:\tlearn: 1962.3045206\ttotal: 6.22s\tremaining: 55.4s\n",
      "200:\tlearn: 1885.7178914\ttotal: 12.3s\tremaining: 49.1s\n",
      "300:\tlearn: 1849.0509110\ttotal: 18.2s\tremaining: 42.2s\n",
      "400:\tlearn: 1828.8158252\ttotal: 23.6s\tremaining: 35.3s\n",
      "500:\tlearn: 1811.6982969\ttotal: 29.3s\tremaining: 29.2s\n",
      "600:\tlearn: 1798.7643786\ttotal: 35s\tremaining: 23.3s\n",
      "700:\tlearn: 1787.8418036\ttotal: 41.1s\tremaining: 17.5s\n",
      "800:\tlearn: 1778.3755358\ttotal: 47s\tremaining: 11.7s\n",
      "900:\tlearn: 1770.7056435\ttotal: 52.9s\tremaining: 5.82s\n",
      "999:\tlearn: 1763.1772390\ttotal: 59.1s\tremaining: 0us\n",
      "0:\tlearn: 4489.4307400\ttotal: 19.4ms\tremaining: 19.3s\n",
      "100:\tlearn: 2546.8625254\ttotal: 1.56s\tremaining: 13.9s\n",
      "200:\tlearn: 2405.9157487\ttotal: 3.07s\tremaining: 12.2s\n",
      "300:\tlearn: 2369.1516035\ttotal: 4.61s\tremaining: 10.7s\n",
      "400:\tlearn: 2355.2517455\ttotal: 6.16s\tremaining: 9.2s\n",
      "500:\tlearn: 2347.1491336\ttotal: 7.71s\tremaining: 7.68s\n",
      "600:\tlearn: 2341.8136580\ttotal: 9.26s\tremaining: 6.14s\n",
      "700:\tlearn: 2338.0509588\ttotal: 10.8s\tremaining: 4.59s\n",
      "800:\tlearn: 2335.1148311\ttotal: 12.3s\tremaining: 3.06s\n",
      "900:\tlearn: 2332.6542138\ttotal: 13.8s\tremaining: 1.52s\n",
      "999:\tlearn: 2330.5449377\ttotal: 15.3s\tremaining: 0us\n",
      "0:\tlearn: 4490.1099565\ttotal: 19.4ms\tremaining: 19.4s\n",
      "100:\tlearn: 2546.3601579\ttotal: 1.55s\tremaining: 13.8s\n",
      "200:\tlearn: 2407.6512399\ttotal: 3.14s\tremaining: 12.5s\n",
      "300:\tlearn: 2371.4567257\ttotal: 4.65s\tremaining: 10.8s\n",
      "400:\tlearn: 2358.2352387\ttotal: 6.19s\tremaining: 9.24s\n",
      "500:\tlearn: 2350.5848625\ttotal: 7.83s\tremaining: 7.8s\n",
      "600:\tlearn: 2345.7169090\ttotal: 9.39s\tremaining: 6.23s\n",
      "700:\tlearn: 2342.2841357\ttotal: 10.9s\tremaining: 4.66s\n",
      "800:\tlearn: 2339.5701841\ttotal: 12.4s\tremaining: 3.09s\n",
      "900:\tlearn: 2337.2905547\ttotal: 13.9s\tremaining: 1.53s\n",
      "999:\tlearn: 2335.3060935\ttotal: 15.4s\tremaining: 0us\n",
      "0:\tlearn: 4492.8219812\ttotal: 19.2ms\tremaining: 19.2s\n",
      "100:\tlearn: 2553.0329584\ttotal: 1.54s\tremaining: 13.7s\n",
      "200:\tlearn: 2411.7542497\ttotal: 3.08s\tremaining: 12.2s\n",
      "300:\tlearn: 2374.7509988\ttotal: 4.63s\tremaining: 10.8s\n",
      "400:\tlearn: 2361.2256296\ttotal: 6.17s\tremaining: 9.22s\n",
      "500:\tlearn: 2353.5243642\ttotal: 7.72s\tremaining: 7.68s\n",
      "600:\tlearn: 2348.5814651\ttotal: 9.29s\tremaining: 6.17s\n",
      "700:\tlearn: 2345.0267491\ttotal: 10.8s\tremaining: 4.61s\n",
      "800:\tlearn: 2342.1965624\ttotal: 12.3s\tremaining: 3.06s\n",
      "900:\tlearn: 2339.7860322\ttotal: 13.8s\tremaining: 1.52s\n",
      "999:\tlearn: 2337.6730718\ttotal: 15.3s\tremaining: 0us\n",
      "0:\tlearn: 4489.6377007\ttotal: 19.3ms\tremaining: 19.3s\n",
      "100:\tlearn: 2554.8352765\ttotal: 1.54s\tremaining: 13.8s\n",
      "200:\tlearn: 2415.3718781\ttotal: 3.08s\tremaining: 12.2s\n",
      "300:\tlearn: 2379.0577992\ttotal: 4.67s\tremaining: 10.8s\n",
      "400:\tlearn: 2365.5789030\ttotal: 6.2s\tremaining: 9.26s\n",
      "500:\tlearn: 2357.7990274\ttotal: 7.75s\tremaining: 7.72s\n",
      "600:\tlearn: 2352.8643931\ttotal: 9.28s\tremaining: 6.16s\n",
      "700:\tlearn: 2349.3108024\ttotal: 10.8s\tremaining: 4.61s\n",
      "800:\tlearn: 2346.3418371\ttotal: 12.3s\tremaining: 3.07s\n",
      "900:\tlearn: 2343.6572686\ttotal: 13.8s\tremaining: 1.52s\n",
      "999:\tlearn: 2341.4383735\ttotal: 15.3s\tremaining: 0us\n",
      "0:\tlearn: 4486.2614097\ttotal: 19.3ms\tremaining: 19.3s\n",
      "100:\tlearn: 2545.0095633\ttotal: 1.55s\tremaining: 13.8s\n",
      "200:\tlearn: 2406.9993560\ttotal: 3.08s\tremaining: 12.3s\n",
      "300:\tlearn: 2370.6757812\ttotal: 4.62s\tremaining: 10.7s\n",
      "400:\tlearn: 2357.8414116\ttotal: 6.15s\tremaining: 9.19s\n",
      "500:\tlearn: 2350.4404163\ttotal: 7.68s\tremaining: 7.65s\n",
      "600:\tlearn: 2345.7899800\ttotal: 9.17s\tremaining: 6.09s\n",
      "700:\tlearn: 2342.4465354\ttotal: 10.6s\tremaining: 4.54s\n",
      "800:\tlearn: 2339.7598673\ttotal: 12.1s\tremaining: 3.01s\n",
      "900:\tlearn: 2337.4544512\ttotal: 13.6s\tremaining: 1.5s\n",
      "999:\tlearn: 2335.5296477\ttotal: 15.1s\tremaining: 0us\n",
      "0:\tlearn: 3860.4456868\ttotal: 91.4ms\tremaining: 1m 31s\n",
      "100:\tlearn: 1860.3589887\ttotal: 7.49s\tremaining: 1m 6s\n",
      "200:\tlearn: 1803.0074492\ttotal: 14.7s\tremaining: 58.5s\n",
      "300:\tlearn: 1773.5523364\ttotal: 22.1s\tremaining: 51.3s\n",
      "400:\tlearn: 1754.4431623\ttotal: 29.4s\tremaining: 44s\n",
      "500:\tlearn: 1735.7509568\ttotal: 36.7s\tremaining: 36.6s\n",
      "600:\tlearn: 1721.0891280\ttotal: 44s\tremaining: 29.2s\n",
      "700:\tlearn: 1709.7966691\ttotal: 51.3s\tremaining: 21.9s\n",
      "800:\tlearn: 1698.6378045\ttotal: 58.9s\tremaining: 14.6s\n",
      "900:\tlearn: 1690.9234453\ttotal: 1m 6s\tremaining: 7.25s\n",
      "999:\tlearn: 1683.0187976\ttotal: 1m 13s\tremaining: 0us\n"
     ]
    },
    {
     "data": {
      "text/plain": [
       "RandomizedSearchCV(cv=5,\n",
       "                   estimator=<catboost.core.CatBoostRegressor object at 0x7f6da68cfee0>,\n",
       "                   n_iter=3,\n",
       "                   param_distributions={'depth': [1, 5],\n",
       "                                        'learning_rate': [0.1, 0.3]},\n",
       "                   scoring='neg_root_mean_squared_error')"
      ]
     },
     "execution_count": 51,
     "metadata": {},
     "output_type": "execute_result"
    }
   ],
   "source": [
    "param_grid = {\n",
    "    'depth': [1, 5],\n",
    "    'learning_rate': [0.1, 0.3]\n",
    "}\n",
    "\n",
    "random_search_catboost = RandomizedSearchCV(\n",
    "    estimator=catboost_model, \n",
    "    param_distributions=param_grid, \n",
    "    scoring='neg_root_mean_squared_error', \n",
    "    cv=5,\n",
    "    n_iter=3\n",
    ")\n",
    "\n",
    "random_search_catboost.fit(X_train, y_train)"
   ]
  },
  {
   "cell_type": "code",
   "execution_count": 52,
   "metadata": {},
   "outputs": [],
   "source": [
    "bm.append(random_search_catboost)"
   ]
  },
  {
   "cell_type": "markdown",
   "metadata": {},
   "source": [
    "## Анализ моделей"
   ]
  },
  {
   "cell_type": "markdown",
   "metadata": {},
   "source": [
    "Создадим список для результатов работы"
   ]
  },
  {
   "cell_type": "code",
   "execution_count": 53,
   "metadata": {},
   "outputs": [],
   "source": [
    "RMSE = []\n",
    "model_time_ln_list = []\n",
    "model_time_pr_list = []"
   ]
  },
  {
   "cell_type": "code",
   "execution_count": 54,
   "metadata": {},
   "outputs": [
    {
     "name": "stdout",
     "output_type": "stream",
     "text": [
      "0:\tlearn: 3860.4456868\ttotal: 91.9ms\tremaining: 1m 31s\n",
      "100:\tlearn: 1860.3589887\ttotal: 7.59s\tremaining: 1m 7s\n",
      "200:\tlearn: 1803.0074492\ttotal: 14.8s\tremaining: 58.7s\n",
      "300:\tlearn: 1773.5523364\ttotal: 22.2s\tremaining: 51.5s\n",
      "400:\tlearn: 1754.4431623\ttotal: 29.5s\tremaining: 44s\n",
      "500:\tlearn: 1735.7509568\ttotal: 36.7s\tremaining: 36.6s\n",
      "600:\tlearn: 1721.0891280\ttotal: 44s\tremaining: 29.2s\n",
      "700:\tlearn: 1709.7966691\ttotal: 51.3s\tremaining: 21.9s\n",
      "800:\tlearn: 1698.6378045\ttotal: 58.9s\tremaining: 14.6s\n",
      "900:\tlearn: 1690.9234453\ttotal: 1m 5s\tremaining: 7.24s\n",
      "999:\tlearn: 1683.0187976\ttotal: 1m 13s\tremaining: 0us\n"
     ]
    }
   ],
   "source": [
    "for r in bm:\n",
    "    RMSE.append(-r.best_score_)\n",
    "    model = r.best_estimator_\n",
    "    start_ln = time()\n",
    "    model.fit(X_train, y_train)\n",
    "    end_ln = time()\n",
    "    model_time_ln = (end_ln - start_ln) / 60\n",
    "    model_time_ln_list.append(model_time_ln)\n",
    "    start_pr = time()\n",
    "    model.predict(X_train)\n",
    "    end_pr = time()\n",
    "    model_time_pr = (end_pr - start_pr) / 60\n",
    "    model_time_pr_list.append(model_time_pr) "
   ]
  },
  {
   "cell_type": "code",
   "execution_count": 55,
   "metadata": {},
   "outputs": [
    {
     "data": {
      "text/html": [
       "<div>\n",
       "<style scoped>\n",
       "    .dataframe tbody tr th:only-of-type {\n",
       "        vertical-align: middle;\n",
       "    }\n",
       "\n",
       "    .dataframe tbody tr th {\n",
       "        vertical-align: top;\n",
       "    }\n",
       "\n",
       "    .dataframe thead th {\n",
       "        text-align: right;\n",
       "    }\n",
       "</style>\n",
       "<table border=\"1\" class=\"dataframe\">\n",
       "  <thead>\n",
       "    <tr style=\"text-align: right;\">\n",
       "      <th></th>\n",
       "      <th>model_name</th>\n",
       "      <th>RMSE</th>\n",
       "      <th>model_learning_time</th>\n",
       "      <th>model_predict_time</th>\n",
       "    </tr>\n",
       "  </thead>\n",
       "  <tbody>\n",
       "    <tr>\n",
       "      <th>0</th>\n",
       "      <td>LinearRegression</td>\n",
       "      <td>NaN</td>\n",
       "      <td>0.143171</td>\n",
       "      <td>0.013283</td>\n",
       "    </tr>\n",
       "    <tr>\n",
       "      <th>1</th>\n",
       "      <td>LightGBM</td>\n",
       "      <td>1775.422665</td>\n",
       "      <td>0.065040</td>\n",
       "      <td>0.025191</td>\n",
       "    </tr>\n",
       "    <tr>\n",
       "      <th>2</th>\n",
       "      <td>CatBoost</td>\n",
       "      <td>1778.153086</td>\n",
       "      <td>1.238581</td>\n",
       "      <td>0.015146</td>\n",
       "    </tr>\n",
       "  </tbody>\n",
       "</table>\n",
       "</div>"
      ],
      "text/plain": [
       "         model_name         RMSE  model_learning_time  model_predict_time\n",
       "0  LinearRegression          NaN             0.143171            0.013283\n",
       "1          LightGBM  1775.422665             0.065040            0.025191\n",
       "2          CatBoost  1778.153086             1.238581            0.015146"
      ]
     },
     "execution_count": 55,
     "metadata": {},
     "output_type": "execute_result"
    }
   ],
   "source": [
    "models_data = pd.DataFrame(\n",
    "    {'model_name':['LinearRegression', 'LightGBM', 'CatBoost'],\n",
    "     'RMSE': RMSE,\n",
    "     'model_learning_time': model_time_ln_list,\n",
    "     'model_predict_time': model_time_pr_list,\n",
    "     \n",
    "    }\n",
    ")\n",
    "models_data"
   ]
  },
  {
   "cell_type": "markdown",
   "metadata": {},
   "source": [
    "**Выводы**\n",
    "\n",
    "Мы обучили модели Линейной регрессии, LGBMRegressor, CatBoostRegressor, видим что модель LightGBM является лучшей и дает следующие результаты:\n",
    "- 0.065 время обучения;\n",
    "- 0.025 минуты время предсказания;\n",
    "- RMSE 1775,42 "
   ]
  },
  {
   "cell_type": "markdown",
   "metadata": {},
   "source": [
    "Оценим лучшую модель на тестовой выборке:"
   ]
  },
  {
   "cell_type": "code",
   "execution_count": 56,
   "metadata": {},
   "outputs": [],
   "source": [
    "model_lgbm = random_search_lgbm.best_estimator_"
   ]
  },
  {
   "cell_type": "code",
   "execution_count": 57,
   "metadata": {},
   "outputs": [
    {
     "name": "stdout",
     "output_type": "stream",
     "text": [
      "RMSE на тестовой выборке:  1791.9668253635948\n",
      "Время предсказания на тестовой выборке:  0.008131778240203858\n"
     ]
    }
   ],
   "source": [
    "start_test = time() #замеряем время предсказания\n",
    "RMSE_test = mean_squared_error(y_test, model_lgbm.predict(X_test), squared = False)\n",
    "end_test = time()\n",
    "model_time_test = (end_test - start_test) / 60 \n",
    "print('RMSE на тестовой выборке: ', RMSE_test)\n",
    "print('Время предсказания на тестовой выборке: ', model_time_test)"
   ]
  },
  {
   "cell_type": "markdown",
   "metadata": {},
   "source": [
    "На тестовой выборке:\n",
    "- RMSE - 1791.96\n",
    "- Время предсказания -  0.0081\n",
    "\n",
    "Что соответствует условию."
   ]
  }
 ],
 "metadata": {
  "ExecuteTimeLog": [
   {
    "duration": 1543,
    "start_time": "2024-06-09T18:49:22.703Z"
   },
   {
    "duration": 2879,
    "start_time": "2024-06-09T18:49:25.934Z"
   },
   {
    "duration": 99,
    "start_time": "2024-06-09T18:50:15.403Z"
   },
   {
    "duration": 3,
    "start_time": "2024-06-09T18:50:20.138Z"
   },
   {
    "duration": 10,
    "start_time": "2024-06-09T18:50:21.385Z"
   },
   {
    "duration": 620,
    "start_time": "2024-06-09T18:50:43.256Z"
   },
   {
    "duration": 54,
    "start_time": "2024-06-10T04:26:59.107Z"
   },
   {
    "duration": 1602,
    "start_time": "2024-06-10T04:27:02.422Z"
   },
   {
    "duration": 1207,
    "start_time": "2024-06-10T04:27:04.026Z"
   },
   {
    "duration": 19,
    "start_time": "2024-06-10T04:27:06.107Z"
   },
   {
    "duration": 27,
    "start_time": "2024-06-10T04:31:13.988Z"
   },
   {
    "duration": 5,
    "start_time": "2024-06-10T04:31:15.101Z"
   },
   {
    "duration": 475,
    "start_time": "2024-06-10T04:31:23.563Z"
   },
   {
    "duration": 438,
    "start_time": "2024-06-10T04:31:44.263Z"
   },
   {
    "duration": 4,
    "start_time": "2024-06-10T04:32:58.181Z"
   },
   {
    "duration": 512,
    "start_time": "2024-06-10T04:33:03.340Z"
   },
   {
    "duration": 405,
    "start_time": "2024-06-10T04:41:18.206Z"
   },
   {
    "duration": 3,
    "start_time": "2024-06-10T04:41:40.998Z"
   },
   {
    "duration": 4,
    "start_time": "2024-06-10T04:42:04.424Z"
   },
   {
    "duration": 1516,
    "start_time": "2024-06-10T04:42:44.687Z"
   },
   {
    "duration": 934,
    "start_time": "2024-06-10T04:42:46.205Z"
   },
   {
    "duration": 19,
    "start_time": "2024-06-10T04:42:47.141Z"
   },
   {
    "duration": 30,
    "start_time": "2024-06-10T04:42:47.162Z"
   },
   {
    "duration": 26,
    "start_time": "2024-06-10T04:42:47.195Z"
   },
   {
    "duration": 532,
    "start_time": "2024-06-10T04:42:47.223Z"
   },
   {
    "duration": 4,
    "start_time": "2024-06-10T04:42:47.757Z"
   },
   {
    "duration": 438,
    "start_time": "2024-06-10T04:42:47.762Z"
   },
   {
    "duration": 3,
    "start_time": "2024-06-10T04:42:48.202Z"
   },
   {
    "duration": 186,
    "start_time": "2024-06-10T04:43:05.102Z"
   },
   {
    "duration": 1497,
    "start_time": "2024-06-10T04:46:22.901Z"
   },
   {
    "duration": 942,
    "start_time": "2024-06-10T04:46:24.400Z"
   },
   {
    "duration": 18,
    "start_time": "2024-06-10T04:46:26.997Z"
   },
   {
    "duration": 28,
    "start_time": "2024-06-10T04:46:32.310Z"
   },
   {
    "duration": 5,
    "start_time": "2024-06-10T04:46:35.022Z"
   },
   {
    "duration": 489,
    "start_time": "2024-06-10T04:46:37.381Z"
   },
   {
    "duration": 4,
    "start_time": "2024-06-10T04:46:55.016Z"
   },
   {
    "duration": 206,
    "start_time": "2024-06-10T04:47:04.582Z"
   },
   {
    "duration": 444,
    "start_time": "2024-06-10T04:47:11.011Z"
   },
   {
    "duration": 4,
    "start_time": "2024-06-10T04:47:14.829Z"
   },
   {
    "duration": 105,
    "start_time": "2024-06-10T04:47:54.437Z"
   },
   {
    "duration": 34,
    "start_time": "2024-06-10T04:51:52.167Z"
   },
   {
    "duration": 4,
    "start_time": "2024-06-10T04:52:07.717Z"
   },
   {
    "duration": 1599,
    "start_time": "2024-06-10T13:29:03.651Z"
   },
   {
    "duration": 1126,
    "start_time": "2024-06-10T13:29:05.252Z"
   },
   {
    "duration": 16,
    "start_time": "2024-06-10T13:29:06.380Z"
   },
   {
    "duration": 29,
    "start_time": "2024-06-10T13:29:06.398Z"
   },
   {
    "duration": 3,
    "start_time": "2024-06-10T13:29:06.429Z"
   },
   {
    "duration": 415,
    "start_time": "2024-06-10T13:29:06.434Z"
   },
   {
    "duration": 388,
    "start_time": "2024-06-10T13:29:06.851Z"
   },
   {
    "duration": 43,
    "start_time": "2024-06-10T13:29:07.241Z"
   },
   {
    "duration": 4,
    "start_time": "2024-06-10T13:29:07.286Z"
   },
   {
    "duration": 187,
    "start_time": "2024-06-10T13:29:07.291Z"
   },
   {
    "duration": 5,
    "start_time": "2024-06-10T13:33:18.891Z"
   },
   {
    "duration": 118,
    "start_time": "2024-06-10T13:33:21.818Z"
   },
   {
    "duration": 8,
    "start_time": "2024-06-10T13:34:10.106Z"
   },
   {
    "duration": 1836,
    "start_time": "2024-06-10T13:34:28.155Z"
   },
   {
    "duration": 1441,
    "start_time": "2024-06-10T13:44:05.083Z"
   },
   {
    "duration": 791,
    "start_time": "2024-06-10T13:44:06.525Z"
   },
   {
    "duration": 18,
    "start_time": "2024-06-10T13:44:07.318Z"
   },
   {
    "duration": 26,
    "start_time": "2024-06-10T13:44:07.338Z"
   },
   {
    "duration": 8,
    "start_time": "2024-06-10T13:44:07.366Z"
   },
   {
    "duration": 430,
    "start_time": "2024-06-10T13:44:07.375Z"
   },
   {
    "duration": 381,
    "start_time": "2024-06-10T13:44:07.806Z"
   },
   {
    "duration": 5,
    "start_time": "2024-06-10T13:44:08.189Z"
   },
   {
    "duration": 1652,
    "start_time": "2024-06-10T13:44:08.196Z"
   },
   {
    "duration": 1462,
    "start_time": "2024-06-10T13:44:27.692Z"
   },
   {
    "duration": 113,
    "start_time": "2024-06-10T13:44:38.906Z"
   },
   {
    "duration": 7,
    "start_time": "2024-06-10T13:45:03.234Z"
   },
   {
    "duration": 28,
    "start_time": "2024-06-10T13:45:12.034Z"
   },
   {
    "duration": 8,
    "start_time": "2024-06-10T13:52:19.836Z"
   },
   {
    "duration": 13,
    "start_time": "2024-06-10T13:52:34.644Z"
   },
   {
    "duration": 6,
    "start_time": "2024-06-10T13:54:47.082Z"
   },
   {
    "duration": 4,
    "start_time": "2024-06-10T13:55:20.544Z"
   },
   {
    "duration": 421,
    "start_time": "2024-06-10T13:55:22.033Z"
   },
   {
    "duration": 302,
    "start_time": "2024-06-10T13:55:31.422Z"
   },
   {
    "duration": 4,
    "start_time": "2024-06-10T13:55:35.722Z"
   },
   {
    "duration": 1507,
    "start_time": "2024-06-10T13:56:15.254Z"
   },
   {
    "duration": 985,
    "start_time": "2024-06-10T13:58:28.525Z"
   },
   {
    "duration": 4,
    "start_time": "2024-06-10T13:58:39.735Z"
   },
   {
    "duration": 20,
    "start_time": "2024-06-10T13:58:49.760Z"
   },
   {
    "duration": 13,
    "start_time": "2024-06-10T13:58:51.611Z"
   },
   {
    "duration": 48,
    "start_time": "2024-06-10T14:00:17.312Z"
   },
   {
    "duration": 1354,
    "start_time": "2024-06-10T14:00:25.225Z"
   },
   {
    "duration": 792,
    "start_time": "2024-06-10T14:00:26.581Z"
   },
   {
    "duration": 16,
    "start_time": "2024-06-10T14:00:27.375Z"
   },
   {
    "duration": 28,
    "start_time": "2024-06-10T14:00:27.392Z"
   },
   {
    "duration": 6,
    "start_time": "2024-06-10T14:00:27.422Z"
   },
   {
    "duration": 16,
    "start_time": "2024-06-10T14:00:27.429Z"
   },
   {
    "duration": 408,
    "start_time": "2024-06-10T14:00:27.446Z"
   },
   {
    "duration": 372,
    "start_time": "2024-06-10T14:00:27.856Z"
   },
   {
    "duration": 5,
    "start_time": "2024-06-10T14:00:28.230Z"
   },
   {
    "duration": 44,
    "start_time": "2024-06-10T14:00:28.237Z"
   },
   {
    "duration": 74,
    "start_time": "2024-06-10T14:01:11.048Z"
   },
   {
    "duration": 11,
    "start_time": "2024-06-10T14:01:22.796Z"
   },
   {
    "duration": 6,
    "start_time": "2024-06-10T14:01:29.414Z"
   },
   {
    "duration": 1456,
    "start_time": "2024-06-10T14:01:45.375Z"
   },
   {
    "duration": 7,
    "start_time": "2024-06-10T14:02:14.183Z"
   },
   {
    "duration": 12,
    "start_time": "2024-06-10T14:02:36.996Z"
   },
   {
    "duration": 11,
    "start_time": "2024-06-10T14:03:13.181Z"
   },
   {
    "duration": 38,
    "start_time": "2024-06-10T14:03:19.384Z"
   },
   {
    "duration": 155,
    "start_time": "2024-06-10T14:03:41.809Z"
   },
   {
    "duration": 1599,
    "start_time": "2024-06-10T14:04:30.088Z"
   },
   {
    "duration": 8,
    "start_time": "2024-06-10T14:07:51.002Z"
   },
   {
    "duration": 1483,
    "start_time": "2024-06-10T17:34:56.838Z"
   },
   {
    "duration": 970,
    "start_time": "2024-06-10T17:34:58.323Z"
   },
   {
    "duration": 16,
    "start_time": "2024-06-10T17:34:59.294Z"
   },
   {
    "duration": 36,
    "start_time": "2024-06-10T17:34:59.312Z"
   },
   {
    "duration": 32,
    "start_time": "2024-06-10T17:34:59.349Z"
   },
   {
    "duration": 9,
    "start_time": "2024-06-10T17:34:59.382Z"
   },
   {
    "duration": 365,
    "start_time": "2024-06-10T17:34:59.392Z"
   },
   {
    "duration": 350,
    "start_time": "2024-06-10T17:34:59.759Z"
   },
   {
    "duration": 154,
    "start_time": "2024-06-10T17:35:00.110Z"
   },
   {
    "duration": 4,
    "start_time": "2024-06-10T17:35:00.266Z"
   },
   {
    "duration": 163,
    "start_time": "2024-06-10T17:35:00.271Z"
   },
   {
    "duration": 37,
    "start_time": "2024-06-10T17:35:00.436Z"
   },
   {
    "duration": 63,
    "start_time": "2024-06-10T17:35:00.474Z"
   },
   {
    "duration": 1450,
    "start_time": "2024-06-10T17:35:00.539Z"
   },
   {
    "duration": 1374,
    "start_time": "2024-06-10T17:42:48.921Z"
   },
   {
    "duration": 25,
    "start_time": "2024-06-10T17:48:15.574Z"
   },
   {
    "duration": 1357,
    "start_time": "2024-06-10T17:48:19.027Z"
   },
   {
    "duration": 22,
    "start_time": "2024-06-10T17:56:35.950Z"
   },
   {
    "duration": 22,
    "start_time": "2024-06-10T17:59:49.309Z"
   },
   {
    "duration": 1327,
    "start_time": "2024-06-10T18:00:17.017Z"
   },
   {
    "duration": 116,
    "start_time": "2024-06-10T18:05:25.068Z"
   },
   {
    "duration": 126,
    "start_time": "2024-06-10T18:10:47.463Z"
   },
   {
    "duration": 107,
    "start_time": "2024-06-10T18:11:01.266Z"
   },
   {
    "duration": 55,
    "start_time": "2024-06-10T18:17:57.999Z"
   },
   {
    "duration": 136,
    "start_time": "2024-06-10T18:18:36.244Z"
   },
   {
    "duration": 40,
    "start_time": "2024-06-10T18:18:50.708Z"
   },
   {
    "duration": 15,
    "start_time": "2024-06-10T18:19:14.096Z"
   },
   {
    "duration": 26,
    "start_time": "2024-06-10T18:20:46.287Z"
   },
   {
    "duration": 8,
    "start_time": "2024-06-10T18:24:58.008Z"
   },
   {
    "duration": 12,
    "start_time": "2024-06-10T18:25:05.224Z"
   },
   {
    "duration": 24,
    "start_time": "2024-06-10T18:28:09.056Z"
   },
   {
    "duration": 19,
    "start_time": "2024-06-10T18:29:01.220Z"
   },
   {
    "duration": 45,
    "start_time": "2024-06-10T18:29:47.895Z"
   },
   {
    "duration": 11,
    "start_time": "2024-06-10T18:31:34.991Z"
   },
   {
    "duration": 25,
    "start_time": "2024-06-10T18:32:34.673Z"
   },
   {
    "duration": 11,
    "start_time": "2024-06-10T18:33:40.124Z"
   },
   {
    "duration": 26,
    "start_time": "2024-06-10T18:34:26.459Z"
   },
   {
    "duration": 13,
    "start_time": "2024-06-10T18:37:01.963Z"
   },
   {
    "duration": 1793,
    "start_time": "2024-06-11T06:44:53.025Z"
   },
   {
    "duration": 3150,
    "start_time": "2024-06-11T06:44:54.821Z"
   },
   {
    "duration": 20,
    "start_time": "2024-06-11T06:44:57.972Z"
   },
   {
    "duration": 27,
    "start_time": "2024-06-11T06:44:57.994Z"
   },
   {
    "duration": 24,
    "start_time": "2024-06-11T06:44:58.023Z"
   },
   {
    "duration": 5,
    "start_time": "2024-06-11T06:44:58.049Z"
   },
   {
    "duration": 492,
    "start_time": "2024-06-11T06:44:58.055Z"
   },
   {
    "duration": 430,
    "start_time": "2024-06-11T06:44:58.548Z"
   },
   {
    "duration": 229,
    "start_time": "2024-06-11T06:44:58.979Z"
   },
   {
    "duration": 48,
    "start_time": "2024-06-11T06:44:59.211Z"
   },
   {
    "duration": 19,
    "start_time": "2024-06-11T06:44:59.261Z"
   },
   {
    "duration": 47,
    "start_time": "2024-06-11T06:44:59.281Z"
   },
   {
    "duration": 33,
    "start_time": "2024-06-11T06:44:59.330Z"
   },
   {
    "duration": 67,
    "start_time": "2024-06-11T06:44:59.365Z"
   },
   {
    "duration": 18,
    "start_time": "2024-06-11T06:44:59.434Z"
   },
   {
    "duration": 40,
    "start_time": "2024-06-11T06:44:59.453Z"
   },
   {
    "duration": 19,
    "start_time": "2024-06-11T06:44:59.494Z"
   },
   {
    "duration": 61,
    "start_time": "2024-06-11T06:44:59.515Z"
   },
   {
    "duration": 20,
    "start_time": "2024-06-11T06:44:59.577Z"
   },
   {
    "duration": 6,
    "start_time": "2024-06-11T06:44:59.598Z"
   },
   {
    "duration": 9,
    "start_time": "2024-06-11T06:44:59.606Z"
   },
   {
    "duration": 34,
    "start_time": "2024-06-11T06:44:59.616Z"
   },
   {
    "duration": 23,
    "start_time": "2024-06-11T06:44:59.651Z"
   },
   {
    "duration": 1664,
    "start_time": "2024-06-11T06:44:59.676Z"
   },
   {
    "duration": 26,
    "start_time": "2024-06-11T06:45:01.345Z"
   },
   {
    "duration": 1849,
    "start_time": "2024-06-11T06:45:01.373Z"
   },
   {
    "duration": 36,
    "start_time": "2024-06-11T06:45:03.224Z"
   },
   {
    "duration": 22,
    "start_time": "2024-06-11T06:45:03.264Z"
   },
   {
    "duration": 1548,
    "start_time": "2024-06-11T06:45:03.287Z"
   },
   {
    "duration": 121,
    "start_time": "2024-06-11T07:06:56.072Z"
   },
   {
    "duration": 537,
    "start_time": "2024-06-11T07:12:35.979Z"
   },
   {
    "duration": 1516,
    "start_time": "2024-06-11T13:15:57.789Z"
   },
   {
    "duration": 968,
    "start_time": "2024-06-11T13:15:59.307Z"
   },
   {
    "duration": 19,
    "start_time": "2024-06-11T13:16:00.276Z"
   },
   {
    "duration": 65,
    "start_time": "2024-06-11T13:16:00.298Z"
   },
   {
    "duration": 48,
    "start_time": "2024-06-11T13:16:00.365Z"
   },
   {
    "duration": 65,
    "start_time": "2024-06-11T13:16:00.415Z"
   },
   {
    "duration": 526,
    "start_time": "2024-06-11T13:16:00.481Z"
   },
   {
    "duration": 455,
    "start_time": "2024-06-11T13:16:01.009Z"
   },
   {
    "duration": 249,
    "start_time": "2024-06-11T13:16:01.466Z"
   },
   {
    "duration": 52,
    "start_time": "2024-06-11T13:16:01.719Z"
   },
   {
    "duration": 136,
    "start_time": "2024-06-11T13:16:01.773Z"
   },
   {
    "duration": 106,
    "start_time": "2024-06-11T13:16:01.911Z"
   },
   {
    "duration": 665,
    "start_time": "2024-06-11T13:16:02.019Z"
   },
   {
    "duration": 616,
    "start_time": "2024-06-11T13:16:02.686Z"
   },
   {
    "duration": 110,
    "start_time": "2024-06-11T13:16:03.303Z"
   },
   {
    "duration": 69,
    "start_time": "2024-06-11T13:16:03.415Z"
   },
   {
    "duration": 36,
    "start_time": "2024-06-11T13:16:03.486Z"
   },
   {
    "duration": 63,
    "start_time": "2024-06-11T13:16:03.523Z"
   },
   {
    "duration": 109,
    "start_time": "2024-06-11T13:16:03.587Z"
   },
   {
    "duration": 10,
    "start_time": "2024-06-11T13:16:03.697Z"
   },
   {
    "duration": 11,
    "start_time": "2024-06-11T13:16:03.709Z"
   },
   {
    "duration": 12,
    "start_time": "2024-06-11T13:16:03.722Z"
   },
   {
    "duration": 50,
    "start_time": "2024-06-11T13:16:03.736Z"
   },
   {
    "duration": 1665,
    "start_time": "2024-06-11T13:16:03.788Z"
   },
   {
    "duration": 24,
    "start_time": "2024-06-11T13:16:05.455Z"
   },
   {
    "duration": 1757,
    "start_time": "2024-06-11T13:16:05.481Z"
   },
   {
    "duration": 30,
    "start_time": "2024-06-11T13:16:07.239Z"
   },
   {
    "duration": 22,
    "start_time": "2024-06-11T13:16:07.272Z"
   },
   {
    "duration": 1551,
    "start_time": "2024-06-11T13:16:07.296Z"
   },
   {
    "duration": 183,
    "start_time": "2024-06-11T13:28:42.818Z"
   },
   {
    "duration": 114,
    "start_time": "2024-06-11T13:30:33.118Z"
   },
   {
    "duration": 3,
    "start_time": "2024-06-11T13:34:04.069Z"
   },
   {
    "duration": 1438,
    "start_time": "2024-06-11T14:55:20.772Z"
   },
   {
    "duration": 15,
    "start_time": "2024-06-11T14:57:38.069Z"
   },
   {
    "duration": 9,
    "start_time": "2024-06-11T15:01:26.933Z"
   },
   {
    "duration": 33,
    "start_time": "2024-06-11T15:01:32.932Z"
   },
   {
    "duration": 34,
    "start_time": "2024-06-11T15:02:51.004Z"
   },
   {
    "duration": 105389,
    "start_time": "2024-06-11T15:02:57.739Z"
   },
   {
    "duration": 1606,
    "start_time": "2024-06-11T15:05:30.044Z"
   },
   {
    "duration": 2123,
    "start_time": "2024-06-11T15:06:05.827Z"
   },
   {
    "duration": 100517,
    "start_time": "2024-06-11T15:12:17.889Z"
   },
   {
    "duration": 82,
    "start_time": "2024-06-11T15:14:11.342Z"
   },
   {
    "duration": 75,
    "start_time": "2024-06-11T15:16:09.452Z"
   },
   {
    "duration": 63,
    "start_time": "2024-06-12T04:45:42.887Z"
   },
   {
    "duration": 1568,
    "start_time": "2024-06-12T04:45:50.423Z"
   },
   {
    "duration": 1001,
    "start_time": "2024-06-12T04:45:52.381Z"
   },
   {
    "duration": 16,
    "start_time": "2024-06-12T04:45:58.136Z"
   },
   {
    "duration": 1377,
    "start_time": "2024-06-12T04:46:19.183Z"
   },
   {
    "duration": 720,
    "start_time": "2024-06-12T04:46:20.561Z"
   },
   {
    "duration": 14,
    "start_time": "2024-06-12T04:46:21.282Z"
   },
   {
    "duration": 34,
    "start_time": "2024-06-12T04:46:21.298Z"
   },
   {
    "duration": 8,
    "start_time": "2024-06-12T04:46:21.334Z"
   },
   {
    "duration": 13,
    "start_time": "2024-06-12T04:46:21.343Z"
   },
   {
    "duration": 399,
    "start_time": "2024-06-12T04:46:21.357Z"
   },
   {
    "duration": 356,
    "start_time": "2024-06-12T04:46:21.757Z"
   },
   {
    "duration": 214,
    "start_time": "2024-06-12T04:46:22.115Z"
   },
   {
    "duration": 35,
    "start_time": "2024-06-12T04:46:22.332Z"
   },
   {
    "duration": 14,
    "start_time": "2024-06-12T04:46:22.368Z"
   },
   {
    "duration": 51,
    "start_time": "2024-06-12T04:46:22.384Z"
   },
   {
    "duration": 17,
    "start_time": "2024-06-12T04:46:22.437Z"
   },
   {
    "duration": 41,
    "start_time": "2024-06-12T04:46:22.456Z"
   },
   {
    "duration": 13,
    "start_time": "2024-06-12T04:46:22.499Z"
   },
   {
    "duration": 46,
    "start_time": "2024-06-12T04:46:22.514Z"
   },
   {
    "duration": 16,
    "start_time": "2024-06-12T04:46:22.562Z"
   },
   {
    "duration": 47,
    "start_time": "2024-06-12T04:46:22.579Z"
   },
   {
    "duration": 23,
    "start_time": "2024-06-12T04:46:22.627Z"
   },
   {
    "duration": 13,
    "start_time": "2024-06-12T04:46:22.652Z"
   },
   {
    "duration": 10,
    "start_time": "2024-06-12T04:46:22.667Z"
   },
   {
    "duration": 14,
    "start_time": "2024-06-12T04:46:22.678Z"
   },
   {
    "duration": 47,
    "start_time": "2024-06-12T04:46:22.693Z"
   },
   {
    "duration": 1403,
    "start_time": "2024-06-12T04:46:22.742Z"
   },
   {
    "duration": 23,
    "start_time": "2024-06-12T04:46:24.146Z"
   },
   {
    "duration": 1291,
    "start_time": "2024-06-12T04:46:24.171Z"
   },
   {
    "duration": 23,
    "start_time": "2024-06-12T04:46:25.464Z"
   },
   {
    "duration": 30,
    "start_time": "2024-06-12T04:46:25.490Z"
   },
   {
    "duration": 1261,
    "start_time": "2024-06-12T04:46:25.521Z"
   },
   {
    "duration": 118,
    "start_time": "2024-06-12T04:47:06.367Z"
   },
   {
    "duration": 120,
    "start_time": "2024-06-12T04:47:26.718Z"
   },
   {
    "duration": 148,
    "start_time": "2024-06-12T04:48:10.880Z"
   },
   {
    "duration": 3,
    "start_time": "2024-06-12T04:48:12.616Z"
   },
   {
    "duration": 46,
    "start_time": "2024-06-12T04:50:02.453Z"
   },
   {
    "duration": 3,
    "start_time": "2024-06-12T04:50:54.982Z"
   },
   {
    "duration": 3,
    "start_time": "2024-06-12T04:51:23.078Z"
   },
   {
    "duration": 3,
    "start_time": "2024-06-12T04:51:39.119Z"
   },
   {
    "duration": 2,
    "start_time": "2024-06-12T04:52:03.139Z"
   },
   {
    "duration": 183,
    "start_time": "2024-06-12T05:00:14.119Z"
   },
   {
    "duration": 53,
    "start_time": "2024-06-12T05:04:35.214Z"
   },
   {
    "duration": 11,
    "start_time": "2024-06-12T05:07:18.736Z"
   },
   {
    "duration": 251,
    "start_time": "2024-06-12T05:07:48.409Z"
   },
   {
    "duration": 262,
    "start_time": "2024-06-12T05:08:42.272Z"
   },
   {
    "duration": 8,
    "start_time": "2024-06-12T05:10:13.131Z"
   },
   {
    "duration": 69,
    "start_time": "2024-06-12T05:10:51.120Z"
   },
   {
    "duration": 896,
    "start_time": "2024-06-12T05:10:57.200Z"
   },
   {
    "duration": 733,
    "start_time": "2024-06-12T05:11:16.880Z"
   },
   {
    "duration": 1970,
    "start_time": "2024-06-12T05:11:25.859Z"
   },
   {
    "duration": 104,
    "start_time": "2024-06-12T05:11:40.766Z"
   },
   {
    "duration": 8,
    "start_time": "2024-06-12T05:12:15.608Z"
   },
   {
    "duration": 197409,
    "start_time": "2024-06-12T05:12:20.679Z"
   },
   {
    "duration": 28,
    "start_time": "2024-06-12T05:17:00.015Z"
   },
   {
    "duration": 29,
    "start_time": "2024-06-12T05:18:07.477Z"
   },
   {
    "duration": 4,
    "start_time": "2024-06-12T05:18:12.768Z"
   },
   {
    "duration": 1252,
    "start_time": "2024-06-12T05:23:46.672Z"
   },
   {
    "duration": 729,
    "start_time": "2024-06-12T05:23:47.926Z"
   },
   {
    "duration": 15,
    "start_time": "2024-06-12T05:23:48.656Z"
   },
   {
    "duration": 24,
    "start_time": "2024-06-12T05:23:48.672Z"
   },
   {
    "duration": 7,
    "start_time": "2024-06-12T05:23:48.698Z"
   },
   {
    "duration": 4,
    "start_time": "2024-06-12T05:23:48.720Z"
   },
   {
    "duration": 363,
    "start_time": "2024-06-12T05:23:48.725Z"
   },
   {
    "duration": 406,
    "start_time": "2024-06-12T05:23:49.089Z"
   },
   {
    "duration": 163,
    "start_time": "2024-06-12T05:23:49.496Z"
   },
   {
    "duration": 28,
    "start_time": "2024-06-12T05:23:49.660Z"
   },
   {
    "duration": 19,
    "start_time": "2024-06-12T05:23:49.689Z"
   },
   {
    "duration": 35,
    "start_time": "2024-06-12T05:23:49.709Z"
   },
   {
    "duration": 17,
    "start_time": "2024-06-12T05:23:49.745Z"
   },
   {
    "duration": 36,
    "start_time": "2024-06-12T05:23:49.764Z"
   },
   {
    "duration": 21,
    "start_time": "2024-06-12T05:23:49.801Z"
   },
   {
    "duration": 28,
    "start_time": "2024-06-12T05:23:49.823Z"
   },
   {
    "duration": 13,
    "start_time": "2024-06-12T05:23:49.852Z"
   },
   {
    "duration": 28,
    "start_time": "2024-06-12T05:23:49.866Z"
   },
   {
    "duration": 36,
    "start_time": "2024-06-12T05:23:49.895Z"
   },
   {
    "duration": 10,
    "start_time": "2024-06-12T05:23:49.932Z"
   },
   {
    "duration": 11,
    "start_time": "2024-06-12T05:23:49.943Z"
   },
   {
    "duration": 10,
    "start_time": "2024-06-12T05:23:49.955Z"
   },
   {
    "duration": 31,
    "start_time": "2024-06-12T05:23:49.966Z"
   },
   {
    "duration": 1466,
    "start_time": "2024-06-12T05:23:49.999Z"
   },
   {
    "duration": 24,
    "start_time": "2024-06-12T05:23:51.466Z"
   },
   {
    "duration": 1451,
    "start_time": "2024-06-12T05:23:51.491Z"
   },
   {
    "duration": 23,
    "start_time": "2024-06-12T05:23:52.943Z"
   },
   {
    "duration": 20,
    "start_time": "2024-06-12T05:23:52.967Z"
   },
   {
    "duration": 1299,
    "start_time": "2024-06-12T05:23:52.989Z"
   },
   {
    "duration": 144,
    "start_time": "2024-06-12T05:23:54.290Z"
   },
   {
    "duration": 3,
    "start_time": "2024-06-12T05:23:54.435Z"
   },
   {
    "duration": 75,
    "start_time": "2024-06-12T05:23:54.439Z"
   },
   {
    "duration": 1021,
    "start_time": "2024-06-12T05:23:54.520Z"
   },
   {
    "duration": 2006,
    "start_time": "2024-06-12T05:23:55.543Z"
   },
   {
    "duration": 198596,
    "start_time": "2024-06-12T05:23:57.551Z"
   },
   {
    "duration": 165,
    "start_time": "2024-06-12T05:27:16.150Z"
   },
   {
    "duration": 1311,
    "start_time": "2024-06-12T05:46:20.283Z"
   },
   {
    "duration": 755,
    "start_time": "2024-06-12T05:46:21.596Z"
   },
   {
    "duration": 17,
    "start_time": "2024-06-12T05:46:22.352Z"
   },
   {
    "duration": 28,
    "start_time": "2024-06-12T05:46:22.370Z"
   },
   {
    "duration": 5,
    "start_time": "2024-06-12T05:46:22.400Z"
   },
   {
    "duration": 19,
    "start_time": "2024-06-12T05:46:22.406Z"
   },
   {
    "duration": 373,
    "start_time": "2024-06-12T05:46:22.426Z"
   },
   {
    "duration": 338,
    "start_time": "2024-06-12T05:46:22.800Z"
   },
   {
    "duration": 162,
    "start_time": "2024-06-12T05:46:23.140Z"
   },
   {
    "duration": 35,
    "start_time": "2024-06-12T05:46:23.304Z"
   },
   {
    "duration": 13,
    "start_time": "2024-06-12T05:46:23.341Z"
   },
   {
    "duration": 27,
    "start_time": "2024-06-12T05:46:23.356Z"
   },
   {
    "duration": 13,
    "start_time": "2024-06-12T05:46:23.385Z"
   },
   {
    "duration": 51,
    "start_time": "2024-06-12T05:46:23.422Z"
   },
   {
    "duration": 23,
    "start_time": "2024-06-12T05:46:23.475Z"
   },
   {
    "duration": 39,
    "start_time": "2024-06-12T05:46:23.499Z"
   },
   {
    "duration": 28,
    "start_time": "2024-06-12T05:46:23.539Z"
   },
   {
    "duration": 53,
    "start_time": "2024-06-12T05:46:23.568Z"
   },
   {
    "duration": 14,
    "start_time": "2024-06-12T05:46:23.622Z"
   },
   {
    "duration": 5,
    "start_time": "2024-06-12T05:46:23.638Z"
   },
   {
    "duration": 10,
    "start_time": "2024-06-12T05:46:23.644Z"
   },
   {
    "duration": 9,
    "start_time": "2024-06-12T05:46:23.655Z"
   },
   {
    "duration": 23,
    "start_time": "2024-06-12T05:46:23.665Z"
   },
   {
    "duration": 1401,
    "start_time": "2024-06-12T05:46:23.690Z"
   },
   {
    "duration": 29,
    "start_time": "2024-06-12T05:46:25.093Z"
   },
   {
    "duration": 1358,
    "start_time": "2024-06-12T05:46:25.123Z"
   },
   {
    "duration": 25,
    "start_time": "2024-06-12T05:46:26.482Z"
   },
   {
    "duration": 34,
    "start_time": "2024-06-12T05:46:26.509Z"
   },
   {
    "duration": 1286,
    "start_time": "2024-06-12T05:46:26.544Z"
   },
   {
    "duration": 131,
    "start_time": "2024-06-12T05:46:27.831Z"
   },
   {
    "duration": 3,
    "start_time": "2024-06-12T05:46:27.963Z"
   },
   {
    "duration": 80,
    "start_time": "2024-06-12T05:46:27.967Z"
   },
   {
    "duration": 1043,
    "start_time": "2024-06-12T05:46:28.048Z"
   },
   {
    "duration": 2330,
    "start_time": "2024-06-12T05:46:29.092Z"
   },
   {
    "duration": 201174,
    "start_time": "2024-06-12T05:46:31.424Z"
   },
   {
    "duration": 1284,
    "start_time": "2024-06-12T06:02:26.378Z"
   },
   {
    "duration": 771,
    "start_time": "2024-06-12T06:02:27.664Z"
   },
   {
    "duration": 16,
    "start_time": "2024-06-12T06:02:28.437Z"
   },
   {
    "duration": 27,
    "start_time": "2024-06-12T06:02:28.454Z"
   },
   {
    "duration": 9,
    "start_time": "2024-06-12T06:02:28.483Z"
   },
   {
    "duration": 5,
    "start_time": "2024-06-12T06:02:28.494Z"
   },
   {
    "duration": 388,
    "start_time": "2024-06-12T06:02:28.500Z"
   },
   {
    "duration": 346,
    "start_time": "2024-06-12T06:02:28.890Z"
   },
   {
    "duration": 158,
    "start_time": "2024-06-12T06:02:29.238Z"
   },
   {
    "duration": 41,
    "start_time": "2024-06-12T06:02:29.397Z"
   },
   {
    "duration": 14,
    "start_time": "2024-06-12T06:02:29.439Z"
   },
   {
    "duration": 33,
    "start_time": "2024-06-12T06:02:29.454Z"
   },
   {
    "duration": 13,
    "start_time": "2024-06-12T06:02:29.488Z"
   },
   {
    "duration": 42,
    "start_time": "2024-06-12T06:02:29.503Z"
   },
   {
    "duration": 13,
    "start_time": "2024-06-12T06:02:29.546Z"
   },
   {
    "duration": 28,
    "start_time": "2024-06-12T06:02:29.560Z"
   },
   {
    "duration": 13,
    "start_time": "2024-06-12T06:02:29.590Z"
   },
   {
    "duration": 33,
    "start_time": "2024-06-12T06:02:29.627Z"
   },
   {
    "duration": 15,
    "start_time": "2024-06-12T06:02:29.661Z"
   },
   {
    "duration": 11,
    "start_time": "2024-06-12T06:02:29.677Z"
   },
   {
    "duration": 18,
    "start_time": "2024-06-12T06:02:29.690Z"
   },
   {
    "duration": 37,
    "start_time": "2024-06-12T06:02:29.709Z"
   },
   {
    "duration": 29,
    "start_time": "2024-06-12T06:02:29.748Z"
   },
   {
    "duration": 1371,
    "start_time": "2024-06-12T06:02:29.779Z"
   },
   {
    "duration": 25,
    "start_time": "2024-06-12T06:02:31.151Z"
   },
   {
    "duration": 1617,
    "start_time": "2024-06-12T06:02:31.177Z"
   },
   {
    "duration": 39,
    "start_time": "2024-06-12T06:02:32.795Z"
   },
   {
    "duration": 19,
    "start_time": "2024-06-12T06:02:32.836Z"
   },
   {
    "duration": 1330,
    "start_time": "2024-06-12T06:02:32.857Z"
   },
   {
    "duration": 149,
    "start_time": "2024-06-12T06:03:20.179Z"
   },
   {
    "duration": 765,
    "start_time": "2024-06-12T06:03:35.434Z"
   },
   {
    "duration": 296,
    "start_time": "2024-06-12T06:03:40.467Z"
   },
   {
    "duration": 153,
    "start_time": "2024-06-12T06:03:53.399Z"
   },
   {
    "duration": 6,
    "start_time": "2024-06-12T06:04:54.701Z"
   },
   {
    "duration": 164466,
    "start_time": "2024-06-12T06:05:15.860Z"
   },
   {
    "duration": 157,
    "start_time": "2024-06-12T06:08:00.328Z"
   },
   {
    "duration": 1084,
    "start_time": "2024-06-12T06:08:05.455Z"
   },
   {
    "duration": 2126,
    "start_time": "2024-06-12T06:08:11.120Z"
   },
   {
    "duration": 267130,
    "start_time": "2024-06-12T06:08:54.773Z"
   },
   {
    "duration": 1303,
    "start_time": "2024-06-12T06:52:57.354Z"
   },
   {
    "duration": 757,
    "start_time": "2024-06-12T06:52:58.659Z"
   },
   {
    "duration": 25,
    "start_time": "2024-06-12T06:52:59.417Z"
   },
   {
    "duration": 19,
    "start_time": "2024-06-12T06:52:59.443Z"
   },
   {
    "duration": 6,
    "start_time": "2024-06-12T06:52:59.464Z"
   },
   {
    "duration": 6,
    "start_time": "2024-06-12T06:52:59.472Z"
   },
   {
    "duration": 425,
    "start_time": "2024-06-12T06:52:59.480Z"
   },
   {
    "duration": 404,
    "start_time": "2024-06-12T06:52:59.907Z"
   },
   {
    "duration": 174,
    "start_time": "2024-06-12T06:53:00.312Z"
   },
   {
    "duration": 47,
    "start_time": "2024-06-12T06:53:00.487Z"
   },
   {
    "duration": 97,
    "start_time": "2024-06-12T06:53:00.535Z"
   },
   {
    "duration": 119,
    "start_time": "2024-06-12T06:53:00.633Z"
   },
   {
    "duration": 39,
    "start_time": "2024-06-12T06:53:00.753Z"
   },
   {
    "duration": 116,
    "start_time": "2024-06-12T06:53:00.794Z"
   },
   {
    "duration": 82,
    "start_time": "2024-06-12T06:53:00.911Z"
   },
   {
    "duration": 107,
    "start_time": "2024-06-12T06:53:00.994Z"
   },
   {
    "duration": 112,
    "start_time": "2024-06-12T06:53:01.102Z"
   },
   {
    "duration": 93,
    "start_time": "2024-06-12T06:53:01.217Z"
   },
   {
    "duration": 89,
    "start_time": "2024-06-12T06:53:01.311Z"
   },
   {
    "duration": 163,
    "start_time": "2024-06-12T06:53:01.401Z"
   },
   {
    "duration": 86,
    "start_time": "2024-06-12T06:53:01.565Z"
   },
   {
    "duration": 79,
    "start_time": "2024-06-12T06:53:01.653Z"
   },
   {
    "duration": 40,
    "start_time": "2024-06-12T06:53:01.734Z"
   },
   {
    "duration": 1498,
    "start_time": "2024-06-12T06:53:01.775Z"
   },
   {
    "duration": 23,
    "start_time": "2024-06-12T06:53:03.275Z"
   },
   {
    "duration": 1488,
    "start_time": "2024-06-12T06:53:03.300Z"
   },
   {
    "duration": 41,
    "start_time": "2024-06-12T06:53:04.789Z"
   },
   {
    "duration": 20,
    "start_time": "2024-06-12T06:53:04.833Z"
   },
   {
    "duration": 1291,
    "start_time": "2024-06-12T06:53:04.854Z"
   },
   {
    "duration": 129,
    "start_time": "2024-06-12T06:53:06.146Z"
   },
   {
    "duration": 3,
    "start_time": "2024-06-12T06:53:06.277Z"
   },
   {
    "duration": 85,
    "start_time": "2024-06-12T06:53:06.281Z"
   },
   {
    "duration": 1043,
    "start_time": "2024-06-12T06:53:06.367Z"
   },
   {
    "duration": 1913,
    "start_time": "2024-06-12T06:53:07.411Z"
   },
   {
    "duration": 268662,
    "start_time": "2024-06-12T06:53:09.325Z"
   },
   {
    "duration": 1410,
    "start_time": "2024-06-12T08:22:02.002Z"
   },
   {
    "duration": 752,
    "start_time": "2024-06-12T08:22:03.413Z"
   },
   {
    "duration": 15,
    "start_time": "2024-06-12T08:22:04.166Z"
   },
   {
    "duration": 29,
    "start_time": "2024-06-12T08:22:04.182Z"
   },
   {
    "duration": 19,
    "start_time": "2024-06-12T08:22:04.213Z"
   },
   {
    "duration": 4,
    "start_time": "2024-06-12T08:22:04.234Z"
   },
   {
    "duration": 408,
    "start_time": "2024-06-12T08:22:04.239Z"
   },
   {
    "duration": 348,
    "start_time": "2024-06-12T08:22:04.648Z"
   },
   {
    "duration": 176,
    "start_time": "2024-06-12T08:22:04.997Z"
   },
   {
    "duration": 62,
    "start_time": "2024-06-12T08:22:05.176Z"
   },
   {
    "duration": 26,
    "start_time": "2024-06-12T08:22:05.240Z"
   },
   {
    "duration": 50,
    "start_time": "2024-06-12T08:22:05.267Z"
   },
   {
    "duration": 28,
    "start_time": "2024-06-12T08:22:05.320Z"
   },
   {
    "duration": 31,
    "start_time": "2024-06-12T08:22:05.349Z"
   },
   {
    "duration": 14,
    "start_time": "2024-06-12T08:22:05.381Z"
   },
   {
    "duration": 45,
    "start_time": "2024-06-12T08:22:05.396Z"
   },
   {
    "duration": 14,
    "start_time": "2024-06-12T08:22:05.442Z"
   },
   {
    "duration": 56,
    "start_time": "2024-06-12T08:22:05.457Z"
   },
   {
    "duration": 22,
    "start_time": "2024-06-12T08:22:05.515Z"
   },
   {
    "duration": 7,
    "start_time": "2024-06-12T08:22:05.538Z"
   },
   {
    "duration": 11,
    "start_time": "2024-06-12T08:22:05.547Z"
   },
   {
    "duration": 14,
    "start_time": "2024-06-12T08:22:05.559Z"
   },
   {
    "duration": 29,
    "start_time": "2024-06-12T08:22:05.574Z"
   },
   {
    "duration": 1453,
    "start_time": "2024-06-12T08:22:05.604Z"
   },
   {
    "duration": 24,
    "start_time": "2024-06-12T08:22:07.059Z"
   },
   {
    "duration": 1585,
    "start_time": "2024-06-12T08:22:07.084Z"
   },
   {
    "duration": 20,
    "start_time": "2024-06-12T08:22:08.671Z"
   },
   {
    "duration": 42,
    "start_time": "2024-06-12T08:22:08.693Z"
   },
   {
    "duration": 1324,
    "start_time": "2024-06-12T08:22:08.737Z"
   },
   {
    "duration": 396,
    "start_time": "2024-06-12T08:31:02.297Z"
   },
   {
    "duration": 117,
    "start_time": "2024-06-12T08:32:22.771Z"
   },
   {
    "duration": 771,
    "start_time": "2024-06-12T08:32:46.093Z"
   },
   {
    "duration": 288,
    "start_time": "2024-06-12T08:33:02.819Z"
   },
   {
    "duration": 155231,
    "start_time": "2024-06-12T08:33:23.403Z"
   },
   {
    "duration": 125,
    "start_time": "2024-06-12T08:35:58.636Z"
   },
   {
    "duration": 5,
    "start_time": "2024-06-12T08:37:15.644Z"
   },
   {
    "duration": 63688,
    "start_time": "2024-06-12T08:37:25.529Z"
   },
   {
    "duration": 63500,
    "start_time": "2024-06-12T08:39:17.132Z"
   },
   {
    "duration": 7359,
    "start_time": "2024-06-12T08:40:20.635Z"
   },
   {
    "duration": 1376,
    "start_time": "2024-06-12T08:48:44.302Z"
   },
   {
    "duration": 750,
    "start_time": "2024-06-12T08:48:45.680Z"
   },
   {
    "duration": 18,
    "start_time": "2024-06-12T08:48:46.431Z"
   },
   {
    "duration": 21,
    "start_time": "2024-06-12T08:48:46.451Z"
   },
   {
    "duration": 6,
    "start_time": "2024-06-12T08:48:46.475Z"
   },
   {
    "duration": 16,
    "start_time": "2024-06-12T08:48:46.482Z"
   },
   {
    "duration": 443,
    "start_time": "2024-06-12T08:48:46.499Z"
   },
   {
    "duration": 348,
    "start_time": "2024-06-12T08:48:46.944Z"
   },
   {
    "duration": 169,
    "start_time": "2024-06-12T08:48:47.293Z"
   },
   {
    "duration": 28,
    "start_time": "2024-06-12T08:48:47.463Z"
   },
   {
    "duration": 34,
    "start_time": "2024-06-12T08:48:47.492Z"
   },
   {
    "duration": 39,
    "start_time": "2024-06-12T08:48:47.527Z"
   },
   {
    "duration": 13,
    "start_time": "2024-06-12T08:48:47.568Z"
   },
   {
    "duration": 35,
    "start_time": "2024-06-12T08:48:47.583Z"
   },
   {
    "duration": 27,
    "start_time": "2024-06-12T08:48:47.620Z"
   },
   {
    "duration": 47,
    "start_time": "2024-06-12T08:48:47.648Z"
   },
   {
    "duration": 13,
    "start_time": "2024-06-12T08:48:47.697Z"
   },
   {
    "duration": 51,
    "start_time": "2024-06-12T08:48:47.711Z"
   },
   {
    "duration": 25,
    "start_time": "2024-06-12T08:48:47.763Z"
   },
   {
    "duration": 4,
    "start_time": "2024-06-12T08:48:47.789Z"
   },
   {
    "duration": 22,
    "start_time": "2024-06-12T08:48:47.794Z"
   },
   {
    "duration": 22,
    "start_time": "2024-06-12T08:48:47.817Z"
   },
   {
    "duration": 36,
    "start_time": "2024-06-12T08:48:47.840Z"
   },
   {
    "duration": 1567,
    "start_time": "2024-06-12T08:48:47.877Z"
   },
   {
    "duration": 32,
    "start_time": "2024-06-12T08:48:49.445Z"
   },
   {
    "duration": 1483,
    "start_time": "2024-06-12T08:48:49.478Z"
   },
   {
    "duration": 24,
    "start_time": "2024-06-12T08:48:50.962Z"
   },
   {
    "duration": 35,
    "start_time": "2024-06-12T08:48:50.987Z"
   },
   {
    "duration": 1328,
    "start_time": "2024-06-12T08:48:51.023Z"
   },
   {
    "duration": 413,
    "start_time": "2024-06-12T08:48:52.354Z"
   },
   {
    "duration": 2,
    "start_time": "2024-06-12T08:48:52.769Z"
   },
   {
    "duration": 767,
    "start_time": "2024-06-12T08:48:52.772Z"
   },
   {
    "duration": 299,
    "start_time": "2024-06-12T08:48:53.540Z"
   },
   {
    "duration": 165799,
    "start_time": "2024-06-12T08:48:53.840Z"
   },
   {
    "duration": 64089,
    "start_time": "2024-06-12T08:51:39.658Z"
   },
   {
    "duration": 7291,
    "start_time": "2024-06-12T08:52:43.748Z"
   },
   {
    "duration": 1401,
    "start_time": "2024-06-12T08:57:11.020Z"
   },
   {
    "duration": 737,
    "start_time": "2024-06-12T08:57:12.423Z"
   },
   {
    "duration": 15,
    "start_time": "2024-06-12T08:57:13.162Z"
   },
   {
    "duration": 31,
    "start_time": "2024-06-12T08:57:13.178Z"
   },
   {
    "duration": 14,
    "start_time": "2024-06-12T08:57:13.211Z"
   },
   {
    "duration": 5,
    "start_time": "2024-06-12T08:57:13.226Z"
   },
   {
    "duration": 377,
    "start_time": "2024-06-12T08:57:13.232Z"
   },
   {
    "duration": 332,
    "start_time": "2024-06-12T08:57:13.611Z"
   },
   {
    "duration": 165,
    "start_time": "2024-06-12T08:57:13.944Z"
   },
   {
    "duration": 35,
    "start_time": "2024-06-12T08:57:14.110Z"
   },
   {
    "duration": 14,
    "start_time": "2024-06-12T08:57:14.146Z"
   },
   {
    "duration": 29,
    "start_time": "2024-06-12T08:57:14.161Z"
   },
   {
    "duration": 29,
    "start_time": "2024-06-12T08:57:14.192Z"
   },
   {
    "duration": 50,
    "start_time": "2024-06-12T08:57:14.223Z"
   },
   {
    "duration": 43,
    "start_time": "2024-06-12T08:57:14.274Z"
   },
   {
    "duration": 52,
    "start_time": "2024-06-12T08:57:14.318Z"
   },
   {
    "duration": 15,
    "start_time": "2024-06-12T08:57:14.372Z"
   },
   {
    "duration": 30,
    "start_time": "2024-06-12T08:57:14.389Z"
   },
   {
    "duration": 20,
    "start_time": "2024-06-12T08:57:14.420Z"
   },
   {
    "duration": 33,
    "start_time": "2024-06-12T08:57:14.442Z"
   },
   {
    "duration": 17,
    "start_time": "2024-06-12T08:57:14.477Z"
   },
   {
    "duration": 10,
    "start_time": "2024-06-12T08:57:14.496Z"
   },
   {
    "duration": 31,
    "start_time": "2024-06-12T08:57:14.507Z"
   },
   {
    "duration": 1458,
    "start_time": "2024-06-12T08:57:14.539Z"
   },
   {
    "duration": 38,
    "start_time": "2024-06-12T08:57:15.998Z"
   },
   {
    "duration": 1416,
    "start_time": "2024-06-12T08:57:16.038Z"
   },
   {
    "duration": 22,
    "start_time": "2024-06-12T08:57:17.455Z"
   },
   {
    "duration": 19,
    "start_time": "2024-06-12T08:57:17.479Z"
   },
   {
    "duration": 1297,
    "start_time": "2024-06-12T08:57:17.500Z"
   },
   {
    "duration": 414,
    "start_time": "2024-06-12T08:57:18.798Z"
   },
   {
    "duration": 6,
    "start_time": "2024-06-12T08:57:19.214Z"
   },
   {
    "duration": 720,
    "start_time": "2024-06-12T08:57:19.222Z"
   },
   {
    "duration": 283,
    "start_time": "2024-06-12T08:57:19.944Z"
   },
   {
    "duration": 76004,
    "start_time": "2024-06-12T08:57:20.228Z"
   },
   {
    "duration": 61802,
    "start_time": "2024-06-12T08:58:36.234Z"
   },
   {
    "duration": 7048,
    "start_time": "2024-06-12T08:59:38.037Z"
   },
   {
    "duration": 1334,
    "start_time": "2024-06-12T09:22:27.089Z"
   },
   {
    "duration": 713,
    "start_time": "2024-06-12T09:22:28.425Z"
   },
   {
    "duration": 14,
    "start_time": "2024-06-12T09:22:29.140Z"
   },
   {
    "duration": 26,
    "start_time": "2024-06-12T09:22:29.156Z"
   },
   {
    "duration": 11,
    "start_time": "2024-06-12T09:22:29.184Z"
   },
   {
    "duration": 7,
    "start_time": "2024-06-12T09:22:29.196Z"
   },
   {
    "duration": 396,
    "start_time": "2024-06-12T09:22:29.204Z"
   },
   {
    "duration": 391,
    "start_time": "2024-06-12T09:22:29.602Z"
   },
   {
    "duration": 159,
    "start_time": "2024-06-12T09:22:29.994Z"
   },
   {
    "duration": 29,
    "start_time": "2024-06-12T09:22:30.154Z"
   },
   {
    "duration": 41,
    "start_time": "2024-06-12T09:22:30.184Z"
   },
   {
    "duration": 83,
    "start_time": "2024-06-12T09:22:30.227Z"
   },
   {
    "duration": 99,
    "start_time": "2024-06-12T09:22:30.312Z"
   },
   {
    "duration": 86,
    "start_time": "2024-06-12T09:22:30.414Z"
   },
   {
    "duration": 64,
    "start_time": "2024-06-12T09:22:30.501Z"
   },
   {
    "duration": 107,
    "start_time": "2024-06-12T09:22:30.567Z"
   },
   {
    "duration": 165,
    "start_time": "2024-06-12T09:22:30.675Z"
   },
   {
    "duration": 94,
    "start_time": "2024-06-12T09:22:30.842Z"
   },
   {
    "duration": 64,
    "start_time": "2024-06-12T09:22:30.938Z"
   },
   {
    "duration": 50,
    "start_time": "2024-06-12T09:22:31.004Z"
   },
   {
    "duration": 49,
    "start_time": "2024-06-12T09:22:31.056Z"
   },
   {
    "duration": 48,
    "start_time": "2024-06-12T09:22:31.106Z"
   },
   {
    "duration": 70,
    "start_time": "2024-06-12T09:22:31.156Z"
   },
   {
    "duration": 1597,
    "start_time": "2024-06-12T09:22:31.227Z"
   },
   {
    "duration": 24,
    "start_time": "2024-06-12T09:22:32.826Z"
   },
   {
    "duration": 1501,
    "start_time": "2024-06-12T09:22:32.851Z"
   },
   {
    "duration": 23,
    "start_time": "2024-06-12T09:22:34.353Z"
   },
   {
    "duration": 20,
    "start_time": "2024-06-12T09:22:34.378Z"
   },
   {
    "duration": 1305,
    "start_time": "2024-06-12T09:22:34.399Z"
   },
   {
    "duration": 459,
    "start_time": "2024-06-12T09:22:35.706Z"
   },
   {
    "duration": 3,
    "start_time": "2024-06-12T09:22:36.166Z"
   },
   {
    "duration": 827,
    "start_time": "2024-06-12T09:22:36.170Z"
   },
   {
    "duration": 279,
    "start_time": "2024-06-12T09:22:36.999Z"
   },
   {
    "duration": 70363,
    "start_time": "2024-06-12T09:22:37.280Z"
   },
   {
    "duration": 62479,
    "start_time": "2024-06-12T09:23:47.645Z"
   },
   {
    "duration": 7230,
    "start_time": "2024-06-12T09:24:50.125Z"
   },
   {
    "duration": 1280,
    "start_time": "2024-06-12T09:30:45.066Z"
   },
   {
    "duration": 737,
    "start_time": "2024-06-12T09:30:46.348Z"
   },
   {
    "duration": 15,
    "start_time": "2024-06-12T09:30:47.086Z"
   },
   {
    "duration": 34,
    "start_time": "2024-06-12T09:30:47.102Z"
   },
   {
    "duration": 8,
    "start_time": "2024-06-12T09:30:47.138Z"
   },
   {
    "duration": 9,
    "start_time": "2024-06-12T09:30:47.147Z"
   },
   {
    "duration": 358,
    "start_time": "2024-06-12T09:30:47.157Z"
   },
   {
    "duration": 334,
    "start_time": "2024-06-12T09:30:47.520Z"
   },
   {
    "duration": 155,
    "start_time": "2024-06-12T09:30:47.855Z"
   },
   {
    "duration": 32,
    "start_time": "2024-06-12T09:30:48.011Z"
   },
   {
    "duration": 17,
    "start_time": "2024-06-12T09:30:48.045Z"
   },
   {
    "duration": 47,
    "start_time": "2024-06-12T09:30:48.063Z"
   },
   {
    "duration": 15,
    "start_time": "2024-06-12T09:30:48.112Z"
   },
   {
    "duration": 55,
    "start_time": "2024-06-12T09:30:48.130Z"
   },
   {
    "duration": 12,
    "start_time": "2024-06-12T09:30:48.186Z"
   },
   {
    "duration": 43,
    "start_time": "2024-06-12T09:30:48.200Z"
   },
   {
    "duration": 15,
    "start_time": "2024-06-12T09:30:48.245Z"
   },
   {
    "duration": 41,
    "start_time": "2024-06-12T09:30:48.262Z"
   },
   {
    "duration": 34,
    "start_time": "2024-06-12T09:30:48.304Z"
   },
   {
    "duration": 45,
    "start_time": "2024-06-12T09:30:48.340Z"
   },
   {
    "duration": 19,
    "start_time": "2024-06-12T09:30:48.386Z"
   },
   {
    "duration": 13,
    "start_time": "2024-06-12T09:30:48.407Z"
   },
   {
    "duration": 30,
    "start_time": "2024-06-12T09:30:48.421Z"
   },
   {
    "duration": 1489,
    "start_time": "2024-06-12T09:30:48.452Z"
   },
   {
    "duration": 25,
    "start_time": "2024-06-12T09:30:49.943Z"
   },
   {
    "duration": 1566,
    "start_time": "2024-06-12T09:30:49.969Z"
   },
   {
    "duration": 20,
    "start_time": "2024-06-12T09:30:51.536Z"
   },
   {
    "duration": 19,
    "start_time": "2024-06-12T09:30:51.558Z"
   },
   {
    "duration": 1406,
    "start_time": "2024-06-12T09:30:51.578Z"
   },
   {
    "duration": 397,
    "start_time": "2024-06-12T09:30:52.985Z"
   },
   {
    "duration": 74,
    "start_time": "2024-06-12T09:31:03.108Z"
   },
   {
    "duration": 1044,
    "start_time": "2024-06-12T09:31:13.470Z"
   },
   {
    "duration": 2199,
    "start_time": "2024-06-12T09:31:20.445Z"
   },
   {
    "duration": 1351,
    "start_time": "2024-06-12T09:36:12.672Z"
   },
   {
    "duration": 725,
    "start_time": "2024-06-12T09:36:14.025Z"
   },
   {
    "duration": 15,
    "start_time": "2024-06-12T09:36:14.751Z"
   },
   {
    "duration": 20,
    "start_time": "2024-06-12T09:36:14.767Z"
   },
   {
    "duration": 5,
    "start_time": "2024-06-12T09:36:14.789Z"
   },
   {
    "duration": 9,
    "start_time": "2024-06-12T09:36:14.795Z"
   },
   {
    "duration": 373,
    "start_time": "2024-06-12T09:36:14.805Z"
   },
   {
    "duration": 349,
    "start_time": "2024-06-12T09:36:15.180Z"
   },
   {
    "duration": 157,
    "start_time": "2024-06-12T09:36:15.530Z"
   },
   {
    "duration": 34,
    "start_time": "2024-06-12T09:36:15.688Z"
   },
   {
    "duration": 23,
    "start_time": "2024-06-12T09:36:15.723Z"
   },
   {
    "duration": 38,
    "start_time": "2024-06-12T09:36:15.747Z"
   },
   {
    "duration": 39,
    "start_time": "2024-06-12T09:36:15.786Z"
   },
   {
    "duration": 56,
    "start_time": "2024-06-12T09:36:15.828Z"
   },
   {
    "duration": 28,
    "start_time": "2024-06-12T09:36:15.885Z"
   },
   {
    "duration": 54,
    "start_time": "2024-06-12T09:36:15.914Z"
   },
   {
    "duration": 23,
    "start_time": "2024-06-12T09:36:15.970Z"
   },
   {
    "duration": 26,
    "start_time": "2024-06-12T09:36:15.995Z"
   },
   {
    "duration": 18,
    "start_time": "2024-06-12T09:36:16.023Z"
   },
   {
    "duration": 25,
    "start_time": "2024-06-12T09:36:16.042Z"
   },
   {
    "duration": 22,
    "start_time": "2024-06-12T09:36:16.068Z"
   },
   {
    "duration": 18,
    "start_time": "2024-06-12T09:36:16.092Z"
   },
   {
    "duration": 24,
    "start_time": "2024-06-12T09:36:16.112Z"
   },
   {
    "duration": 1364,
    "start_time": "2024-06-12T09:36:16.138Z"
   },
   {
    "duration": 36,
    "start_time": "2024-06-12T09:36:17.503Z"
   },
   {
    "duration": 1355,
    "start_time": "2024-06-12T09:36:17.540Z"
   },
   {
    "duration": 29,
    "start_time": "2024-06-12T09:36:18.896Z"
   },
   {
    "duration": 20,
    "start_time": "2024-06-12T09:36:18.926Z"
   },
   {
    "duration": 1242,
    "start_time": "2024-06-12T09:36:18.947Z"
   },
   {
    "duration": 387,
    "start_time": "2024-06-12T09:36:20.191Z"
   },
   {
    "duration": 2,
    "start_time": "2024-06-12T09:36:20.580Z"
   },
   {
    "duration": 165,
    "start_time": "2024-06-12T09:38:35.870Z"
   },
   {
    "duration": 154,
    "start_time": "2024-06-12T09:39:00.463Z"
   },
   {
    "duration": 926,
    "start_time": "2024-06-12T09:39:10.487Z"
   },
   {
    "duration": 425,
    "start_time": "2024-06-12T09:39:20.942Z"
   },
   {
    "duration": 1355,
    "start_time": "2024-06-12T09:39:23.596Z"
   },
   {
    "duration": 1542,
    "start_time": "2024-06-12T09:41:20.782Z"
   },
   {
    "duration": 1309,
    "start_time": "2024-06-12T09:42:26.634Z"
   },
   {
    "duration": 738,
    "start_time": "2024-06-12T09:42:27.945Z"
   },
   {
    "duration": 14,
    "start_time": "2024-06-12T09:42:28.684Z"
   },
   {
    "duration": 29,
    "start_time": "2024-06-12T09:42:28.700Z"
   },
   {
    "duration": 16,
    "start_time": "2024-06-12T09:42:28.730Z"
   },
   {
    "duration": 17,
    "start_time": "2024-06-12T09:42:28.747Z"
   },
   {
    "duration": 385,
    "start_time": "2024-06-12T09:42:28.765Z"
   },
   {
    "duration": 340,
    "start_time": "2024-06-12T09:42:29.151Z"
   },
   {
    "duration": 157,
    "start_time": "2024-06-12T09:42:29.492Z"
   },
   {
    "duration": 28,
    "start_time": "2024-06-12T09:42:29.652Z"
   },
   {
    "duration": 22,
    "start_time": "2024-06-12T09:42:29.681Z"
   },
   {
    "duration": 33,
    "start_time": "2024-06-12T09:42:29.704Z"
   },
   {
    "duration": 14,
    "start_time": "2024-06-12T09:42:29.739Z"
   },
   {
    "duration": 35,
    "start_time": "2024-06-12T09:42:29.754Z"
   },
   {
    "duration": 20,
    "start_time": "2024-06-12T09:42:29.791Z"
   },
   {
    "duration": 37,
    "start_time": "2024-06-12T09:42:29.812Z"
   },
   {
    "duration": 14,
    "start_time": "2024-06-12T09:42:29.851Z"
   },
   {
    "duration": 66,
    "start_time": "2024-06-12T09:42:29.866Z"
   },
   {
    "duration": 25,
    "start_time": "2024-06-12T09:42:29.934Z"
   },
   {
    "duration": 5,
    "start_time": "2024-06-12T09:42:29.961Z"
   },
   {
    "duration": 7,
    "start_time": "2024-06-12T09:42:29.967Z"
   },
   {
    "duration": 11,
    "start_time": "2024-06-12T09:42:29.976Z"
   },
   {
    "duration": 52,
    "start_time": "2024-06-12T09:42:29.988Z"
   },
   {
    "duration": 1369,
    "start_time": "2024-06-12T09:42:30.041Z"
   },
   {
    "duration": 37,
    "start_time": "2024-06-12T09:42:31.412Z"
   },
   {
    "duration": 1352,
    "start_time": "2024-06-12T09:42:31.451Z"
   },
   {
    "duration": 33,
    "start_time": "2024-06-12T09:42:32.805Z"
   },
   {
    "duration": 19,
    "start_time": "2024-06-12T09:42:32.841Z"
   },
   {
    "duration": 1232,
    "start_time": "2024-06-12T09:42:32.862Z"
   },
   {
    "duration": 372,
    "start_time": "2024-06-12T09:42:34.095Z"
   },
   {
    "duration": 2,
    "start_time": "2024-06-12T09:42:43.622Z"
   },
   {
    "duration": 106,
    "start_time": "2024-06-12T09:43:05.262Z"
   },
   {
    "duration": 1000,
    "start_time": "2024-06-12T09:43:58.183Z"
   },
   {
    "duration": 1918,
    "start_time": "2024-06-12T09:44:31.583Z"
   },
   {
    "duration": 134,
    "start_time": "2024-06-12T09:44:57.792Z"
   },
   {
    "duration": 1243,
    "start_time": "2024-06-12T09:45:46.457Z"
   },
   {
    "duration": 755,
    "start_time": "2024-06-12T09:45:47.702Z"
   },
   {
    "duration": 15,
    "start_time": "2024-06-12T09:45:48.459Z"
   },
   {
    "duration": 26,
    "start_time": "2024-06-12T09:45:48.475Z"
   },
   {
    "duration": 27,
    "start_time": "2024-06-12T09:45:48.503Z"
   },
   {
    "duration": 6,
    "start_time": "2024-06-12T09:45:48.531Z"
   },
   {
    "duration": 369,
    "start_time": "2024-06-12T09:45:48.539Z"
   },
   {
    "duration": 364,
    "start_time": "2024-06-12T09:45:48.909Z"
   },
   {
    "duration": 173,
    "start_time": "2024-06-12T09:45:49.274Z"
   },
   {
    "duration": 29,
    "start_time": "2024-06-12T09:45:49.449Z"
   },
   {
    "duration": 15,
    "start_time": "2024-06-12T09:45:49.480Z"
   },
   {
    "duration": 46,
    "start_time": "2024-06-12T09:45:49.497Z"
   },
   {
    "duration": 21,
    "start_time": "2024-06-12T09:45:49.544Z"
   },
   {
    "duration": 64,
    "start_time": "2024-06-12T09:45:49.567Z"
   },
   {
    "duration": 16,
    "start_time": "2024-06-12T09:45:49.632Z"
   },
   {
    "duration": 56,
    "start_time": "2024-06-12T09:45:49.649Z"
   },
   {
    "duration": 21,
    "start_time": "2024-06-12T09:45:49.707Z"
   },
   {
    "duration": 31,
    "start_time": "2024-06-12T09:45:49.730Z"
   },
   {
    "duration": 14,
    "start_time": "2024-06-12T09:45:49.762Z"
   },
   {
    "duration": 6,
    "start_time": "2024-06-12T09:45:49.778Z"
   },
   {
    "duration": 7,
    "start_time": "2024-06-12T09:45:49.785Z"
   },
   {
    "duration": 25,
    "start_time": "2024-06-12T09:45:49.793Z"
   },
   {
    "duration": 31,
    "start_time": "2024-06-12T09:45:49.819Z"
   },
   {
    "duration": 1416,
    "start_time": "2024-06-12T09:45:49.852Z"
   },
   {
    "duration": 25,
    "start_time": "2024-06-12T09:45:51.270Z"
   },
   {
    "duration": 1459,
    "start_time": "2024-06-12T09:45:51.296Z"
   },
   {
    "duration": 28,
    "start_time": "2024-06-12T09:45:52.756Z"
   },
   {
    "duration": 34,
    "start_time": "2024-06-12T09:45:52.786Z"
   },
   {
    "duration": 1295,
    "start_time": "2024-06-12T09:45:52.821Z"
   },
   {
    "duration": 137,
    "start_time": "2024-06-12T09:45:54.117Z"
   },
   {
    "duration": 109,
    "start_time": "2024-06-12T09:46:04.383Z"
   },
   {
    "duration": 19,
    "start_time": "2024-06-12T09:46:22.614Z"
   },
   {
    "duration": 70,
    "start_time": "2024-06-12T09:46:54.024Z"
   },
   {
    "duration": 932,
    "start_time": "2024-06-12T09:47:14.416Z"
   },
   {
    "duration": 777,
    "start_time": "2024-06-12T09:47:31.690Z"
   },
   {
    "duration": 1674,
    "start_time": "2024-06-12T09:48:17.650Z"
   },
   {
    "duration": 1793,
    "start_time": "2024-06-12T09:49:46.831Z"
   },
   {
    "duration": 24,
    "start_time": "2024-06-12T09:50:58.488Z"
   },
   {
    "duration": 35,
    "start_time": "2024-06-12T09:51:10.905Z"
   },
   {
    "duration": 263551,
    "start_time": "2024-06-12T09:51:13.401Z"
   },
   {
    "duration": 6074,
    "start_time": "2024-06-12T09:55:36.954Z"
   },
   {
    "duration": 19,
    "start_time": "2024-06-12T09:57:18.745Z"
   },
   {
    "duration": 1906153,
    "start_time": "2024-06-12T09:57:22.494Z"
   },
   {
    "duration": 1394,
    "start_time": "2024-06-12T10:32:40.005Z"
   },
   {
    "duration": 729,
    "start_time": "2024-06-12T10:32:41.401Z"
   },
   {
    "duration": 17,
    "start_time": "2024-06-12T10:32:42.132Z"
   },
   {
    "duration": 24,
    "start_time": "2024-06-12T10:32:42.150Z"
   },
   {
    "duration": 7,
    "start_time": "2024-06-12T10:32:42.176Z"
   },
   {
    "duration": 6,
    "start_time": "2024-06-12T10:32:42.184Z"
   },
   {
    "duration": 424,
    "start_time": "2024-06-12T10:32:42.192Z"
   },
   {
    "duration": 391,
    "start_time": "2024-06-12T10:32:42.618Z"
   },
   {
    "duration": 186,
    "start_time": "2024-06-12T10:32:43.010Z"
   },
   {
    "duration": 43,
    "start_time": "2024-06-12T10:32:43.198Z"
   },
   {
    "duration": 13,
    "start_time": "2024-06-12T10:32:43.243Z"
   },
   {
    "duration": 30,
    "start_time": "2024-06-12T10:32:43.257Z"
   },
   {
    "duration": 13,
    "start_time": "2024-06-12T10:32:43.289Z"
   },
   {
    "duration": 37,
    "start_time": "2024-06-12T10:32:43.326Z"
   },
   {
    "duration": 14,
    "start_time": "2024-06-12T10:32:43.365Z"
   },
   {
    "duration": 36,
    "start_time": "2024-06-12T10:32:43.380Z"
   },
   {
    "duration": 25,
    "start_time": "2024-06-12T10:32:43.417Z"
   },
   {
    "duration": 26,
    "start_time": "2024-06-12T10:32:43.443Z"
   },
   {
    "duration": 17,
    "start_time": "2024-06-12T10:32:43.470Z"
   },
   {
    "duration": 4,
    "start_time": "2024-06-12T10:32:43.489Z"
   },
   {
    "duration": 14,
    "start_time": "2024-06-12T10:32:43.494Z"
   },
   {
    "duration": 25,
    "start_time": "2024-06-12T10:32:43.509Z"
   },
   {
    "duration": 26,
    "start_time": "2024-06-12T10:32:43.536Z"
   },
   {
    "duration": 1366,
    "start_time": "2024-06-12T10:32:43.564Z"
   },
   {
    "duration": 34,
    "start_time": "2024-06-12T10:32:44.933Z"
   },
   {
    "duration": 1526,
    "start_time": "2024-06-12T10:32:44.969Z"
   },
   {
    "duration": 39,
    "start_time": "2024-06-12T10:32:46.496Z"
   },
   {
    "duration": 19,
    "start_time": "2024-06-12T10:32:46.536Z"
   },
   {
    "duration": 1288,
    "start_time": "2024-06-12T10:32:46.556Z"
   },
   {
    "duration": 131,
    "start_time": "2024-06-12T10:33:11.180Z"
   },
   {
    "duration": 115,
    "start_time": "2024-06-12T10:33:28.242Z"
   },
   {
    "duration": 11,
    "start_time": "2024-06-12T10:33:52.888Z"
   },
   {
    "duration": 36,
    "start_time": "2024-06-12T10:34:00.475Z"
   },
   {
    "duration": 595,
    "start_time": "2024-06-12T10:34:10.479Z"
   },
   {
    "duration": 444,
    "start_time": "2024-06-12T10:34:25.791Z"
   },
   {
    "duration": 6,
    "start_time": "2024-06-12T10:34:39.731Z"
   },
   {
    "duration": 39197,
    "start_time": "2024-06-12T10:35:09.337Z"
   },
   {
    "duration": 477,
    "start_time": "2024-06-12T10:35:59.756Z"
   },
   {
    "duration": 4,
    "start_time": "2024-06-12T10:36:16.549Z"
   },
   {
    "duration": 337614,
    "start_time": "2024-06-12T10:36:47.445Z"
   },
   {
    "duration": 25673,
    "start_time": "2024-06-12T10:42:25.061Z"
   },
   {
    "duration": 118,
    "start_time": "2024-06-12T10:42:50.736Z"
   },
   {
    "duration": 4,
    "start_time": "2024-06-12T10:42:50.856Z"
   },
   {
    "duration": 344040,
    "start_time": "2024-06-12T10:42:50.861Z"
   },
   {
    "duration": 26139,
    "start_time": "2024-06-12T10:48:34.902Z"
   },
   {
    "duration": 2496,
    "start_time": "2024-06-12T10:49:01.042Z"
   },
   {
    "duration": 46,
    "start_time": "2024-06-12T10:49:03.540Z"
   },
   {
    "duration": 1291,
    "start_time": "2024-06-12T11:28:36.821Z"
   },
   {
    "duration": 748,
    "start_time": "2024-06-12T11:28:38.114Z"
   },
   {
    "duration": 18,
    "start_time": "2024-06-12T11:28:38.863Z"
   },
   {
    "duration": 18,
    "start_time": "2024-06-12T11:28:38.883Z"
   },
   {
    "duration": 18,
    "start_time": "2024-06-12T11:28:38.903Z"
   },
   {
    "duration": 10,
    "start_time": "2024-06-12T11:28:38.923Z"
   },
   {
    "duration": 359,
    "start_time": "2024-06-12T11:28:38.935Z"
   },
   {
    "duration": 332,
    "start_time": "2024-06-12T11:28:39.295Z"
   },
   {
    "duration": 157,
    "start_time": "2024-06-12T11:28:39.628Z"
   },
   {
    "duration": 38,
    "start_time": "2024-06-12T11:28:39.787Z"
   },
   {
    "duration": 14,
    "start_time": "2024-06-12T11:28:39.826Z"
   },
   {
    "duration": 28,
    "start_time": "2024-06-12T11:28:39.841Z"
   },
   {
    "duration": 13,
    "start_time": "2024-06-12T11:28:39.870Z"
   },
   {
    "duration": 43,
    "start_time": "2024-06-12T11:28:39.884Z"
   },
   {
    "duration": 12,
    "start_time": "2024-06-12T11:28:39.929Z"
   },
   {
    "duration": 31,
    "start_time": "2024-06-12T11:28:39.942Z"
   },
   {
    "duration": 13,
    "start_time": "2024-06-12T11:28:39.974Z"
   },
   {
    "duration": 47,
    "start_time": "2024-06-12T11:28:39.988Z"
   },
   {
    "duration": 48,
    "start_time": "2024-06-12T11:28:40.036Z"
   },
   {
    "duration": 8,
    "start_time": "2024-06-12T11:28:40.086Z"
   },
   {
    "duration": 18,
    "start_time": "2024-06-12T11:28:40.096Z"
   },
   {
    "duration": 21,
    "start_time": "2024-06-12T11:28:40.115Z"
   },
   {
    "duration": 29,
    "start_time": "2024-06-12T11:28:40.138Z"
   },
   {
    "duration": 1305,
    "start_time": "2024-06-12T11:28:40.169Z"
   },
   {
    "duration": 27,
    "start_time": "2024-06-12T11:28:41.475Z"
   },
   {
    "duration": 1513,
    "start_time": "2024-06-12T11:28:41.504Z"
   },
   {
    "duration": 22,
    "start_time": "2024-06-12T11:28:43.020Z"
   },
   {
    "duration": 26,
    "start_time": "2024-06-12T11:28:43.045Z"
   },
   {
    "duration": 1405,
    "start_time": "2024-06-12T11:28:43.072Z"
   },
   {
    "duration": 129,
    "start_time": "2024-06-12T11:28:44.479Z"
   },
   {
    "duration": 16,
    "start_time": "2024-06-12T11:28:44.609Z"
   },
   {
    "duration": 59,
    "start_time": "2024-06-12T11:28:44.626Z"
   },
   {
    "duration": 545,
    "start_time": "2024-06-12T11:28:44.687Z"
   },
   {
    "duration": 414,
    "start_time": "2024-06-12T11:28:45.233Z"
   },
   {
    "duration": 5,
    "start_time": "2024-06-12T11:28:45.649Z"
   },
   {
    "duration": 15666,
    "start_time": "2024-06-12T11:28:45.655Z"
   },
   {
    "duration": 498,
    "start_time": "2024-06-12T11:29:01.323Z"
   },
   {
    "duration": 6,
    "start_time": "2024-06-12T11:29:01.824Z"
   },
   {
    "duration": 316994,
    "start_time": "2024-06-12T11:29:01.921Z"
   },
   {
    "duration": 24171,
    "start_time": "2024-06-12T11:34:18.917Z"
   },
   {
    "duration": 124,
    "start_time": "2024-06-12T11:34:43.090Z"
   },
   {
    "duration": 5,
    "start_time": "2024-06-12T11:34:43.216Z"
   },
   {
    "duration": 323807,
    "start_time": "2024-06-12T11:34:43.222Z"
   },
   {
    "duration": 26203,
    "start_time": "2024-06-12T11:40:07.030Z"
   },
   {
    "duration": 1539,
    "start_time": "2024-06-12T15:18:20.120Z"
   },
   {
    "duration": 1009,
    "start_time": "2024-06-12T15:18:21.661Z"
   },
   {
    "duration": 17,
    "start_time": "2024-06-12T15:18:22.671Z"
   },
   {
    "duration": 29,
    "start_time": "2024-06-12T15:18:22.689Z"
   },
   {
    "duration": 5,
    "start_time": "2024-06-12T15:18:22.720Z"
   },
   {
    "duration": 13,
    "start_time": "2024-06-12T15:18:22.726Z"
   },
   {
    "duration": 381,
    "start_time": "2024-06-12T15:18:22.740Z"
   },
   {
    "duration": 348,
    "start_time": "2024-06-12T15:18:23.122Z"
   },
   {
    "duration": 206,
    "start_time": "2024-06-12T15:18:23.472Z"
   },
   {
    "duration": 36,
    "start_time": "2024-06-12T15:18:23.679Z"
   },
   {
    "duration": 49,
    "start_time": "2024-06-12T15:18:23.717Z"
   },
   {
    "duration": 59,
    "start_time": "2024-06-12T15:18:23.768Z"
   },
   {
    "duration": 29,
    "start_time": "2024-06-12T15:18:23.828Z"
   },
   {
    "duration": 78,
    "start_time": "2024-06-12T15:18:23.860Z"
   },
   {
    "duration": 28,
    "start_time": "2024-06-12T15:18:23.939Z"
   },
   {
    "duration": 73,
    "start_time": "2024-06-12T15:18:23.968Z"
   },
   {
    "duration": 21,
    "start_time": "2024-06-12T15:18:24.043Z"
   },
   {
    "duration": 61,
    "start_time": "2024-06-12T15:18:24.066Z"
   },
   {
    "duration": 16,
    "start_time": "2024-06-12T15:18:24.129Z"
   },
   {
    "duration": 21,
    "start_time": "2024-06-12T15:18:24.147Z"
   },
   {
    "duration": 15,
    "start_time": "2024-06-12T15:18:24.170Z"
   },
   {
    "duration": 14,
    "start_time": "2024-06-12T15:18:24.186Z"
   },
   {
    "duration": 40,
    "start_time": "2024-06-12T15:18:24.201Z"
   },
   {
    "duration": 1404,
    "start_time": "2024-06-12T15:18:24.242Z"
   },
   {
    "duration": 24,
    "start_time": "2024-06-12T15:18:25.648Z"
   },
   {
    "duration": 1393,
    "start_time": "2024-06-12T15:18:25.674Z"
   },
   {
    "duration": 22,
    "start_time": "2024-06-12T15:18:27.069Z"
   },
   {
    "duration": 29,
    "start_time": "2024-06-12T15:18:27.092Z"
   },
   {
    "duration": 1352,
    "start_time": "2024-06-12T15:18:27.122Z"
   },
   {
    "duration": 144,
    "start_time": "2024-06-12T15:20:19.934Z"
   },
   {
    "duration": 110,
    "start_time": "2024-06-12T15:21:29.336Z"
   },
   {
    "duration": 12,
    "start_time": "2024-06-12T15:22:02.937Z"
   },
   {
    "duration": 18,
    "start_time": "2024-06-12T15:22:19.604Z"
   },
   {
    "duration": 4,
    "start_time": "2024-06-12T15:22:30.402Z"
   },
   {
    "duration": 4,
    "start_time": "2024-06-12T15:22:45.067Z"
   },
   {
    "duration": 3,
    "start_time": "2024-06-12T15:23:07.649Z"
   },
   {
    "duration": 3,
    "start_time": "2024-06-12T15:23:20.695Z"
   },
   {
    "duration": 3,
    "start_time": "2024-06-12T15:24:04.156Z"
   },
   {
    "duration": 3,
    "start_time": "2024-06-12T15:24:13.414Z"
   },
   {
    "duration": 2,
    "start_time": "2024-06-12T15:24:45.052Z"
   },
   {
    "duration": 3,
    "start_time": "2024-06-12T15:25:01.668Z"
   },
   {
    "duration": 7,
    "start_time": "2024-06-12T15:25:15.856Z"
   },
   {
    "duration": 3,
    "start_time": "2024-06-12T15:26:04.381Z"
   },
   {
    "duration": 2,
    "start_time": "2024-06-12T15:26:21.304Z"
   },
   {
    "duration": 8,
    "start_time": "2024-06-12T15:27:47.959Z"
   },
   {
    "duration": 33,
    "start_time": "2024-06-12T15:29:06.447Z"
   },
   {
    "duration": 2,
    "start_time": "2024-06-12T15:29:42.029Z"
   },
   {
    "duration": 536,
    "start_time": "2024-06-12T15:29:43.864Z"
   },
   {
    "duration": 1475,
    "start_time": "2024-06-12T15:33:50.298Z"
   },
   {
    "duration": 2,
    "start_time": "2024-06-12T15:33:51.775Z"
   },
   {
    "duration": 759,
    "start_time": "2024-06-12T15:33:51.779Z"
   },
   {
    "duration": 18,
    "start_time": "2024-06-12T15:33:52.540Z"
   },
   {
    "duration": 37,
    "start_time": "2024-06-12T15:33:52.560Z"
   },
   {
    "duration": 11,
    "start_time": "2024-06-12T15:33:52.599Z"
   },
   {
    "duration": 7,
    "start_time": "2024-06-12T15:33:52.611Z"
   },
   {
    "duration": 418,
    "start_time": "2024-06-12T15:33:52.620Z"
   },
   {
    "duration": 406,
    "start_time": "2024-06-12T15:33:53.040Z"
   },
   {
    "duration": 209,
    "start_time": "2024-06-12T15:33:53.450Z"
   },
   {
    "duration": 34,
    "start_time": "2024-06-12T15:33:53.661Z"
   },
   {
    "duration": 5,
    "start_time": "2024-06-12T15:33:53.704Z"
   },
   {
    "duration": 32,
    "start_time": "2024-06-12T15:33:53.711Z"
   },
   {
    "duration": 21,
    "start_time": "2024-06-12T15:33:53.745Z"
   },
   {
    "duration": 55,
    "start_time": "2024-06-12T15:33:53.768Z"
   },
   {
    "duration": 6,
    "start_time": "2024-06-12T15:33:53.825Z"
   },
   {
    "duration": 43,
    "start_time": "2024-06-12T15:33:53.832Z"
   },
   {
    "duration": 63,
    "start_time": "2024-06-12T15:33:53.877Z"
   },
   {
    "duration": 73,
    "start_time": "2024-06-12T15:33:53.942Z"
   },
   {
    "duration": 2,
    "start_time": "2024-06-12T15:33:54.016Z"
   },
   {
    "duration": 15,
    "start_time": "2024-06-12T15:33:54.020Z"
   },
   {
    "duration": 32,
    "start_time": "2024-06-12T15:33:54.036Z"
   },
   {
    "duration": 22,
    "start_time": "2024-06-12T15:33:54.069Z"
   },
   {
    "duration": 32,
    "start_time": "2024-06-12T15:33:54.092Z"
   },
   {
    "duration": 1586,
    "start_time": "2024-06-12T15:33:54.126Z"
   },
   {
    "duration": 26,
    "start_time": "2024-06-12T15:33:55.713Z"
   },
   {
    "duration": 1586,
    "start_time": "2024-06-12T15:33:55.740Z"
   },
   {
    "duration": 21,
    "start_time": "2024-06-12T15:33:57.328Z"
   },
   {
    "duration": 25,
    "start_time": "2024-06-12T15:33:57.350Z"
   },
   {
    "duration": 1266,
    "start_time": "2024-06-12T15:33:57.377Z"
   },
   {
    "duration": 153,
    "start_time": "2024-06-12T15:33:58.645Z"
   },
   {
    "duration": 16,
    "start_time": "2024-06-12T15:33:58.800Z"
   },
   {
    "duration": 21,
    "start_time": "2024-06-12T15:33:58.818Z"
   },
   {
    "duration": 3,
    "start_time": "2024-06-12T15:33:58.841Z"
   },
   {
    "duration": 9,
    "start_time": "2024-06-12T15:33:58.846Z"
   },
   {
    "duration": 65,
    "start_time": "2024-06-12T15:33:58.857Z"
   },
   {
    "duration": 2,
    "start_time": "2024-06-12T15:33:58.924Z"
   },
   {
    "duration": 14,
    "start_time": "2024-06-12T15:33:58.927Z"
   },
   {
    "duration": 15,
    "start_time": "2024-06-12T15:33:58.942Z"
   },
   {
    "duration": 4,
    "start_time": "2024-06-12T15:33:58.958Z"
   },
   {
    "duration": 58,
    "start_time": "2024-06-12T15:33:58.963Z"
   },
   {
    "duration": 12,
    "start_time": "2024-06-12T15:33:59.022Z"
   },
   {
    "duration": 36,
    "start_time": "2024-06-12T15:33:59.035Z"
   },
   {
    "duration": 645,
    "start_time": "2024-06-12T15:34:12.360Z"
   },
   {
    "duration": 13,
    "start_time": "2024-06-12T15:40:03.256Z"
   },
   {
    "duration": 3,
    "start_time": "2024-06-12T15:41:20.040Z"
   },
   {
    "duration": 537,
    "start_time": "2024-06-12T15:41:27.720Z"
   },
   {
    "duration": 9,
    "start_time": "2024-06-12T15:49:15.874Z"
   },
   {
    "duration": 10,
    "start_time": "2024-06-12T15:50:31.799Z"
   },
   {
    "duration": 9,
    "start_time": "2024-06-12T15:50:47.075Z"
   },
   {
    "duration": 3,
    "start_time": "2024-06-12T15:53:06.834Z"
   },
   {
    "duration": 533,
    "start_time": "2024-06-12T15:53:12.762Z"
   },
   {
    "duration": 3,
    "start_time": "2024-06-12T15:53:45.294Z"
   },
   {
    "duration": 4,
    "start_time": "2024-06-12T15:53:52.628Z"
   },
   {
    "duration": 2,
    "start_time": "2024-06-12T15:53:53.140Z"
   },
   {
    "duration": 3,
    "start_time": "2024-06-12T15:53:54.490Z"
   },
   {
    "duration": 3,
    "start_time": "2024-06-12T15:53:55.700Z"
   },
   {
    "duration": 549,
    "start_time": "2024-06-12T15:54:00.084Z"
   },
   {
    "duration": 156,
    "start_time": "2024-06-12T15:55:10.097Z"
   },
   {
    "duration": 187,
    "start_time": "2024-06-12T15:55:49.292Z"
   },
   {
    "duration": 12,
    "start_time": "2024-06-12T15:55:51.573Z"
   },
   {
    "duration": 12,
    "start_time": "2024-06-12T15:55:52.510Z"
   },
   {
    "duration": 3,
    "start_time": "2024-06-12T15:55:54.865Z"
   },
   {
    "duration": 3,
    "start_time": "2024-06-12T15:55:56.318Z"
   },
   {
    "duration": 33,
    "start_time": "2024-06-12T15:55:57.405Z"
   },
   {
    "duration": 2,
    "start_time": "2024-06-12T15:55:58.150Z"
   },
   {
    "duration": 3,
    "start_time": "2024-06-12T15:55:59.301Z"
   },
   {
    "duration": 3,
    "start_time": "2024-06-12T15:56:00.254Z"
   },
   {
    "duration": 3,
    "start_time": "2024-06-12T15:56:01.496Z"
   },
   {
    "duration": 3,
    "start_time": "2024-06-12T15:56:02.493Z"
   },
   {
    "duration": 3,
    "start_time": "2024-06-12T15:56:03.742Z"
   },
   {
    "duration": 2,
    "start_time": "2024-06-12T15:56:05.167Z"
   },
   {
    "duration": 504,
    "start_time": "2024-06-12T15:56:06.817Z"
   },
   {
    "duration": 3,
    "start_time": "2024-06-12T15:59:37.119Z"
   },
   {
    "duration": 508,
    "start_time": "2024-06-12T15:59:42.690Z"
   },
   {
    "duration": 1310,
    "start_time": "2024-06-12T16:00:22.340Z"
   },
   {
    "duration": 3,
    "start_time": "2024-06-12T16:00:23.652Z"
   },
   {
    "duration": 782,
    "start_time": "2024-06-12T16:00:23.656Z"
   },
   {
    "duration": 14,
    "start_time": "2024-06-12T16:00:24.439Z"
   },
   {
    "duration": 30,
    "start_time": "2024-06-12T16:00:24.454Z"
   },
   {
    "duration": 7,
    "start_time": "2024-06-12T16:00:24.486Z"
   },
   {
    "duration": 16,
    "start_time": "2024-06-12T16:00:24.494Z"
   },
   {
    "duration": 375,
    "start_time": "2024-06-12T16:00:24.512Z"
   },
   {
    "duration": 352,
    "start_time": "2024-06-12T16:00:24.888Z"
   },
   {
    "duration": 169,
    "start_time": "2024-06-12T16:00:25.243Z"
   },
   {
    "duration": 33,
    "start_time": "2024-06-12T16:00:25.413Z"
   },
   {
    "duration": 5,
    "start_time": "2024-06-12T16:00:25.447Z"
   },
   {
    "duration": 41,
    "start_time": "2024-06-12T16:00:25.453Z"
   },
   {
    "duration": 13,
    "start_time": "2024-06-12T16:00:25.496Z"
   },
   {
    "duration": 40,
    "start_time": "2024-06-12T16:00:25.511Z"
   },
   {
    "duration": 2,
    "start_time": "2024-06-12T16:00:25.552Z"
   },
   {
    "duration": 34,
    "start_time": "2024-06-12T16:00:25.555Z"
   },
   {
    "duration": 2,
    "start_time": "2024-06-12T16:00:25.590Z"
   },
   {
    "duration": 42,
    "start_time": "2024-06-12T16:00:25.608Z"
   },
   {
    "duration": 2,
    "start_time": "2024-06-12T16:00:25.651Z"
   },
   {
    "duration": 24,
    "start_time": "2024-06-12T16:00:25.654Z"
   },
   {
    "duration": 8,
    "start_time": "2024-06-12T16:00:25.680Z"
   },
   {
    "duration": 22,
    "start_time": "2024-06-12T16:00:25.689Z"
   },
   {
    "duration": 44,
    "start_time": "2024-06-12T16:00:25.712Z"
   },
   {
    "duration": 1330,
    "start_time": "2024-06-12T16:00:25.758Z"
   },
   {
    "duration": 32,
    "start_time": "2024-06-12T16:00:27.089Z"
   },
   {
    "duration": 1461,
    "start_time": "2024-06-12T16:00:27.122Z"
   },
   {
    "duration": 28,
    "start_time": "2024-06-12T16:00:28.586Z"
   },
   {
    "duration": 20,
    "start_time": "2024-06-12T16:00:28.616Z"
   },
   {
    "duration": 1403,
    "start_time": "2024-06-12T16:00:28.637Z"
   },
   {
    "duration": 143,
    "start_time": "2024-06-12T16:00:30.041Z"
   },
   {
    "duration": 13,
    "start_time": "2024-06-12T16:01:09.595Z"
   },
   {
    "duration": 40,
    "start_time": "2024-06-12T16:01:12.009Z"
   },
   {
    "duration": 611,
    "start_time": "2024-06-12T16:01:14.072Z"
   },
   {
    "duration": 135,
    "start_time": "2024-06-12T16:01:23.513Z"
   },
   {
    "duration": 12,
    "start_time": "2024-06-12T16:02:24.265Z"
   },
   {
    "duration": 24,
    "start_time": "2024-06-12T16:02:24.828Z"
   },
   {
    "duration": 12,
    "start_time": "2024-06-12T16:02:25.344Z"
   },
   {
    "duration": 28,
    "start_time": "2024-06-12T16:02:25.793Z"
   },
   {
    "duration": 11,
    "start_time": "2024-06-12T16:02:26.270Z"
   },
   {
    "duration": 27,
    "start_time": "2024-06-12T16:02:26.600Z"
   },
   {
    "duration": 2,
    "start_time": "2024-06-12T16:02:26.993Z"
   },
   {
    "duration": 28,
    "start_time": "2024-06-12T16:02:27.441Z"
   },
   {
    "duration": 13,
    "start_time": "2024-06-12T16:02:36.834Z"
   },
   {
    "duration": 25,
    "start_time": "2024-06-12T16:02:37.857Z"
   },
   {
    "duration": 13,
    "start_time": "2024-06-12T16:02:48.959Z"
   },
   {
    "duration": 3,
    "start_time": "2024-06-12T16:02:50.600Z"
   },
   {
    "duration": 4,
    "start_time": "2024-06-12T16:02:51.833Z"
   },
   {
    "duration": 10,
    "start_time": "2024-06-12T16:02:52.672Z"
   },
   {
    "duration": 28,
    "start_time": "2024-06-12T16:02:56.762Z"
   },
   {
    "duration": 1306,
    "start_time": "2024-06-12T16:02:57.336Z"
   },
   {
    "duration": 24,
    "start_time": "2024-06-12T16:02:58.713Z"
   },
   {
    "duration": 1288,
    "start_time": "2024-06-12T16:02:59.072Z"
   },
   {
    "duration": 22,
    "start_time": "2024-06-12T16:03:00.362Z"
   },
   {
    "duration": 20,
    "start_time": "2024-06-12T16:03:00.874Z"
   },
   {
    "duration": 1312,
    "start_time": "2024-06-12T16:03:01.500Z"
   },
   {
    "duration": 133,
    "start_time": "2024-06-12T16:03:04.145Z"
   },
   {
    "duration": 14,
    "start_time": "2024-06-12T16:03:05.353Z"
   },
   {
    "duration": 34,
    "start_time": "2024-06-12T16:03:06.730Z"
   },
   {
    "duration": 550,
    "start_time": "2024-06-12T16:03:07.905Z"
   },
   {
    "duration": 448,
    "start_time": "2024-06-12T16:03:10.098Z"
   },
   {
    "duration": 5,
    "start_time": "2024-06-12T16:03:12.305Z"
   },
   {
    "duration": 12952,
    "start_time": "2024-06-12T16:03:21.766Z"
   },
   {
    "duration": 502,
    "start_time": "2024-06-12T16:03:34.810Z"
   },
   {
    "duration": 4,
    "start_time": "2024-06-12T16:03:41.371Z"
   },
   {
    "duration": 330991,
    "start_time": "2024-06-12T16:03:46.624Z"
   },
   {
    "duration": 25066,
    "start_time": "2024-06-12T16:09:17.616Z"
   },
   {
    "duration": 116,
    "start_time": "2024-06-12T16:09:42.683Z"
   },
   {
    "duration": 4,
    "start_time": "2024-06-12T16:09:42.800Z"
   },
   {
    "duration": 1331,
    "start_time": "2024-06-12T16:14:45.448Z"
   },
   {
    "duration": 2,
    "start_time": "2024-06-12T16:14:46.780Z"
   },
   {
    "duration": 767,
    "start_time": "2024-06-12T16:14:46.784Z"
   },
   {
    "duration": 16,
    "start_time": "2024-06-12T16:14:47.553Z"
   },
   {
    "duration": 63,
    "start_time": "2024-06-12T16:14:47.572Z"
   },
   {
    "duration": 44,
    "start_time": "2024-06-12T16:14:47.636Z"
   },
   {
    "duration": 5,
    "start_time": "2024-06-12T16:14:47.681Z"
   },
   {
    "duration": 436,
    "start_time": "2024-06-12T16:14:47.688Z"
   },
   {
    "duration": 354,
    "start_time": "2024-06-12T16:14:48.126Z"
   },
   {
    "duration": 162,
    "start_time": "2024-06-12T16:14:48.481Z"
   },
   {
    "duration": 29,
    "start_time": "2024-06-12T16:14:48.644Z"
   },
   {
    "duration": 18,
    "start_time": "2024-06-12T16:14:48.674Z"
   },
   {
    "duration": 39,
    "start_time": "2024-06-12T16:14:48.693Z"
   },
   {
    "duration": 13,
    "start_time": "2024-06-12T16:14:48.735Z"
   },
   {
    "duration": 39,
    "start_time": "2024-06-12T16:14:48.749Z"
   },
   {
    "duration": 21,
    "start_time": "2024-06-12T16:14:48.789Z"
   },
   {
    "duration": 39,
    "start_time": "2024-06-12T16:14:48.811Z"
   },
   {
    "duration": 14,
    "start_time": "2024-06-12T16:14:48.851Z"
   },
   {
    "duration": 34,
    "start_time": "2024-06-12T16:14:48.866Z"
   },
   {
    "duration": 22,
    "start_time": "2024-06-12T16:14:48.901Z"
   },
   {
    "duration": 6,
    "start_time": "2024-06-12T16:14:48.924Z"
   },
   {
    "duration": 8,
    "start_time": "2024-06-12T16:14:48.931Z"
   },
   {
    "duration": 10,
    "start_time": "2024-06-12T16:14:48.940Z"
   },
   {
    "duration": 37,
    "start_time": "2024-06-12T16:14:48.951Z"
   },
   {
    "duration": 1480,
    "start_time": "2024-06-12T16:14:48.990Z"
   },
   {
    "duration": 24,
    "start_time": "2024-06-12T16:14:50.472Z"
   },
   {
    "duration": 1402,
    "start_time": "2024-06-12T16:14:50.498Z"
   },
   {
    "duration": 23,
    "start_time": "2024-06-12T16:14:51.908Z"
   },
   {
    "duration": 19,
    "start_time": "2024-06-12T16:14:51.932Z"
   },
   {
    "duration": 1291,
    "start_time": "2024-06-12T16:14:51.953Z"
   },
   {
    "duration": 130,
    "start_time": "2024-06-12T16:15:13.085Z"
   },
   {
    "duration": 72,
    "start_time": "2024-06-12T16:15:20.686Z"
   },
   {
    "duration": 1042,
    "start_time": "2024-06-12T16:15:23.354Z"
   },
   {
    "duration": 1979,
    "start_time": "2024-06-12T16:15:29.745Z"
   },
   {
    "duration": 1695,
    "start_time": "2024-06-12T16:16:14.232Z"
   },
   {
    "duration": 1636,
    "start_time": "2024-06-12T16:16:34.484Z"
   },
   {
    "duration": 44,
    "start_time": "2024-06-12T16:16:43.235Z"
   },
   {
    "duration": 275339,
    "start_time": "2024-06-12T16:16:45.933Z"
   },
   {
    "duration": 136744,
    "start_time": "2024-06-12T16:21:21.274Z"
   },
   {
    "duration": 1815,
    "start_time": "2024-06-12T16:35:28.706Z"
   },
   {
    "duration": 17,
    "start_time": "2024-06-12T16:35:33.034Z"
   },
   {
    "duration": 274111,
    "start_time": "2024-06-12T16:35:37.647Z"
   },
   {
    "duration": 169553,
    "start_time": "2024-06-12T16:40:11.759Z"
   },
   {
    "duration": 428816,
    "start_time": "2024-06-12T16:44:15.013Z"
   },
   {
    "duration": 1351,
    "start_time": "2024-06-12T16:54:40.192Z"
   },
   {
    "duration": 2,
    "start_time": "2024-06-12T16:54:41.545Z"
   },
   {
    "duration": 770,
    "start_time": "2024-06-12T16:54:41.548Z"
   },
   {
    "duration": 15,
    "start_time": "2024-06-12T16:54:42.319Z"
   },
   {
    "duration": 24,
    "start_time": "2024-06-12T16:54:42.336Z"
   },
   {
    "duration": 5,
    "start_time": "2024-06-12T16:54:42.361Z"
   },
   {
    "duration": 3,
    "start_time": "2024-06-12T16:54:42.367Z"
   },
   {
    "duration": 401,
    "start_time": "2024-06-12T16:54:42.372Z"
   },
   {
    "duration": 364,
    "start_time": "2024-06-12T16:54:42.775Z"
   },
   {
    "duration": 173,
    "start_time": "2024-06-12T16:54:43.140Z"
   },
   {
    "duration": 29,
    "start_time": "2024-06-12T16:54:43.314Z"
   },
   {
    "duration": 15,
    "start_time": "2024-06-12T16:54:43.345Z"
   },
   {
    "duration": 29,
    "start_time": "2024-06-12T16:54:43.361Z"
   },
   {
    "duration": 14,
    "start_time": "2024-06-12T16:54:43.412Z"
   },
   {
    "duration": 34,
    "start_time": "2024-06-12T16:54:43.428Z"
   },
   {
    "duration": 13,
    "start_time": "2024-06-12T16:54:43.464Z"
   },
   {
    "duration": 60,
    "start_time": "2024-06-12T16:54:43.478Z"
   },
   {
    "duration": 15,
    "start_time": "2024-06-12T16:54:43.539Z"
   },
   {
    "duration": 28,
    "start_time": "2024-06-12T16:54:43.555Z"
   },
   {
    "duration": 29,
    "start_time": "2024-06-12T16:54:43.584Z"
   },
   {
    "duration": 4,
    "start_time": "2024-06-12T16:54:43.614Z"
   },
   {
    "duration": 17,
    "start_time": "2024-06-12T16:54:43.619Z"
   },
   {
    "duration": 12,
    "start_time": "2024-06-12T16:54:43.638Z"
   },
   {
    "duration": 31,
    "start_time": "2024-06-12T16:54:43.651Z"
   },
   {
    "duration": 1401,
    "start_time": "2024-06-12T16:54:43.684Z"
   },
   {
    "duration": 34,
    "start_time": "2024-06-12T16:54:45.087Z"
   },
   {
    "duration": 1462,
    "start_time": "2024-06-12T16:54:45.123Z"
   },
   {
    "duration": 35,
    "start_time": "2024-06-12T16:54:46.587Z"
   },
   {
    "duration": 20,
    "start_time": "2024-06-12T16:54:46.624Z"
   },
   {
    "duration": 1394,
    "start_time": "2024-06-12T16:54:46.646Z"
   },
   {
    "duration": 129,
    "start_time": "2024-06-12T16:54:48.041Z"
   },
   {
    "duration": 87,
    "start_time": "2024-06-12T16:54:48.171Z"
   },
   {
    "duration": 1010,
    "start_time": "2024-06-12T16:56:32.299Z"
   },
   {
    "duration": 3647,
    "start_time": "2024-06-12T16:56:50.370Z"
   },
   {
    "duration": 3693,
    "start_time": "2024-06-12T16:57:05.420Z"
   },
   {
    "duration": 3729,
    "start_time": "2024-06-12T16:57:20.484Z"
   },
   {
    "duration": 1705,
    "start_time": "2024-06-12T16:59:18.315Z"
   },
   {
    "duration": 3564,
    "start_time": "2024-06-12T16:59:36.756Z"
   },
   {
    "duration": 48,
    "start_time": "2024-06-12T17:00:00.875Z"
   },
   {
    "duration": 978627,
    "start_time": "2024-06-12T17:00:08.810Z"
   },
   {
    "duration": 1147475,
    "start_time": "2024-06-12T17:16:37.346Z"
   },
   {
    "duration": 8,
    "start_time": "2024-06-12T17:43:38.485Z"
   },
   {
    "duration": 9,
    "start_time": "2024-06-12T17:44:34.479Z"
   },
   {
    "duration": 58,
    "start_time": "2024-06-12T17:46:21.684Z"
   },
   {
    "duration": 61,
    "start_time": "2024-06-12T17:46:50.601Z"
   },
   {
    "duration": 10,
    "start_time": "2024-06-12T17:47:24.896Z"
   },
   {
    "duration": 5275,
    "start_time": "2024-06-12T17:47:35.837Z"
   },
   {
    "duration": 2941973,
    "start_time": "2024-06-12T17:48:23.652Z"
   },
   {
    "duration": 1388,
    "start_time": "2024-06-12T18:40:03.929Z"
   },
   {
    "duration": 15,
    "start_time": "2024-06-12T18:43:06.859Z"
   },
   {
    "duration": 869,
    "start_time": "2024-06-12T18:45:04.779Z"
   },
   {
    "duration": 1473,
    "start_time": "2024-06-12T18:45:53.436Z"
   },
   {
    "duration": 9,
    "start_time": "2024-06-12T18:47:07.735Z"
   },
   {
    "duration": 12,
    "start_time": "2024-06-12T18:48:03.670Z"
   },
   {
    "duration": 71,
    "start_time": "2024-06-12T18:54:27.592Z"
   },
   {
    "duration": 18,
    "start_time": "2024-06-12T18:54:44.273Z"
   },
   {
    "duration": 12,
    "start_time": "2024-06-12T18:55:36.693Z"
   },
   {
    "duration": 16,
    "start_time": "2024-06-12T18:56:02.679Z"
   },
   {
    "duration": 1604,
    "start_time": "2024-06-12T18:56:40.929Z"
   },
   {
    "duration": 15,
    "start_time": "2024-06-12T18:57:09.582Z"
   },
   {
    "duration": 71,
    "start_time": "2024-06-13T03:09:56.757Z"
   },
   {
    "duration": 46,
    "start_time": "2024-06-13T03:11:17.326Z"
   },
   {
    "duration": 6,
    "start_time": "2024-06-13T03:11:25.517Z"
   },
   {
    "duration": 6,
    "start_time": "2024-06-13T03:11:29.534Z"
   },
   {
    "duration": 1801,
    "start_time": "2024-06-13T03:11:36.239Z"
   },
   {
    "duration": 3,
    "start_time": "2024-06-13T03:11:40.287Z"
   },
   {
    "duration": 2975,
    "start_time": "2024-06-13T03:11:42.895Z"
   },
   {
    "duration": 18,
    "start_time": "2024-06-13T03:11:45.872Z"
   },
   {
    "duration": 22,
    "start_time": "2024-06-13T03:11:46.063Z"
   },
   {
    "duration": 93,
    "start_time": "2024-06-13T03:11:47.081Z"
   },
   {
    "duration": 22,
    "start_time": "2024-06-13T03:12:34.894Z"
   },
   {
    "duration": 42,
    "start_time": "2024-06-13T03:13:17.383Z"
   },
   {
    "duration": 35,
    "start_time": "2024-06-13T03:14:22.942Z"
   },
   {
    "duration": 234,
    "start_time": "2024-06-13T03:14:34.056Z"
   },
   {
    "duration": 1845,
    "start_time": "2024-06-13T03:14:35.450Z"
   },
   {
    "duration": 0,
    "start_time": "2024-06-13T03:14:37.297Z"
   },
   {
    "duration": 0,
    "start_time": "2024-06-13T03:14:37.298Z"
   },
   {
    "duration": 0,
    "start_time": "2024-06-13T03:14:37.299Z"
   },
   {
    "duration": 0,
    "start_time": "2024-06-13T03:14:37.300Z"
   },
   {
    "duration": 2,
    "start_time": "2024-06-13T03:14:37.485Z"
   },
   {
    "duration": 1107,
    "start_time": "2024-06-13T03:14:37.727Z"
   },
   {
    "duration": 0,
    "start_time": "2024-06-13T03:14:38.836Z"
   },
   {
    "duration": 0,
    "start_time": "2024-06-13T03:14:38.837Z"
   },
   {
    "duration": 3,
    "start_time": "2024-06-13T03:14:39.230Z"
   },
   {
    "duration": 1020,
    "start_time": "2024-06-13T03:14:52.119Z"
   },
   {
    "duration": 26,
    "start_time": "2024-06-13T03:15:06.489Z"
   },
   {
    "duration": 7,
    "start_time": "2024-06-13T03:15:08.646Z"
   },
   {
    "duration": 6,
    "start_time": "2024-06-13T03:15:09.057Z"
   },
   {
    "duration": 488,
    "start_time": "2024-06-13T03:15:11.141Z"
   },
   {
    "duration": 408,
    "start_time": "2024-06-13T03:15:13.043Z"
   },
   {
    "duration": 184,
    "start_time": "2024-06-13T03:15:35.959Z"
   },
   {
    "duration": 38,
    "start_time": "2024-06-13T03:15:37.756Z"
   },
   {
    "duration": 18,
    "start_time": "2024-06-13T03:15:41.306Z"
   },
   {
    "duration": 35,
    "start_time": "2024-06-13T03:15:42.431Z"
   },
   {
    "duration": 30,
    "start_time": "2024-06-13T03:15:43.161Z"
   },
   {
    "duration": 41,
    "start_time": "2024-06-13T03:15:43.558Z"
   },
   {
    "duration": 18,
    "start_time": "2024-06-13T03:15:43.942Z"
   },
   {
    "duration": 39,
    "start_time": "2024-06-13T03:15:44.445Z"
   },
   {
    "duration": 17,
    "start_time": "2024-06-13T03:15:45.167Z"
   },
   {
    "duration": 35,
    "start_time": "2024-06-13T03:15:45.605Z"
   },
   {
    "duration": 20,
    "start_time": "2024-06-13T03:15:46.710Z"
   },
   {
    "duration": 4,
    "start_time": "2024-06-13T03:15:48.566Z"
   },
   {
    "duration": 9,
    "start_time": "2024-06-13T03:15:49.839Z"
   },
   {
    "duration": 13,
    "start_time": "2024-06-13T03:15:50.504Z"
   },
   {
    "duration": 28,
    "start_time": "2024-06-13T03:15:51.717Z"
   },
   {
    "duration": 1265,
    "start_time": "2024-06-13T03:15:57.389Z"
   },
   {
    "duration": 21,
    "start_time": "2024-06-13T03:16:31.097Z"
   },
   {
    "duration": 1395,
    "start_time": "2024-06-13T03:16:32.103Z"
   },
   {
    "duration": 19,
    "start_time": "2024-06-13T03:16:49.569Z"
   },
   {
    "duration": 1437,
    "start_time": "2024-06-13T06:50:57.047Z"
   },
   {
    "duration": 2,
    "start_time": "2024-06-13T06:50:58.486Z"
   },
   {
    "duration": 1019,
    "start_time": "2024-06-13T06:50:58.489Z"
   },
   {
    "duration": 32,
    "start_time": "2024-06-13T06:50:59.510Z"
   },
   {
    "duration": 21,
    "start_time": "2024-06-13T06:50:59.543Z"
   },
   {
    "duration": 5,
    "start_time": "2024-06-13T06:50:59.565Z"
   },
   {
    "duration": 8,
    "start_time": "2024-06-13T06:50:59.572Z"
   },
   {
    "duration": 395,
    "start_time": "2024-06-13T06:50:59.582Z"
   },
   {
    "duration": 2,
    "start_time": "2024-06-13T06:50:59.978Z"
   },
   {
    "duration": 197,
    "start_time": "2024-06-13T06:50:59.983Z"
   },
   {
    "duration": 43,
    "start_time": "2024-06-13T06:51:00.182Z"
   },
   {
    "duration": 44,
    "start_time": "2024-06-13T06:51:00.226Z"
   },
   {
    "duration": 70,
    "start_time": "2024-06-13T06:51:00.272Z"
   },
   {
    "duration": 57,
    "start_time": "2024-06-13T06:51:00.343Z"
   },
   {
    "duration": 161,
    "start_time": "2024-06-13T06:51:00.401Z"
   },
   {
    "duration": 145,
    "start_time": "2024-06-13T06:51:00.563Z"
   },
   {
    "duration": 105,
    "start_time": "2024-06-13T06:51:00.710Z"
   },
   {
    "duration": 75,
    "start_time": "2024-06-13T06:51:00.816Z"
   },
   {
    "duration": 74,
    "start_time": "2024-06-13T06:51:00.892Z"
   },
   {
    "duration": 71,
    "start_time": "2024-06-13T06:51:00.967Z"
   },
   {
    "duration": 68,
    "start_time": "2024-06-13T06:51:01.039Z"
   },
   {
    "duration": 92,
    "start_time": "2024-06-13T06:51:01.108Z"
   },
   {
    "duration": 111,
    "start_time": "2024-06-13T06:51:01.201Z"
   },
   {
    "duration": 100,
    "start_time": "2024-06-13T06:51:01.313Z"
   },
   {
    "duration": 1434,
    "start_time": "2024-06-13T06:51:01.414Z"
   },
   {
    "duration": 25,
    "start_time": "2024-06-13T06:51:02.849Z"
   },
   {
    "duration": 1349,
    "start_time": "2024-06-13T06:51:02.876Z"
   },
   {
    "duration": 21,
    "start_time": "2024-06-13T06:51:04.228Z"
   },
   {
    "duration": 29,
    "start_time": "2024-06-13T06:51:04.251Z"
   },
   {
    "duration": 1137,
    "start_time": "2024-06-13T06:51:04.281Z"
   },
   {
    "duration": 118,
    "start_time": "2024-06-13T06:51:05.420Z"
   },
   {
    "duration": 106,
    "start_time": "2024-06-13T07:05:08.862Z"
   },
   {
    "duration": 8,
    "start_time": "2024-06-13T07:05:35.777Z"
   },
   {
    "duration": 10,
    "start_time": "2024-06-13T07:06:21.486Z"
   },
   {
    "duration": 17,
    "start_time": "2024-06-13T07:06:27.251Z"
   },
   {
    "duration": 14,
    "start_time": "2024-06-13T07:09:03.432Z"
   },
   {
    "duration": 26,
    "start_time": "2024-06-13T07:09:16.789Z"
   },
   {
    "duration": 38,
    "start_time": "2024-06-13T07:09:40.835Z"
   },
   {
    "duration": 3,
    "start_time": "2024-06-13T07:09:56.358Z"
   },
   {
    "duration": 4,
    "start_time": "2024-06-13T07:10:12.340Z"
   },
   {
    "duration": 2,
    "start_time": "2024-06-13T07:10:22.380Z"
   },
   {
    "duration": 2,
    "start_time": "2024-06-13T07:10:33.084Z"
   },
   {
    "duration": 3,
    "start_time": "2024-06-13T07:10:41.147Z"
   },
   {
    "duration": 2,
    "start_time": "2024-06-13T07:10:52.511Z"
   },
   {
    "duration": 447,
    "start_time": "2024-06-13T07:11:04.565Z"
   },
   {
    "duration": 9,
    "start_time": "2024-06-13T07:18:38.711Z"
   },
   {
    "duration": 3,
    "start_time": "2024-06-13T07:18:50.810Z"
   },
   {
    "duration": 3,
    "start_time": "2024-06-13T07:18:53.181Z"
   },
   {
    "duration": 391,
    "start_time": "2024-06-13T07:18:57.397Z"
   },
   {
    "duration": 8,
    "start_time": "2024-06-13T07:21:23.226Z"
   },
   {
    "duration": 6,
    "start_time": "2024-06-13T07:24:14.394Z"
   },
   {
    "duration": 3,
    "start_time": "2024-06-13T07:24:35.343Z"
   },
   {
    "duration": 4,
    "start_time": "2024-06-13T07:24:36.888Z"
   },
   {
    "duration": 2,
    "start_time": "2024-06-13T07:24:38.526Z"
   },
   {
    "duration": 892,
    "start_time": "2024-06-13T07:24:40.936Z"
   },
   {
    "duration": 10,
    "start_time": "2024-06-13T08:02:26.999Z"
   },
   {
    "duration": 10,
    "start_time": "2024-06-13T08:02:36.898Z"
   },
   {
    "duration": 1277,
    "start_time": "2024-06-13T08:04:10.419Z"
   },
   {
    "duration": 2,
    "start_time": "2024-06-13T08:04:11.697Z"
   },
   {
    "duration": 736,
    "start_time": "2024-06-13T08:04:11.700Z"
   },
   {
    "duration": 31,
    "start_time": "2024-06-13T08:04:12.438Z"
   },
   {
    "duration": 23,
    "start_time": "2024-06-13T08:04:12.470Z"
   },
   {
    "duration": 14,
    "start_time": "2024-06-13T08:04:12.495Z"
   },
   {
    "duration": 16,
    "start_time": "2024-06-13T08:04:12.510Z"
   },
   {
    "duration": 381,
    "start_time": "2024-06-13T08:04:12.528Z"
   },
   {
    "duration": 2,
    "start_time": "2024-06-13T08:04:12.910Z"
   },
   {
    "duration": 179,
    "start_time": "2024-06-13T08:04:12.919Z"
   },
   {
    "duration": 33,
    "start_time": "2024-06-13T08:04:13.099Z"
   },
   {
    "duration": 16,
    "start_time": "2024-06-13T08:04:13.133Z"
   },
   {
    "duration": 33,
    "start_time": "2024-06-13T08:04:13.151Z"
   },
   {
    "duration": 26,
    "start_time": "2024-06-13T08:04:13.185Z"
   },
   {
    "duration": 37,
    "start_time": "2024-06-13T08:04:13.212Z"
   },
   {
    "duration": 48,
    "start_time": "2024-06-13T08:04:13.251Z"
   },
   {
    "duration": 41,
    "start_time": "2024-06-13T08:04:13.300Z"
   },
   {
    "duration": 16,
    "start_time": "2024-06-13T08:04:13.342Z"
   },
   {
    "duration": 74,
    "start_time": "2024-06-13T08:04:13.359Z"
   },
   {
    "duration": 22,
    "start_time": "2024-06-13T08:04:13.434Z"
   },
   {
    "duration": 23,
    "start_time": "2024-06-13T08:04:13.457Z"
   },
   {
    "duration": 22,
    "start_time": "2024-06-13T08:04:13.481Z"
   },
   {
    "duration": 27,
    "start_time": "2024-06-13T08:04:13.504Z"
   },
   {
    "duration": 66,
    "start_time": "2024-06-13T08:04:13.532Z"
   },
   {
    "duration": 1274,
    "start_time": "2024-06-13T08:04:13.599Z"
   },
   {
    "duration": 24,
    "start_time": "2024-06-13T08:04:14.874Z"
   },
   {
    "duration": 1394,
    "start_time": "2024-06-13T08:04:14.900Z"
   },
   {
    "duration": 32,
    "start_time": "2024-06-13T08:04:16.298Z"
   },
   {
    "duration": 18,
    "start_time": "2024-06-13T08:04:16.332Z"
   },
   {
    "duration": 1180,
    "start_time": "2024-06-13T08:04:16.352Z"
   },
   {
    "duration": 109,
    "start_time": "2024-06-13T08:04:27.419Z"
   },
   {
    "duration": 10,
    "start_time": "2024-06-13T08:04:36.583Z"
   },
   {
    "duration": 17,
    "start_time": "2024-06-13T08:04:39.171Z"
   },
   {
    "duration": 30,
    "start_time": "2024-06-13T08:04:42.184Z"
   },
   {
    "duration": 3,
    "start_time": "2024-06-13T08:04:46.821Z"
   },
   {
    "duration": 3,
    "start_time": "2024-06-13T08:04:50.022Z"
   },
   {
    "duration": 3,
    "start_time": "2024-06-13T08:04:54.179Z"
   },
   {
    "duration": 2,
    "start_time": "2024-06-13T08:04:55.828Z"
   },
   {
    "duration": 4,
    "start_time": "2024-06-13T08:04:57.616Z"
   },
   {
    "duration": 3,
    "start_time": "2024-06-13T08:05:00.316Z"
   },
   {
    "duration": 7773,
    "start_time": "2024-06-13T08:05:01.107Z"
   },
   {
    "duration": 105,
    "start_time": "2024-06-13T08:43:47.436Z"
   },
   {
    "duration": 13,
    "start_time": "2024-06-13T08:43:56.445Z"
   },
   {
    "duration": 99,
    "start_time": "2024-06-13T08:44:13.539Z"
   },
   {
    "duration": 10,
    "start_time": "2024-06-13T08:44:20.140Z"
   },
   {
    "duration": 12,
    "start_time": "2024-06-13T08:44:21.668Z"
   },
   {
    "duration": 33,
    "start_time": "2024-06-13T08:44:23.519Z"
   },
   {
    "duration": 3,
    "start_time": "2024-06-13T08:44:25.758Z"
   },
   {
    "duration": 4,
    "start_time": "2024-06-13T08:44:26.629Z"
   },
   {
    "duration": 2,
    "start_time": "2024-06-13T08:44:27.383Z"
   },
   {
    "duration": 4,
    "start_time": "2024-06-13T08:44:28.218Z"
   },
   {
    "duration": 3,
    "start_time": "2024-06-13T08:44:28.867Z"
   },
   {
    "duration": 2,
    "start_time": "2024-06-13T08:44:31.474Z"
   },
   {
    "duration": 6690,
    "start_time": "2024-06-13T08:44:57.036Z"
   },
   {
    "duration": 1260,
    "start_time": "2024-06-13T08:51:38.027Z"
   },
   {
    "duration": 2,
    "start_time": "2024-06-13T08:51:39.288Z"
   },
   {
    "duration": 704,
    "start_time": "2024-06-13T08:51:39.292Z"
   },
   {
    "duration": 33,
    "start_time": "2024-06-13T08:51:39.997Z"
   },
   {
    "duration": 17,
    "start_time": "2024-06-13T08:51:40.032Z"
   },
   {
    "duration": 9,
    "start_time": "2024-06-13T08:51:40.050Z"
   },
   {
    "duration": 11,
    "start_time": "2024-06-13T08:51:40.060Z"
   },
   {
    "duration": 383,
    "start_time": "2024-06-13T08:51:40.073Z"
   },
   {
    "duration": 2,
    "start_time": "2024-06-13T08:51:40.458Z"
   },
   {
    "duration": 180,
    "start_time": "2024-06-13T08:51:40.462Z"
   },
   {
    "duration": 31,
    "start_time": "2024-06-13T08:51:40.643Z"
   },
   {
    "duration": 14,
    "start_time": "2024-06-13T08:51:40.676Z"
   },
   {
    "duration": 44,
    "start_time": "2024-06-13T08:51:40.692Z"
   },
   {
    "duration": 16,
    "start_time": "2024-06-13T08:51:40.737Z"
   },
   {
    "duration": 40,
    "start_time": "2024-06-13T08:51:40.754Z"
   },
   {
    "duration": 27,
    "start_time": "2024-06-13T08:51:40.796Z"
   },
   {
    "duration": 47,
    "start_time": "2024-06-13T08:51:40.824Z"
   },
   {
    "duration": 16,
    "start_time": "2024-06-13T08:51:40.872Z"
   },
   {
    "duration": 34,
    "start_time": "2024-06-13T08:51:40.890Z"
   },
   {
    "duration": 17,
    "start_time": "2024-06-13T08:51:40.925Z"
   },
   {
    "duration": 4,
    "start_time": "2024-06-13T08:51:40.944Z"
   },
   {
    "duration": 7,
    "start_time": "2024-06-13T08:51:40.950Z"
   },
   {
    "duration": 16,
    "start_time": "2024-06-13T08:51:40.958Z"
   },
   {
    "duration": 49,
    "start_time": "2024-06-13T08:51:40.976Z"
   },
   {
    "duration": 1274,
    "start_time": "2024-06-13T08:51:41.027Z"
   },
   {
    "duration": 30,
    "start_time": "2024-06-13T08:51:42.302Z"
   },
   {
    "duration": 1233,
    "start_time": "2024-06-13T08:51:42.334Z"
   },
   {
    "duration": 20,
    "start_time": "2024-06-13T08:51:43.570Z"
   },
   {
    "duration": 30,
    "start_time": "2024-06-13T08:51:43.592Z"
   },
   {
    "duration": 1211,
    "start_time": "2024-06-13T08:51:43.623Z"
   },
   {
    "duration": 20,
    "start_time": "2024-06-13T08:52:00.409Z"
   },
   {
    "duration": 3486,
    "start_time": "2024-06-13T08:54:51.276Z"
   },
   {
    "duration": 61,
    "start_time": "2024-06-13T08:55:05.393Z"
   },
   {
    "duration": 7,
    "start_time": "2024-06-13T08:55:24.322Z"
   },
   {
    "duration": 244,
    "start_time": "2024-06-13T08:55:47.468Z"
   },
   {
    "duration": 2,
    "start_time": "2024-06-13T08:56:34.081Z"
   },
   {
    "duration": 4223,
    "start_time": "2024-06-13T08:56:34.992Z"
   },
   {
    "duration": 53,
    "start_time": "2024-06-13T09:03:37.606Z"
   },
   {
    "duration": 11,
    "start_time": "2024-06-13T09:03:45.744Z"
   },
   {
    "duration": 85,
    "start_time": "2024-06-13T09:03:50.588Z"
   },
   {
    "duration": 8,
    "start_time": "2024-06-13T09:03:52.082Z"
   },
   {
    "duration": 13,
    "start_time": "2024-06-13T09:03:53.334Z"
   },
   {
    "duration": 20,
    "start_time": "2024-06-13T09:03:53.898Z"
   },
   {
    "duration": 3,
    "start_time": "2024-06-13T09:03:54.669Z"
   },
   {
    "duration": 3,
    "start_time": "2024-06-13T09:03:55.401Z"
   },
   {
    "duration": 2,
    "start_time": "2024-06-13T09:03:56.155Z"
   },
   {
    "duration": 2,
    "start_time": "2024-06-13T09:03:56.974Z"
   },
   {
    "duration": 3,
    "start_time": "2024-06-13T09:03:57.758Z"
   },
   {
    "duration": 2,
    "start_time": "2024-06-13T09:03:58.584Z"
   },
   {
    "duration": 12766,
    "start_time": "2024-06-13T09:03:59.850Z"
   },
   {
    "duration": 2,
    "start_time": "2024-06-13T09:05:07.180Z"
   },
   {
    "duration": 63,
    "start_time": "2024-06-13T09:05:31.426Z"
   },
   {
    "duration": 13,
    "start_time": "2024-06-13T09:05:46.124Z"
   },
   {
    "duration": 3,
    "start_time": "2024-06-13T09:06:19.244Z"
   },
   {
    "duration": 73896,
    "start_time": "2024-06-13T09:06:29.225Z"
   },
   {
    "duration": 2,
    "start_time": "2024-06-13T09:07:43.123Z"
   },
   {
    "duration": 3,
    "start_time": "2024-06-13T09:07:58.970Z"
   },
   {
    "duration": 2,
    "start_time": "2024-06-13T09:12:05.472Z"
   },
   {
    "duration": 1545,
    "start_time": "2024-06-13T09:13:41.189Z"
   },
   {
    "duration": 9892,
    "start_time": "2024-06-13T09:14:28.353Z"
   },
   {
    "duration": 7,
    "start_time": "2024-06-13T09:16:00.709Z"
   },
   {
    "duration": 23,
    "start_time": "2024-06-13T09:16:43.818Z"
   },
   {
    "duration": 8,
    "start_time": "2024-06-13T09:16:52.801Z"
   },
   {
    "duration": 2,
    "start_time": "2024-06-13T09:16:55.693Z"
   },
   {
    "duration": 6,
    "start_time": "2024-06-13T09:19:15.022Z"
   },
   {
    "duration": 3,
    "start_time": "2024-06-13T09:19:32.680Z"
   },
   {
    "duration": 360941,
    "start_time": "2024-06-13T09:20:14.553Z"
   },
   {
    "duration": 0,
    "start_time": "2024-06-13T09:26:15.496Z"
   },
   {
    "duration": 2,
    "start_time": "2024-06-13T09:26:25.999Z"
   },
   {
    "duration": 39231,
    "start_time": "2024-06-13T09:26:26.894Z"
   },
   {
    "duration": 13,
    "start_time": "2024-06-13T09:28:15.677Z"
   },
   {
    "duration": 2,
    "start_time": "2024-06-13T09:28:54.641Z"
   },
   {
    "duration": 12,
    "start_time": "2024-06-13T09:29:15.964Z"
   },
   {
    "duration": 2,
    "start_time": "2024-06-13T09:30:52.379Z"
   },
   {
    "duration": 6705,
    "start_time": "2024-06-13T09:30:56.316Z"
   },
   {
    "duration": 2,
    "start_time": "2024-06-13T09:32:44.752Z"
   },
   {
    "duration": 2,
    "start_time": "2024-06-13T09:32:45.752Z"
   },
   {
    "duration": 2,
    "start_time": "2024-06-13T09:32:46.713Z"
   },
   {
    "duration": 7991,
    "start_time": "2024-06-13T09:32:51.441Z"
   },
   {
    "duration": 2,
    "start_time": "2024-06-13T09:33:32.817Z"
   },
   {
    "duration": 10,
    "start_time": "2024-06-13T09:33:34.358Z"
   },
   {
    "duration": 2,
    "start_time": "2024-06-13T09:33:35.817Z"
   },
   {
    "duration": 70166,
    "start_time": "2024-06-13T09:33:38.759Z"
   },
   {
    "duration": 3,
    "start_time": "2024-06-13T09:34:48.926Z"
   },
   {
    "duration": 29,
    "start_time": "2024-06-13T09:34:48.931Z"
   },
   {
    "duration": 506854,
    "start_time": "2024-06-13T09:34:48.961Z"
   },
   {
    "duration": 3,
    "start_time": "2024-06-13T09:43:15.816Z"
   },
   {
    "duration": 20,
    "start_time": "2024-06-13T09:43:15.820Z"
   },
   {
    "duration": 165560,
    "start_time": "2024-06-13T09:43:15.841Z"
   },
   {
    "duration": 11,
    "start_time": "2024-06-13T09:46:01.402Z"
   },
   {
    "duration": 4,
    "start_time": "2024-06-13T10:12:36.861Z"
   },
   {
    "duration": 8,
    "start_time": "2024-06-13T10:13:11.460Z"
   },
   {
    "duration": 3,
    "start_time": "2024-06-13T10:14:12.376Z"
   },
   {
    "duration": 337,
    "start_time": "2024-06-13T10:14:24.189Z"
   },
   {
    "duration": 55,
    "start_time": "2024-06-13T10:19:27.545Z"
   },
   {
    "duration": 5183,
    "start_time": "2024-06-14T09:01:46.849Z"
   },
   {
    "duration": 2,
    "start_time": "2024-06-14T09:01:52.034Z"
   },
   {
    "duration": 1079,
    "start_time": "2024-06-14T09:01:52.038Z"
   },
   {
    "duration": 36,
    "start_time": "2024-06-14T09:01:53.119Z"
   },
   {
    "duration": 25,
    "start_time": "2024-06-14T09:01:53.157Z"
   },
   {
    "duration": 9,
    "start_time": "2024-06-14T09:01:53.184Z"
   },
   {
    "duration": 5,
    "start_time": "2024-06-14T09:01:53.194Z"
   },
   {
    "duration": 386,
    "start_time": "2024-06-14T09:01:53.200Z"
   },
   {
    "duration": 2,
    "start_time": "2024-06-14T09:01:53.587Z"
   },
   {
    "duration": 186,
    "start_time": "2024-06-14T09:01:53.591Z"
   },
   {
    "duration": 40,
    "start_time": "2024-06-14T09:01:53.778Z"
   },
   {
    "duration": 39,
    "start_time": "2024-06-14T09:01:53.820Z"
   },
   {
    "duration": 43,
    "start_time": "2024-06-14T09:01:53.860Z"
   },
   {
    "duration": 17,
    "start_time": "2024-06-14T09:01:53.905Z"
   },
   {
    "duration": 41,
    "start_time": "2024-06-14T09:01:53.924Z"
   },
   {
    "duration": 17,
    "start_time": "2024-06-14T09:01:53.967Z"
   },
   {
    "duration": 40,
    "start_time": "2024-06-14T09:01:53.985Z"
   },
   {
    "duration": 28,
    "start_time": "2024-06-14T09:01:54.027Z"
   },
   {
    "duration": 43,
    "start_time": "2024-06-14T09:01:54.057Z"
   },
   {
    "duration": 19,
    "start_time": "2024-06-14T09:01:54.101Z"
   },
   {
    "duration": 33,
    "start_time": "2024-06-14T09:01:54.121Z"
   },
   {
    "duration": 20,
    "start_time": "2024-06-14T09:01:54.156Z"
   },
   {
    "duration": 20,
    "start_time": "2024-06-14T09:01:54.177Z"
   },
   {
    "duration": 31,
    "start_time": "2024-06-14T09:01:54.198Z"
   },
   {
    "duration": 1428,
    "start_time": "2024-06-14T09:01:54.231Z"
   },
   {
    "duration": 23,
    "start_time": "2024-06-14T09:01:55.661Z"
   },
   {
    "duration": 1340,
    "start_time": "2024-06-14T09:01:55.685Z"
   },
   {
    "duration": 22,
    "start_time": "2024-06-14T09:01:57.028Z"
   },
   {
    "duration": 19,
    "start_time": "2024-06-14T09:01:57.052Z"
   },
   {
    "duration": 1184,
    "start_time": "2024-06-14T09:01:57.072Z"
   },
   {
    "duration": 3,
    "start_time": "2024-06-14T09:01:58.257Z"
   },
   {
    "duration": 4462,
    "start_time": "2024-06-14T09:01:58.261Z"
   },
   {
    "duration": 20,
    "start_time": "2024-06-14T09:02:02.724Z"
   },
   {
    "duration": 236,
    "start_time": "2024-06-14T09:02:02.746Z"
   },
   {
    "duration": 8,
    "start_time": "2024-06-14T09:02:02.983Z"
   },
   {
    "duration": 22,
    "start_time": "2024-06-14T09:02:02.992Z"
   },
   {
    "duration": 35,
    "start_time": "2024-06-14T09:02:03.015Z"
   },
   {
    "duration": 30,
    "start_time": "2024-06-14T09:03:00.924Z"
   },
   {
    "duration": 1406,
    "start_time": "2024-06-14T09:03:16.371Z"
   },
   {
    "duration": 3,
    "start_time": "2024-06-14T09:03:17.778Z"
   },
   {
    "duration": 762,
    "start_time": "2024-06-14T09:03:17.782Z"
   },
   {
    "duration": 34,
    "start_time": "2024-06-14T09:03:18.546Z"
   },
   {
    "duration": 32,
    "start_time": "2024-06-14T09:03:18.581Z"
   },
   {
    "duration": 10,
    "start_time": "2024-06-14T09:03:18.615Z"
   },
   {
    "duration": 48,
    "start_time": "2024-06-14T09:03:18.627Z"
   },
   {
    "duration": 389,
    "start_time": "2024-06-14T09:03:18.676Z"
   },
   {
    "duration": 3,
    "start_time": "2024-06-14T09:03:19.067Z"
   },
   {
    "duration": 226,
    "start_time": "2024-06-14T09:03:19.073Z"
   },
   {
    "duration": 40,
    "start_time": "2024-06-14T09:03:19.300Z"
   },
   {
    "duration": 17,
    "start_time": "2024-06-14T09:03:19.341Z"
   },
   {
    "duration": 51,
    "start_time": "2024-06-14T09:03:19.359Z"
   },
   {
    "duration": 16,
    "start_time": "2024-06-14T09:03:19.412Z"
   },
   {
    "duration": 36,
    "start_time": "2024-06-14T09:03:19.430Z"
   },
   {
    "duration": 26,
    "start_time": "2024-06-14T09:03:19.468Z"
   },
   {
    "duration": 40,
    "start_time": "2024-06-14T09:03:19.495Z"
   },
   {
    "duration": 17,
    "start_time": "2024-06-14T09:03:19.536Z"
   },
   {
    "duration": 39,
    "start_time": "2024-06-14T09:03:19.554Z"
   },
   {
    "duration": 33,
    "start_time": "2024-06-14T09:03:19.595Z"
   },
   {
    "duration": 11,
    "start_time": "2024-06-14T09:03:19.629Z"
   },
   {
    "duration": 13,
    "start_time": "2024-06-14T09:03:19.642Z"
   },
   {
    "duration": 14,
    "start_time": "2024-06-14T09:03:19.656Z"
   },
   {
    "duration": 30,
    "start_time": "2024-06-14T09:03:19.671Z"
   },
   {
    "duration": 1329,
    "start_time": "2024-06-14T09:03:19.703Z"
   },
   {
    "duration": 22,
    "start_time": "2024-06-14T09:03:21.033Z"
   },
   {
    "duration": 1427,
    "start_time": "2024-06-14T09:03:21.056Z"
   },
   {
    "duration": 33,
    "start_time": "2024-06-14T09:03:22.487Z"
   },
   {
    "duration": 19,
    "start_time": "2024-06-14T09:03:22.522Z"
   },
   {
    "duration": 1303,
    "start_time": "2024-06-14T09:03:22.542Z"
   },
   {
    "duration": 3,
    "start_time": "2024-06-14T09:03:23.846Z"
   },
   {
    "duration": 4384,
    "start_time": "2024-06-14T09:03:23.850Z"
   },
   {
    "duration": 18,
    "start_time": "2024-06-14T09:03:28.236Z"
   },
   {
    "duration": 95,
    "start_time": "2024-06-14T09:03:28.256Z"
   },
   {
    "duration": 7,
    "start_time": "2024-06-14T09:03:28.353Z"
   },
   {
    "duration": 32,
    "start_time": "2024-06-14T09:03:28.361Z"
   },
   {
    "duration": 32,
    "start_time": "2024-06-14T09:03:28.394Z"
   },
   {
    "duration": 3,
    "start_time": "2024-06-14T09:03:37.940Z"
   },
   {
    "duration": 125,
    "start_time": "2024-06-14T09:03:41.025Z"
   },
   {
    "duration": 3,
    "start_time": "2024-06-14T09:03:50.351Z"
   },
   {
    "duration": 3,
    "start_time": "2024-06-14T09:03:53.087Z"
   },
   {
    "duration": 3,
    "start_time": "2024-06-14T09:03:59.126Z"
   },
   {
    "duration": 3,
    "start_time": "2024-06-14T09:04:01.176Z"
   },
   {
    "duration": 6631,
    "start_time": "2024-06-14T09:04:04.087Z"
   },
   {
    "duration": 2,
    "start_time": "2024-06-14T09:04:17.184Z"
   },
   {
    "duration": 64,
    "start_time": "2024-06-14T09:04:21.187Z"
   },
   {
    "duration": 3,
    "start_time": "2024-06-14T09:04:23.017Z"
   },
   {
    "duration": 462041,
    "start_time": "2024-06-14T09:04:24.270Z"
   },
   {
    "duration": 2,
    "start_time": "2024-06-14T09:12:06.313Z"
   },
   {
    "duration": 27,
    "start_time": "2024-06-14T09:12:06.316Z"
   },
   {
    "duration": 746619,
    "start_time": "2024-06-14T09:12:06.344Z"
   },
   {
    "duration": 3,
    "start_time": "2024-06-14T09:24:32.965Z"
   },
   {
    "duration": 148,
    "start_time": "2024-06-14T09:24:32.969Z"
   },
   {
    "duration": 79118,
    "start_time": "2024-06-14T09:24:33.119Z"
   },
   {
    "duration": 9,
    "start_time": "2024-06-14T09:25:52.238Z"
   },
   {
    "duration": 14,
    "start_time": "2024-06-14T09:25:52.249Z"
   },
   {
    "duration": 544,
    "start_time": "2024-06-14T09:25:52.265Z"
   },
   {
    "duration": 279,
    "start_time": "2024-06-14T09:40:27.390Z"
   },
   {
    "duration": 5318,
    "start_time": "2024-06-14T14:57:29.528Z"
   },
   {
    "duration": 2,
    "start_time": "2024-06-14T14:57:34.849Z"
   },
   {
    "duration": 2662,
    "start_time": "2024-06-14T14:57:34.852Z"
   },
   {
    "duration": 39,
    "start_time": "2024-06-14T14:57:37.517Z"
   },
   {
    "duration": 27,
    "start_time": "2024-06-14T14:57:37.558Z"
   },
   {
    "duration": 6,
    "start_time": "2024-06-14T14:57:37.587Z"
   },
   {
    "duration": 4,
    "start_time": "2024-06-14T14:57:37.612Z"
   },
   {
    "duration": 421,
    "start_time": "2024-06-14T14:57:37.617Z"
   },
   {
    "duration": 3,
    "start_time": "2024-06-14T14:57:38.039Z"
   },
   {
    "duration": 194,
    "start_time": "2024-06-14T14:57:38.044Z"
   },
   {
    "duration": 34,
    "start_time": "2024-06-14T14:57:38.239Z"
   },
   {
    "duration": 28,
    "start_time": "2024-06-14T14:57:38.274Z"
   },
   {
    "duration": 36,
    "start_time": "2024-06-14T14:57:38.304Z"
   },
   {
    "duration": 16,
    "start_time": "2024-06-14T14:57:38.341Z"
   },
   {
    "duration": 55,
    "start_time": "2024-06-14T14:57:38.358Z"
   },
   {
    "duration": 15,
    "start_time": "2024-06-14T14:57:38.414Z"
   },
   {
    "duration": 35,
    "start_time": "2024-06-14T14:57:38.431Z"
   },
   {
    "duration": 22,
    "start_time": "2024-06-14T14:57:38.468Z"
   },
   {
    "duration": 46,
    "start_time": "2024-06-14T14:57:38.492Z"
   },
   {
    "duration": 25,
    "start_time": "2024-06-14T14:57:38.540Z"
   },
   {
    "duration": 11,
    "start_time": "2024-06-14T14:57:38.567Z"
   },
   {
    "duration": 31,
    "start_time": "2024-06-14T14:57:38.579Z"
   },
   {
    "duration": 41,
    "start_time": "2024-06-14T14:57:38.612Z"
   },
   {
    "duration": 31,
    "start_time": "2024-06-14T14:57:38.655Z"
   },
   {
    "duration": 1418,
    "start_time": "2024-06-14T14:57:38.687Z"
   },
   {
    "duration": 27,
    "start_time": "2024-06-14T14:57:40.107Z"
   },
   {
    "duration": 1338,
    "start_time": "2024-06-14T14:57:40.135Z"
   },
   {
    "duration": 24,
    "start_time": "2024-06-14T14:57:41.475Z"
   },
   {
    "duration": 27,
    "start_time": "2024-06-14T14:57:41.501Z"
   },
   {
    "duration": 1243,
    "start_time": "2024-06-14T14:57:41.530Z"
   },
   {
    "duration": 3,
    "start_time": "2024-06-14T14:57:42.774Z"
   },
   {
    "duration": 4498,
    "start_time": "2024-06-14T14:57:42.778Z"
   },
   {
    "duration": 19,
    "start_time": "2024-06-14T14:57:47.277Z"
   },
   {
    "duration": 91,
    "start_time": "2024-06-14T14:57:47.297Z"
   },
   {
    "duration": 9,
    "start_time": "2024-06-14T14:57:47.389Z"
   },
   {
    "duration": 22,
    "start_time": "2024-06-14T14:57:47.399Z"
   },
   {
    "duration": 23,
    "start_time": "2024-06-14T14:57:47.422Z"
   },
   {
    "duration": 3,
    "start_time": "2024-06-14T14:57:54.693Z"
   },
   {
    "duration": 122,
    "start_time": "2024-06-14T14:57:55.619Z"
   },
   {
    "duration": 2,
    "start_time": "2024-06-14T14:58:19.970Z"
   },
   {
    "duration": 3,
    "start_time": "2024-06-14T14:58:25.078Z"
   },
   {
    "duration": 2,
    "start_time": "2024-06-14T14:58:26.832Z"
   },
   {
    "duration": 3,
    "start_time": "2024-06-14T14:58:30.694Z"
   },
   {
    "duration": 1070,
    "start_time": "2024-06-14T14:58:31.497Z"
   },
   {
    "duration": 3,
    "start_time": "2024-06-14T14:59:25.258Z"
   },
   {
    "duration": 3,
    "start_time": "2024-06-14T14:59:26.068Z"
   },
   {
    "duration": 2,
    "start_time": "2024-06-14T14:59:26.477Z"
   },
   {
    "duration": 2,
    "start_time": "2024-06-14T14:59:27.510Z"
   },
   {
    "duration": 2,
    "start_time": "2024-06-14T14:59:28.640Z"
   },
   {
    "duration": 1026,
    "start_time": "2024-06-14T14:59:29.341Z"
   },
   {
    "duration": 3,
    "start_time": "2024-06-14T14:59:54.445Z"
   },
   {
    "duration": 3,
    "start_time": "2024-06-14T14:59:55.122Z"
   },
   {
    "duration": 3,
    "start_time": "2024-06-14T14:59:55.609Z"
   },
   {
    "duration": 3,
    "start_time": "2024-06-14T14:59:56.681Z"
   },
   {
    "duration": 3,
    "start_time": "2024-06-14T14:59:57.316Z"
   },
   {
    "duration": 1388,
    "start_time": "2024-06-14T15:01:53.455Z"
   },
   {
    "duration": 3,
    "start_time": "2024-06-14T15:01:54.844Z"
   },
   {
    "duration": 788,
    "start_time": "2024-06-14T15:01:54.848Z"
   },
   {
    "duration": 36,
    "start_time": "2024-06-14T15:01:55.638Z"
   },
   {
    "duration": 18,
    "start_time": "2024-06-14T15:01:55.676Z"
   },
   {
    "duration": 6,
    "start_time": "2024-06-14T15:01:55.712Z"
   },
   {
    "duration": 23,
    "start_time": "2024-06-14T15:01:55.719Z"
   },
   {
    "duration": 436,
    "start_time": "2024-06-14T15:01:55.744Z"
   },
   {
    "duration": 1,
    "start_time": "2024-06-14T15:01:56.182Z"
   },
   {
    "duration": 197,
    "start_time": "2024-06-14T15:01:56.186Z"
   },
   {
    "duration": 40,
    "start_time": "2024-06-14T15:01:56.384Z"
   },
   {
    "duration": 16,
    "start_time": "2024-06-14T15:01:56.426Z"
   },
   {
    "duration": 32,
    "start_time": "2024-06-14T15:01:56.444Z"
   },
   {
    "duration": 34,
    "start_time": "2024-06-14T15:01:56.478Z"
   },
   {
    "duration": 44,
    "start_time": "2024-06-14T15:01:56.514Z"
   },
   {
    "duration": 15,
    "start_time": "2024-06-14T15:01:56.560Z"
   },
   {
    "duration": 55,
    "start_time": "2024-06-14T15:01:56.577Z"
   },
   {
    "duration": 16,
    "start_time": "2024-06-14T15:01:56.634Z"
   },
   {
    "duration": 37,
    "start_time": "2024-06-14T15:01:56.651Z"
   },
   {
    "duration": 27,
    "start_time": "2024-06-14T15:01:56.689Z"
   },
   {
    "duration": 4,
    "start_time": "2024-06-14T15:01:56.718Z"
   },
   {
    "duration": 11,
    "start_time": "2024-06-14T15:01:56.724Z"
   },
   {
    "duration": 11,
    "start_time": "2024-06-14T15:01:56.737Z"
   },
   {
    "duration": 31,
    "start_time": "2024-06-14T15:01:56.750Z"
   },
   {
    "duration": 1397,
    "start_time": "2024-06-14T15:01:56.782Z"
   },
   {
    "duration": 38,
    "start_time": "2024-06-14T15:01:58.180Z"
   },
   {
    "duration": 1355,
    "start_time": "2024-06-14T15:01:58.219Z"
   },
   {
    "duration": 34,
    "start_time": "2024-06-14T15:01:59.578Z"
   },
   {
    "duration": 25,
    "start_time": "2024-06-14T15:01:59.614Z"
   },
   {
    "duration": 1245,
    "start_time": "2024-06-14T15:01:59.640Z"
   },
   {
    "duration": 2,
    "start_time": "2024-06-14T15:02:00.887Z"
   },
   {
    "duration": 4588,
    "start_time": "2024-06-14T15:02:00.891Z"
   },
   {
    "duration": 12,
    "start_time": "2024-06-14T15:02:05.481Z"
   },
   {
    "duration": 114,
    "start_time": "2024-06-14T15:02:05.494Z"
   },
   {
    "duration": 9,
    "start_time": "2024-06-14T15:02:05.609Z"
   },
   {
    "duration": 24,
    "start_time": "2024-06-14T15:02:05.619Z"
   },
   {
    "duration": 33,
    "start_time": "2024-06-14T15:02:05.644Z"
   },
   {
    "duration": 4,
    "start_time": "2024-06-14T15:02:05.678Z"
   },
   {
    "duration": 16,
    "start_time": "2024-06-14T15:02:05.683Z"
   },
   {
    "duration": 25,
    "start_time": "2024-06-14T15:02:05.700Z"
   },
   {
    "duration": 9,
    "start_time": "2024-06-14T15:02:05.727Z"
   },
   {
    "duration": 10,
    "start_time": "2024-06-14T15:02:05.737Z"
   },
   {
    "duration": 122381,
    "start_time": "2024-06-14T15:02:05.749Z"
   },
   {
    "duration": 2,
    "start_time": "2024-06-14T15:04:08.132Z"
   },
   {
    "duration": 2,
    "start_time": "2024-06-14T15:04:15.372Z"
   },
   {
    "duration": 70,
    "start_time": "2024-06-14T15:04:16.742Z"
   },
   {
    "duration": 3,
    "start_time": "2024-06-14T15:04:17.334Z"
   },
   {
    "duration": 79679,
    "start_time": "2024-06-14T15:04:17.933Z"
   },
   {
    "duration": 3,
    "start_time": "2024-06-14T15:05:37.614Z"
   },
   {
    "duration": 26,
    "start_time": "2024-06-14T15:05:37.618Z"
   },
   {
    "duration": 773008,
    "start_time": "2024-06-14T15:05:37.646Z"
   },
   {
    "duration": 3,
    "start_time": "2024-06-14T15:18:30.655Z"
   },
   {
    "duration": 36,
    "start_time": "2024-06-14T15:18:30.659Z"
   },
   {
    "duration": 90054,
    "start_time": "2024-06-14T15:18:30.697Z"
   },
   {
    "duration": 8,
    "start_time": "2024-06-14T15:20:00.753Z"
   },
   {
    "duration": 19,
    "start_time": "2024-06-14T15:20:00.763Z"
   },
   {
    "duration": 536,
    "start_time": "2024-06-14T15:20:00.784Z"
   },
   {
    "duration": 60,
    "start_time": "2024-06-14T16:34:51.803Z"
   },
   {
    "duration": 63,
    "start_time": "2024-06-14T16:35:00.658Z"
   },
   {
    "duration": 4,
    "start_time": "2024-06-14T16:35:10.962Z"
   }
  ],
  "kernelspec": {
   "display_name": "Python 3 (ipykernel)",
   "language": "python",
   "name": "python3"
  },
  "language_info": {
   "codemirror_mode": {
    "name": "ipython",
    "version": 3
   },
   "file_extension": ".py",
   "mimetype": "text/x-python",
   "name": "python",
   "nbconvert_exporter": "python",
   "pygments_lexer": "ipython3",
   "version": "3.9.5"
  },
  "toc": {
   "base_numbering": 1,
   "nav_menu": {},
   "number_sections": true,
   "sideBar": true,
   "skip_h1_title": true,
   "title_cell": "Table of Contents",
   "title_sidebar": "Contents",
   "toc_cell": false,
   "toc_position": {
    "height": "calc(100% - 180px)",
    "left": "10px",
    "top": "150px",
    "width": "307.188px"
   },
   "toc_section_display": true,
   "toc_window_display": false
  }
 },
 "nbformat": 4,
 "nbformat_minor": 2
}
